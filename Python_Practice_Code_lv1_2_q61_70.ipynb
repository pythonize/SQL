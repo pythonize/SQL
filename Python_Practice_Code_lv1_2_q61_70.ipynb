{
  "nbformat": 4,
  "nbformat_minor": 0,
  "metadata": {
    "colab": {
      "provenance": [],
      "authorship_tag": "ABX9TyNGtVFWfT+6/pfA93xBGCad"
    },
    "kernelspec": {
      "name": "python3",
      "display_name": "Python 3"
    },
    "language_info": {
      "name": "python"
    }
  },
  "cells": [
    {
      "cell_type": "markdown",
      "source": [
        "# **61. 점프와 순간이동(250205)**"
      ],
      "metadata": {
        "id": "v9AcVupL9rZP"
      }
    },
    {
      "cell_type": "code",
      "execution_count": null,
      "metadata": {
        "id": "42iFSis6wP4E"
      },
      "outputs": [],
      "source": [
        "def solution(n):\n",
        "    return bin(n).count('1')"
      ]
    },
    {
      "cell_type": "markdown",
      "source": [
        "✅ 설명:\n",
        "\n",
        "bin(n): n을 이진수 문자열로 변환 (예: bin(5) -> '0b101')\n",
        "\n",
        "count('1'): 이진수에서 1의 개수를 세어 반환.\n",
        "\n",
        "✅ 시간 복잡도:\n",
        "\n",
        "bin(n): O(log N)\n",
        "\n",
        "count('1'): O(log N)\n",
        "\n",
        "➡ 총 O(log N) 으로 매우 빠름."
      ],
      "metadata": {
        "id": "8FiAZSjz9x_x"
      }
    },
    {
      "cell_type": "markdown",
      "source": [
        "# **62. 멀리 뛰기(250206)**"
      ],
      "metadata": {
        "id": "g_hQILvoyVyW"
      }
    },
    {
      "cell_type": "code",
      "source": [
        "def solution(n):\n",
        "    a, b = 1, 2  # 첫 번째와 두 번째 경우의 수 설정\n",
        "    if n == 1:\n",
        "        return 1  # n이 1이면 1 반환\n",
        "    elif n == 2:\n",
        "        return 2  # n이 2이면 2 반환\n",
        "\n",
        "    for _ in range(3, n + 1):  # 3부터 n까지 반복 (피보나치 점화식 적용)\n",
        "        a, b = b, (a + b) % 1234567  # 나머지 연산 적용 (오버플로우 방지)\n",
        "    return b  # 최종 결과 반환"
      ],
      "metadata": {
        "id": "MSYdfsZK9zuH"
      },
      "execution_count": null,
      "outputs": []
    },
    {
      "cell_type": "code",
      "source": [
        "def solution(n):\n",
        "    a, b = 1, 2  # 초기 값 설정\n",
        "    for _ in range(n - 1):  # n-1번 반복\n",
        "        a, b = b, (a + b) % 1234567  # 점화식 적용\n",
        "    return a  # 최종적으로 a가 정답"
      ],
      "metadata": {
        "id": "tG79E_gIyZQZ"
      },
      "execution_count": null,
      "outputs": []
    },
    {
      "cell_type": "markdown",
      "source": [
        "# **63. N개의 최소공배수(250210)**"
      ],
      "metadata": {
        "id": "1beGhckfsKeb"
      }
    },
    {
      "cell_type": "code",
      "source": [
        "import math\n",
        "from functools import reduce\n",
        "\n",
        "# 두 숫자의 최소공배수 (LCM) 계산 함수\n",
        "def lcm(a, b):\n",
        "    return a * b // math.gcd(a, b)\n",
        "\n",
        "# 리스트의 최소공배수 계산 함수\n",
        "def lcm_list(numbers):\n",
        "    return reduce(lcm, numbers)\n",
        "\n",
        "# 예제 리스트\n",
        "numbers = [12, 18, 24]\n",
        "\n",
        "# 최소공배수 계산\n",
        "lcm_result = lcm_list(numbers)\n",
        "print(lcm_result)  # 출력: 72"
      ],
      "metadata": {
        "colab": {
          "base_uri": "https://localhost:8080/"
        },
        "id": "jhBDotJzsKvz",
        "outputId": "029badfa-72d2-4e32-f694-714f9a0c85f6"
      },
      "execution_count": null,
      "outputs": [
        {
          "output_type": "stream",
          "name": "stdout",
          "text": [
            "72\n"
          ]
        }
      ]
    },
    {
      "cell_type": "code",
      "source": [
        "def solution(arr):\n",
        "  return math.lcm(*arr)\n",
        "  # * 별표를 추가함으로써 리스트를 언패킹 가능.(딕셔너리의 경우 * 두개)"
      ],
      "metadata": {
        "id": "jPEc4ODrsNOn"
      },
      "execution_count": null,
      "outputs": []
    },
    {
      "cell_type": "code",
      "source": [
        "import math\n",
        "\n",
        "def nlcm(num):  # 여러 개의 숫자의 최소공배수(LCD)를 구하는 함수\n",
        "    answer = num[0]  # 리스트의 첫 번째 요소를 초기 최소공배수 값으로 설정\n",
        "    for n in num:  # 리스트의 모든 숫자에 대해 반복\n",
        "        answer = n * answer / gcd(n, answer)  # 두 수의 최소공배수를 계산하여 answer 업데이트\n",
        "    return answer  # 최종 최소공배수 반환"
      ],
      "metadata": {
        "id": "ySMCzFlBsbLX"
      },
      "execution_count": null,
      "outputs": []
    },
    {
      "cell_type": "markdown",
      "source": [
        "# **64. 영어 끝말잇기(250211)**"
      ],
      "metadata": {
        "id": "tkRM0c-_EQsV"
      }
    },
    {
      "cell_type": "code",
      "source": [
        "import math\n",
        "\n",
        "def solution(n, words):\n",
        "    stack = [words[0]]\n",
        "    count = 1\n",
        "    for i in words[1:]:\n",
        "      count += 1\n",
        "      if i not in stack and stack[-1][-1] == i[0]:\n",
        "        stack.append(i)\n",
        "      elif i in stack or stack[-1][-1] != i[0]:\n",
        "        return [n if count%n == 0 else count%n, math.ceil(count/n)]\n",
        "    return [0, 0]"
      ],
      "metadata": {
        "id": "Sz5zozS_ERC7"
      },
      "execution_count": null,
      "outputs": []
    },
    {
      "cell_type": "markdown",
      "source": [
        "# **65. [1차] 비밀지도 (250212)** - 일부 오답으로 검색 사용"
      ],
      "metadata": {
        "id": "z4IqhNGPug9B"
      }
    },
    {
      "cell_type": "code",
      "source": [
        "def solution(n, arr1, arr2):\n",
        "    answer = []\n",
        "    for a, b in zip(arr1, arr2):  # arr1과 arr2에서 같은 인덱스의 값을 하나씩 가져옴\n",
        "        merged_bin = bin(a | b)[2:].zfill(n)  # 비트 OR 연산 후 이진수로 변환하고, 길이를 n에 맞추기 위해 0으로 채움\n",
        "        row = \"\"  # 각 행에 대한 결과 문자열 초기화\n",
        "        for bit in merged_bin:  # 이진수 각 비트에 대해 반복\n",
        "            if bit == '1':  # 비트가 1일 경우, 벽(#)을 추가\n",
        "                row += \"#\"\n",
        "            else:  # 비트가 0일 경우, 공백을 추가\n",
        "                row += \" \"\n",
        "        answer.append(row)  # 완성된 한 줄을 answer에 추가\n",
        "    return answer"
      ],
      "metadata": {
        "id": "yyps0CPruhVK"
      },
      "execution_count": null,
      "outputs": []
    },
    {
      "cell_type": "code",
      "source": [
        "# 1. 비트 OR (Bitwise OR) 연산 원리\n",
        "# 비트 OR 연산은 두 이진수 숫자의 각 자리에 대해 \"OR\" 연산을 수행하는 방법입니다. 각 자리에서 하나라도 1이 있으면 그 결과는 1이고, 둘 다 0이면 결과는 0입니다.\n",
        "\n",
        "# OR 연산의 규칙:\n",
        "\n",
        "# 1 | 1 = 1\n",
        "# 1 | 0 = 1\n",
        "# 0 | 1 = 1\n",
        "# 0 | 0 = 0\n",
        "# 예시:\n",
        "\n",
        "# a = 5, b = 3일 때, a | b를 계산한다고 해봅시다.\n",
        "# 이진수로 변환하면:\n",
        "# a = 5 → 101 (이진수)\n",
        "# b = 3 → 011 (이진수)\n",
        "# 비트 OR 연산:\n",
        "# 101 | 011 → 111\n",
        "# 결과는 111이므로, 5 | 3 = 7입니다.\n",
        "# 비트 OR 연산은 비트 단위로 두 값을 비교하여 결과를 만들어 내므로, 각 비트 자리에서만 작동합니다. 주로 비트 마스크나 상태를 설정할 때 사용됩니다."
      ],
      "metadata": {
        "id": "-5-w9oYmuq0a"
      },
      "execution_count": null,
      "outputs": []
    },
    {
      "cell_type": "code",
      "source": [
        "# 2. zfill() 함수 원리\n",
        "# zfill()은 문자열의 길이를 지정된 길이만큼 맞추기 위해 왼쪽에 0을 추가하는 함수입니다. 만약 문자열의 길이가 지정된 길이보다 짧으면, 부족한 길이를 0으로 채웁니다.\n",
        "\n",
        "# 사용법:\n",
        "\n",
        "# python\n",
        "# 복사\n",
        "# 편집\n",
        "# string.zfill(width)\n",
        "# string: 원래 문자열\n",
        "# width: 결과 문자열의 길이\n",
        "# 예시:\n",
        "\n",
        "# python\n",
        "# 복사\n",
        "# 편집\n",
        "# '42'.zfill(5)\n",
        "# 문자열 '42'는 길이가 2이므로, 길이를 5로 맞추기 위해 왼쪽에 0을 3개 추가합니다.\n",
        "# 결과: '00042'\n",
        "# 원리:\n",
        "\n",
        "# zfill()은 문자열의 길이를 width로 맞추기 위해 왼쪽에 0을 추가합니다. 만약 이미 문자열의 길이가 width보다 크거나 같으면 아무런 변화가 없습니다."
      ],
      "metadata": {
        "id": "stMCcCyPusmv"
      },
      "execution_count": null,
      "outputs": []
    },
    {
      "cell_type": "code",
      "source": [
        "def solution(n, arr1, arr2):\n",
        "    answer = []\n",
        "    for i, j in zip(arr1, arr2):  # arr1과 arr2에서 같은 인덱스의 값을 하나씩 가져옴\n",
        "        a12 = str(bin(i | j)[2:])  # 비트 OR 연산 후 이진수로 변환하고, '0b' 접두어 제거\n",
        "        a12 = a12.rjust(n, '0')  # 길이를 n으로 맞추기 위해 왼쪽에 0을 채움\n",
        "        a12 = a12.replace('1', '#')  # 1은 벽(#)으로 바꿈\n",
        "        a12 = a12.replace('0', ' ')  # 0은 공백으로 바꿈\n",
        "        answer.append(a12)  # 변환된 한 줄을 answer에 추가\n",
        "    return answer"
      ],
      "metadata": {
        "id": "-tDW9nwPuxZx"
      },
      "execution_count": null,
      "outputs": []
    },
    {
      "cell_type": "code",
      "source": [
        "# 3. rjust() 함수 원리\n",
        "# rjust()는 문자열의 길이를 지정된 길이로 맞추기 위해 문자열의 오른쪽에 다른 문자를 추가하는 함수입니다. 기본적으로 왼쪽에 문자를 추가하지만, fillchar 매개변수로 다른 문자도 지정할 수 있습니다.\n",
        "\n",
        "# 사용법:\n",
        "\n",
        "# python\n",
        "# 복사\n",
        "# 편집\n",
        "# string.rjust(width, fillchar)\n",
        "# string: 원래 문자열\n",
        "# width: 최종적으로 만들고자 하는 문자열의 길이\n",
        "# fillchar: (선택사항) 채울 문자를 지정. 기본값은 공백(' ').\n",
        "# 예시:\n",
        "\n",
        "# python\n",
        "# 복사\n",
        "# 편집\n",
        "# '42'.rjust(5, '0')\n",
        "# 문자열 '42'는 길이가 2이므로, 길이를 5로 맞추기 위해 오른쪽에 0을 3개 추가합니다.\n",
        "# 결과: '00042'\n",
        "# 원리:\n",
        "\n",
        "# rjust()는 문자열의 길이가 width보다 짧을 때, 부족한 길이를 fillchar로 채우는 방식입니다. 기본적으로 왼쪽에 채우고, fillchar로 다른 문자도 사용할 수 있습니다."
      ],
      "metadata": {
        "id": "klo2ggmDu3cg"
      },
      "execution_count": null,
      "outputs": []
    },
    {
      "cell_type": "code",
      "source": [
        "import re\n",
        "\n",
        "def solution(n, arr1, arr2):\n",
        "    answer = [\"#\"] * n  # 전체 지도는 벽으로 초기화\n",
        "    for i in range(0, n):  # 각 행에 대해 반복\n",
        "        answer[i] = str(bin(arr1[i] | arr2[i]))[2:]  # 비트 OR 연산 후 이진수로 변환하고 '0b' 접두어 제거\n",
        "        answer[i] = re.sub('1', '#', '0' * (n - len(answer[i])) + answer[i])  # 길이를 n으로 맞추기 위해 왼쪽에 0을 채움\n",
        "        answer[i] = re.sub('0', ' ', answer[i])  # 0은 공백으로 바꿈\n",
        "    return answer"
      ],
      "metadata": {
        "id": "9WYvNAZRu5oh"
      },
      "execution_count": null,
      "outputs": []
    },
    {
      "cell_type": "code",
      "source": [
        "# 4. re.sub()를 사용한 문자열 변환 원리\n",
        "# re.sub('1', '#', '0' * (n - len(answer[i])) + answer[i])\n",
        "# 이 부분은 두 가지 작업을 합니다:\n",
        "\n",
        "# 길이 맞추기 ('0' * (n - len(answer[i])) + answer[i]):\n",
        "# n - len(answer[i]): 현재 문자열 answer[i]의 길이를 n으로 맞추기 위해 얼마나 부족한지 계산합니다.\n",
        "# '0' * (n - len(answer[i])): 부족한 길이만큼 '0'을 생성합니다.\n",
        "# '0' * (n - len(answer[i])) + answer[i]: 생성된 '0'들을 원래 문자열 answer[i] 앞에 덧붙여서, 길이를 n으로 맞추는 과정입니다.\n",
        "# 1을 '#'으로 바꾸기 (re.sub('1', '#', ...)):\n",
        "# re.sub('1', '#', ...): 정규 표현식 re.sub() 함수는 문자열 내에서 특정 패턴을 찾아 바꾸는 기능을 합니다. 여기서 '1'을 '#'으로 바꿉니다.\n",
        "# 이 과정은 문자열 내의 모든 1을 #으로 바꾸는 작업을 수행합니다.\n",
        "# re.sub('0', ' ', answer[i])\n",
        "# re.sub('0', ' ', answer[i]): answer[i]에서 0을 공백 ' '으로 바꿉니다.\n",
        "# 이 과정을 통해 0은 공백으로, 1은 #으로 바꾸어, 비밀지도에서 벽과 빈 공간을 나타내는 형식으로 변환됩니다.\n",
        "# 전체적으로 어떻게 작동하는지\n",
        "# 우선 answer[i]에 대해, 길이가 n이 되도록 왼쪽에 0을 채운다.\n",
        "# 그 후, 각 자리의 1은 #으로, 0은 공백 ' '으로 변환한다.\n",
        "# 이 과정은 비트 OR 연산 후 나온 이진 문자열을 비밀지도에서 벽과 공백을 표현하는 형태로 변환하는 과정입니다."
      ],
      "metadata": {
        "id": "Uekt1B1qu8wZ"
      },
      "execution_count": null,
      "outputs": []
    },
    {
      "cell_type": "markdown",
      "source": [
        "# **66. 귤 고르기(250213)**"
      ],
      "metadata": {
        "id": "CDr7OpuR_b_t"
      }
    },
    {
      "cell_type": "markdown",
      "source": [
        "내코드 most common 사용"
      ],
      "metadata": {
        "id": "FcXfTIhV_hBs"
      }
    },
    {
      "cell_type": "code",
      "source": [
        "from collections import Counter\n",
        "\n",
        "def solution(k, tangerine):\n",
        "    answer = 0\n",
        "    counted_data = Counter(tangerine)\n",
        "    grouped_list = [[key] * value for key, value in counted_data.most_common()]\n",
        "    while True:\n",
        "      if k < len(grouped_list[answer]):\n",
        "        answer += 1\n",
        "        break\n",
        "      else:\n",
        "        k -= len(grouped_list[answer])\n",
        "        answer += 1\n",
        "        if k <= 0:\n",
        "          break\n",
        "    return answer"
      ],
      "metadata": {
        "id": "vqMaOmom_cYG"
      },
      "execution_count": null,
      "outputs": []
    },
    {
      "cell_type": "markdown",
      "source": [
        "data value() 함수 사용"
      ],
      "metadata": {
        "id": "ouUT34ad_kOw"
      }
    },
    {
      "cell_type": "code",
      "source": [
        "from collections import Counter\n",
        "\n",
        "def solution(k, tangerine):\n",
        "    answer = 0\n",
        "    counted_data = Counter(tangerine)\n",
        "\n",
        "    # 귤 크기별 개수를 내림차순 정렬\n",
        "    sorted_counts = sorted(counted_data.values(), reverse=True)\n",
        "\n",
        "    # 개수를 하나씩 빼면서 k개를 채울 때까지 진행\n",
        "    for count in sorted_counts:\n",
        "        k -= count\n",
        "        answer += 1\n",
        "        if k <= 0:\n",
        "            break\n",
        "\n",
        "    return answer"
      ],
      "metadata": {
        "id": "AxLvaJpE_j61"
      },
      "execution_count": null,
      "outputs": []
    },
    {
      "cell_type": "code",
      "source": [
        "import collections\n",
        "\n",
        "def solution(k, tangerine):\n",
        "    answer = 0\n",
        "    cnt = collections.Counter(tangerine)  # 귤 크기별 개수 세기 (O(N))\n",
        "\n",
        "    # 귤 개수를 내림차순 정렬 (O(K log K))\n",
        "    for v in sorted(cnt.values(), reverse=True):\n",
        "        k -= v  # 가장 많이 나온 귤부터 k에서 차감\n",
        "        answer += 1  # 사용한 귤 종류 수 증가\n",
        "        if k <= 0:  # k개를 다 채우면 종료\n",
        "            break\n",
        "    return answer"
      ],
      "metadata": {
        "id": "Fs-yoqYv_4JX"
      },
      "execution_count": null,
      "outputs": []
    },
    {
      "cell_type": "markdown",
      "source": [
        "# **67. 카드 뭉치(250217)**"
      ],
      "metadata": {
        "id": "VXf6JSpYu7UY"
      }
    },
    {
      "cell_type": "code",
      "source": [
        "from collections import deque  # deque를 사용하여 pop 연산 최적화\n",
        "\n",
        "def solution(cards1, cards2, goal):\n",
        "    # cards1과 cards2를 deque로 변환하여 O(1) pop 연산 가능하도록 설정\n",
        "    card1_q = deque(cards1)\n",
        "    card2_q = deque(cards2)\n",
        "\n",
        "    for target in goal:  # goal 리스트의 단어를 하나씩 확인\n",
        "        if card1_q and card1_q[0] == target:  # cards1의 첫 번째 단어가 goal의 현재 단어와 같다면\n",
        "            card1_q.popleft()  # O(1) 연산으로 제거\n",
        "        elif card2_q and card2_q[0] == target:  # cards2의 첫 번째 단어가 goal의 현재 단어와 같다면\n",
        "            card2_q.popleft()  # O(1) 연산으로 제거\n",
        "        else:\n",
        "            return \"No\"  # 목표 단어를 만들 수 없는 경우 즉시 \"No\" 반환\n",
        "\n",
        "    return \"Yes\"  # 모든 단어를 순서대로 만들 수 있다면 \"Yes\" 반환"
      ],
      "metadata": {
        "id": "KhM2CV_Ou7oP"
      },
      "execution_count": null,
      "outputs": []
    },
    {
      "cell_type": "code",
      "source": [
        "def solution(cards1, cards2, goal):\n",
        "    for g in goal:  # goal의 단어를 하나씩 확인\n",
        "        if len(cards1) > 0 and g == cards1[0]:  # cards1의 첫 번째 단어가 g와 같다면\n",
        "            cards1.pop(0)  # 리스트에서 첫 번째 요소 제거 (비효율적)\n",
        "        elif len(cards2) > 0 and g == cards2[0]:  # cards2의 첫 번째 단어가 g와 같다면\n",
        "            cards2.pop(0)  # 리스트에서 첫 번째 요소 제거\n",
        "        else:\n",
        "            return \"No\"  # 순서가 맞지 않다면 \"No\" 반환\n",
        "    return \"Yes\"  # goal을 만들 수 있다면 \"Yes\" 반환"
      ],
      "metadata": {
        "id": "eASSO5Dmu_zy"
      },
      "execution_count": null,
      "outputs": []
    },
    {
      "cell_type": "markdown",
      "source": [
        "# **68. 추억 점수(250218)**"
      ],
      "metadata": {
        "id": "My35SSK_Z6is"
      }
    },
    {
      "cell_type": "code",
      "source": [
        "def solution(name, yearning, photo):\n",
        "    score = {a: b for a, b in zip(name, yearning)}  # 딕셔너리 생성 최적화\n",
        "    return [sum(score[j] for j in i if j in score) for i in photo]  # 리스트 내포와 sum() 활용"
      ],
      "metadata": {
        "id": "stY8Q2U0Z61U"
      },
      "execution_count": null,
      "outputs": []
    },
    {
      "cell_type": "code",
      "source": [
        "def solution(name, yearning, photo):\n",
        "    score = dict(zip(name, yearning))  # zip을 사용한 딕셔너리 생성\n",
        "    return [sum(score.get(p, 0) for p in pt) for pt in photo]  # get() 사용하여 키가 없을 때 기본값 0 반환"
      ],
      "metadata": {
        "id": "X4iqCF7FZ9aK"
      },
      "execution_count": null,
      "outputs": []
    },
    {
      "cell_type": "markdown",
      "source": [
        "# **69. 예상 대진표(250219)**"
      ],
      "metadata": {
        "id": "8blFgmzAcffg"
      }
    },
    {
      "cell_type": "code",
      "source": [
        "def solution(n, a, b):\n",
        "    answer = 0\n",
        "    while a != b:  # A와 B가 만날 때까지 반복\n",
        "        answer += 1\n",
        "        a = (a + 1) // 2  # 다음 라운드에서의 번호 (2로 나눈 몫을 올림)\n",
        "        b = (b + 1) // 2  # 다음 라운드에서의 번호 (2로 나눈 몫을 올림)\n",
        "    return answer"
      ],
      "metadata": {
        "id": "68220CFDcfy9"
      },
      "execution_count": null,
      "outputs": []
    },
    {
      "cell_type": "code",
      "source": [
        "def solution(n, a, b):\n",
        "    return (a ^ b).bit_length()"
      ],
      "metadata": {
        "id": "zFrwrTYRci-P"
      },
      "execution_count": null,
      "outputs": []
    },
    {
      "cell_type": "markdown",
      "source": [
        "🔹 코드 설명\n",
        "\n",
        "a와 b를 이진수로 변환한 뒤, XOR 연산 (^) 을 수행한다.\n",
        "\n",
        "XOR 연산을 하면 a와 b의 다른 비트만 1이 된다.\n",
        "\n",
        "bit_length()를 사용하면 XOR 결과값을 표현하는 데 필요한 비트 개수를 구할 수 있다.\n",
        "\n",
        "→ 즉, 최초로 A와 B가 다른 그룹에 배정되는 라운드 번호를 바로 알 수 있다.\n",
        "\n",
        "✅ 비트 연산을 활용한 이유\n",
        "\n",
        "a와 b가 토너먼트에서 대결하기 전까지는 항상 승리하며 각 라운드마다 번호가 반씩 줄어든다.\n",
        "\n",
        "따라서, 두 수의 이진수 표현에서 처음으로 다른 비트가 등장하는 위치가 바로 두 선수가 만나는 라운드이다."
      ],
      "metadata": {
        "id": "Y2Kvmoj7ck2X"
      }
    },
    {
      "cell_type": "markdown",
      "source": [
        "# **70. 연속 부분 수열 합의 개수(250221)**"
      ],
      "metadata": {
        "id": "m9RPyWFCG-jE"
      }
    },
    {
      "cell_type": "code",
      "source": [
        "def solution(elements):\n",
        "    n = len(elements)\n",
        "    extended = elements * 2  # 원형 수열 처리를 위해 두 배 확장\n",
        "    result = set()\n",
        "\n",
        "    for length in range(1, n + 1):  # 부분 수열 길이 1부터 n까지\n",
        "        for start in range(n):  # 시작 인덱스\n",
        "            result.add(sum(extended[start:start + length]))\n",
        "\n",
        "    return len(result)"
      ],
      "metadata": {
        "id": "NO2Sll2ScmmR"
      },
      "execution_count": null,
      "outputs": []
    },
    {
      "cell_type": "code",
      "source": [
        "def solution(elements):\n",
        "    ll = len(elements)  # 수열 길이\n",
        "    res = set()  # 중복 제거를 위한 set\n",
        "\n",
        "    for i in range(ll):  # 시작 위치\n",
        "        ssum = elements[i]  # 부분 수열의 첫 번째 값\n",
        "        res.add(ssum)  # 단일 원소도 가능한 부분 수열\n",
        "        for j in range(i + 1, i + ll):  # 부분 수열 확장\n",
        "            ssum += elements[j % ll]  # 원형 수열 처리 (모듈러 연산)\n",
        "            res.add(ssum)  # 합을 set에 추가\n",
        "    return len(res)"
      ],
      "metadata": {
        "id": "dHEy5lN7HIYG"
      },
      "execution_count": null,
      "outputs": []
    }
  ]
}