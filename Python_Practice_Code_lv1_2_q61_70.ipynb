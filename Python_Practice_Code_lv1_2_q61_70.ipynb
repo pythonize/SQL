{
  "nbformat": 4,
  "nbformat_minor": 0,
  "metadata": {
    "colab": {
      "provenance": [],
      "authorship_tag": "ABX9TyMVguDu69BLonkDSyvop7wR"
    },
    "kernelspec": {
      "name": "python3",
      "display_name": "Python 3"
    },
    "language_info": {
      "name": "python"
    }
  },
  "cells": [
    {
      "cell_type": "markdown",
      "source": [
        "# **61. 점프와 순간이동(250205)**"
      ],
      "metadata": {
        "id": "v9AcVupL9rZP"
      }
    },
    {
      "cell_type": "code",
      "execution_count": null,
      "metadata": {
        "id": "42iFSis6wP4E"
      },
      "outputs": [],
      "source": [
        "def solution(n):\n",
        "    return bin(n).count('1')"
      ]
    },
    {
      "cell_type": "markdown",
      "source": [
        "✅ 설명:\n",
        "\n",
        "bin(n): n을 이진수 문자열로 변환 (예: bin(5) -> '0b101')\n",
        "\n",
        "count('1'): 이진수에서 1의 개수를 세어 반환.\n",
        "\n",
        "✅ 시간 복잡도:\n",
        "\n",
        "bin(n): O(log N)\n",
        "\n",
        "count('1'): O(log N)\n",
        "\n",
        "➡ 총 O(log N) 으로 매우 빠름."
      ],
      "metadata": {
        "id": "8FiAZSjz9x_x"
      }
    },
    {
      "cell_type": "markdown",
      "source": [
        "# **62. 멀리 뛰기(250206)**"
      ],
      "metadata": {
        "id": "g_hQILvoyVyW"
      }
    },
    {
      "cell_type": "code",
      "source": [
        "def solution(n):\n",
        "    a, b = 1, 2  # 첫 번째와 두 번째 경우의 수 설정\n",
        "    if n == 1:\n",
        "        return 1  # n이 1이면 1 반환\n",
        "    elif n == 2:\n",
        "        return 2  # n이 2이면 2 반환\n",
        "\n",
        "    for _ in range(3, n + 1):  # 3부터 n까지 반복 (피보나치 점화식 적용)\n",
        "        a, b = b, (a + b) % 1234567  # 나머지 연산 적용 (오버플로우 방지)\n",
        "    return b  # 최종 결과 반환"
      ],
      "metadata": {
        "id": "MSYdfsZK9zuH"
      },
      "execution_count": null,
      "outputs": []
    },
    {
      "cell_type": "code",
      "source": [
        "def solution(n):\n",
        "    a, b = 1, 2  # 초기 값 설정\n",
        "    for _ in range(n - 1):  # n-1번 반복\n",
        "        a, b = b, (a + b) % 1234567  # 점화식 적용\n",
        "    return a  # 최종적으로 a가 정답"
      ],
      "metadata": {
        "id": "tG79E_gIyZQZ"
      },
      "execution_count": null,
      "outputs": []
    }
  ]
}