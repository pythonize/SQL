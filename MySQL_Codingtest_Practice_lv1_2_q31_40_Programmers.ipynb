{
  "nbformat": 4,
  "nbformat_minor": 0,
  "metadata": {
    "colab": {
      "provenance": [],
      "authorship_tag": "ABX9TyNzARr9biSzMuKg05Pn1GIi"
    },
    "kernelspec": {
      "name": "python3",
      "display_name": "Python 3"
    },
    "language_info": {
      "name": "python"
    }
  },
  "cells": [
    {
      "cell_type": "markdown",
      "source": [
        "# **31. 자동차 종류별 특정 옵션이 포함된 자동차 수 구하기(250227)(GROUP BY)**"
      ],
      "metadata": {
        "id": "xJLNpFzCtJbO"
      }
    },
    {
      "cell_type": "code",
      "execution_count": null,
      "metadata": {
        "id": "aGv0sD7GtB2B"
      },
      "outputs": [],
      "source": [
        "# 문제 설명\n",
        "# 다음은 어느 자동차 대여 회사에서 대여중인 자동차들의 정보를 담은 CAR_RENTAL_COMPANY_CAR 테이블입니다.\n",
        "# CAR_RENTAL_COMPANY_CAR 테이블은 아래와 같은 구조로 되어있으며, CAR_ID, CAR_TYPE, DAILY_FEE, OPTIONS 는\n",
        "# 각각 자동차 ID, 자동차 종류, 일일 대여 요금(원), 자동차 옵션 리스트를 나타냅니다.\n",
        "\n",
        "# Column name\tType\tNullable\n",
        "# CAR_ID\tINTEGER\tFALSE\n",
        "# CAR_TYPE\tVARCHAR(255)\tFALSE\n",
        "# DAILY_FEE\tINTEGER\tFALSE\n",
        "# OPTIONS\tVARCHAR(255)\tFALSE\n",
        "# 자동차 종류는 '세단', 'SUV', '승합차', '트럭', '리무진' 이 있습니다.\n",
        "# 자동차 옵션 리스트는 콤마(',')로 구분된 키워드 리스트(옵션 리스트 값 예시: '열선시트', '스마트키', '주차감지센서')로 되어있으며,\n",
        "# 키워드 종류는 '주차감지센서', '스마트키', '네비게이션', '통풍시트', '열선시트', '후방카메라', '가죽시트' 가 있습니다.\n",
        "\n",
        "# 문제\n",
        "# CAR_RENTAL_COMPANY_CAR 테이블에서 '통풍시트', '열선시트', '가죽시트' 중 하나 이상의 옵션이 포함된 자동차가\n",
        "# 자동차 종류 별로 몇 대인지 출력하는 SQL문을 작성해주세요.\n",
        "# 이때 자동차 수에 대한 컬럼명은 CARS로 지정하고, 결과는 자동차 종류를 기준으로 오름차순 정렬해주세요.\n",
        "\n",
        "# 예시\n",
        "# 예를 들어 CAR_RENTAL_COMPANY_CAR 테이블이 다음과 같다면\n",
        "\n",
        "# CAR_ID\tCAR_TYPE\tDAILY_FEE\tOPTIONS\n",
        "# 1\t세단\t16000\t가죽시트,열선시트,후방카메라\n",
        "# 2\tSUV\t14000\t스마트키,네비게이션,열선시트\n",
        "# 3\tSUV\t22000\t주차감지센서,후방카메라\n",
        "# 4\t트럭\t35000\t주차감지센서,네비게이션,열선시트\n",
        "# 5\tSUV\t16000\t가죽시트,네비게이션,열선시트,후방카메라,주차감지센서\n",
        "# '통풍시트', '열선시트', '가죽시트' 중 하나 이상의 옵션이 포함된 자동차는 자동차 ID가 1, 2, 4, 5인 자동차이고,\n",
        "# 자동차 종류 별로 몇 대인지 구하고 자동차 종류를 기준으로 오름차순 정렬하면 다음과 같은 결과가 나와야 합니다.\n",
        "\n",
        "# CAR_TYPE\tCARS\n",
        "# SUV\t2\n",
        "# 세단\t1\n",
        "# 트럭\t1"
      ]
    },
    {
      "cell_type": "markdown",
      "source": [
        "1) 내가 쓴 코드"
      ],
      "metadata": {
        "id": "KMv-P-o9tcwc"
      }
    },
    {
      "cell_type": "code",
      "source": [
        "# SELECT CAR_TYPE, COUNT(*) AS CARS\n",
        "# FROM CAR_RENTAL_COMPANY_CAR\n",
        "# WHERE OPTIONS LIKE '%통풍시트%'\n",
        "#    OR OPTIONS LIKE '%열선시트%'\n",
        "#    OR OPTIONS LIKE '%가죽시트%'\n",
        "# GROUP BY CAR_TYPE\n",
        "# ORDER BY CAR_TYPE;"
      ],
      "metadata": {
        "id": "N5KsPOSYteDg"
      },
      "execution_count": null,
      "outputs": []
    },
    {
      "cell_type": "markdown",
      "source": [
        "# **32. 조건에 맞는 도서와 저자 리스트 출력하기(250303)(JOIN)**"
      ],
      "metadata": {
        "id": "Y7Xvf5sofTAd"
      }
    },
    {
      "cell_type": "code",
      "source": [
        "# 문제 설명\n",
        "# 다음은 어느 한 서점에서 판매중인 도서들의 도서 정보(BOOK), 저자 정보(AUTHOR) 테이블입니다.\n",
        "\n",
        "# BOOK 테이블은 각 도서의 정보를 담은 테이블로 아래와 같은 구조로 되어있습니다.\n",
        "\n",
        "# Column name\tType\tNullable\tDescription\n",
        "# BOOK_ID\tINTEGER\tFALSE\t도서 ID\n",
        "# CATEGORY\tVARCHAR(N)\tFALSE\t카테고리 (경제, 인문, 소설, 생활, 기술)\n",
        "# AUTHOR_ID\tINTEGER\tFALSE\t저자 ID\n",
        "# PRICE\tINTEGER\tFALSE\t판매가 (원)\n",
        "# PUBLISHED_DATE\tDATE\tFALSE\t출판일\n",
        "# AUTHOR 테이블은 도서의 저자의 정보를 담은 테이블로 아래와 같은 구조로 되어있습니다.\n",
        "\n",
        "# Column name\tType\tNullable\tDescription\n",
        "# AUTHOR_ID\tINTEGER\tFALSE\t저자 ID\n",
        "# AUTHOR_NAME\tVARCHAR(N)\tFALSE\t저자명\n",
        "# 문제\n",
        "# '경제' 카테고리에 속하는 도서들의 도서 ID(BOOK_ID), 저자명(AUTHOR_NAME), 출판일(PUBLISHED_DATE) 리스트를 출력하는 SQL문을 작성해주세요.\n",
        "# 결과는 출판일을 기준으로 오름차순 정렬해주세요.\n",
        "\n",
        "# 예시\n",
        "# 예를 들어 BOOK 테이블과 AUTHOR 테이블이 다음과 같다면\n",
        "\n",
        "# BOOK_ID\tCATEGORY\tAUTHOR_ID\tPRICE\tPUBLISHED_DATE\n",
        "# 1\t인문\t1\t10000\t2020-01-01\n",
        "# 2\t경제\t1\t9000\t2021-04-11\n",
        "# 3\t경제\t2\t11000\t2021-02-05\n",
        "# AUTHOR_ID\tAUTHOR_NAME\n",
        "# 1\t홍길동\n",
        "# 2\t김영호\n",
        "# '경제' 카테고리에 속하는 도서는 도서 ID가 2, 3인 도서이고, 출판일을 기준으로 오름차순으로 정렬하면 다음과 같은 결과가 나와야 합니다.\n",
        "\n",
        "# BOOK_ID\tAUTHOR_NAME\tPUBLISHED_DATE\n",
        "# 3\t김영호\t2021-02-05\n",
        "# 2\t홍길동\t2021-04-11\n",
        "# 주의사항\n",
        "# PUBLISHED_DATE의 데이트 포맷이 예시와 동일해야 정답처리 됩니다."
      ],
      "metadata": {
        "id": "KYidCdBcfZd7"
      },
      "execution_count": null,
      "outputs": []
    },
    {
      "cell_type": "markdown",
      "source": [
        "1) 내가 쓴 코드(오답)"
      ],
      "metadata": {
        "id": "YsHoeTvOug57"
      }
    },
    {
      "cell_type": "code",
      "source": [
        "# SELECT BOOK_ID, AUTHOR_NAME, DATE_FORMAT(PUBLISHED_DATE, '%Y-%m-%d')\n",
        "# FROM BOOK b left outer join AUTHOR a\n",
        "# on b.BOOK_ID = a.BOOK_ID\n",
        "# WHERE CATEGORY = '경제'\n",
        "# ORDER BY PUBLISHED_DATE"
      ],
      "metadata": {
        "id": "G7ixBDMZfhN8"
      },
      "execution_count": null,
      "outputs": []
    },
    {
      "cell_type": "markdown",
      "source": [
        "2) gpt 개선코드"
      ],
      "metadata": {
        "id": "ag_aCC07uirX"
      }
    },
    {
      "cell_type": "code",
      "source": [
        "# SELECT b.BOOK_ID, a.AUTHOR_NAME, DATE_FORMAT(b.PUBLISHED_DATE, '%Y-%m-%d') AS PUBLISHED_DATE\n",
        "# FROM BOOK b\n",
        "# JOIN AUTHOR a ON b.AUTHOR_ID = a.AUTHOR_ID\n",
        "# WHERE b.CATEGORY = '경제'\n",
        "# ORDER BY b.PUBLISHED_DATE;"
      ],
      "metadata": {
        "id": "s0TSILOHukHE"
      },
      "execution_count": null,
      "outputs": []
    }
  ]
}