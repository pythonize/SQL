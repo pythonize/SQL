{
  "nbformat": 4,
  "nbformat_minor": 0,
  "metadata": {
    "colab": {
      "provenance": [],
      "authorship_tag": "ABX9TyNoqgrTxQ2EFn8LqDXAL7aG"
    },
    "kernelspec": {
      "name": "python3",
      "display_name": "Python 3"
    },
    "language_info": {
      "name": "python"
    }
  },
  "cells": [
    {
      "cell_type": "markdown",
      "source": [
        "# **1. 강원도에 위치한 생산공장 목록 출력하기(250106)**"
      ],
      "metadata": {
        "id": "SXcajfYxxoOz"
      }
    },
    {
      "cell_type": "code",
      "execution_count": null,
      "metadata": {
        "id": "5oC80FbZxkCl"
      },
      "outputs": [],
      "source": [
        "# 문제 설명\n",
        "# 다음은 식품공장의 정보를 담은 FOOD_FACTORY 테이블입니다. FOOD_FACTORY 테이블은 다음과 같으며\n",
        "# FACTORY_ID, FACTORY_NAME, ADDRESS, TLNO는 각각 공장 ID, 공장 이름, 주소, 전화번호를 의미합니다.\n",
        "\n",
        "# Column name\tType\tNullable\n",
        "# FACTORY_ID\tVARCHAR(10)\tFALSE\n",
        "# FACTORY_NAME\tVARCHAR(50)\tFALSE\n",
        "# ADDRESS\tVARCHAR(100)\tFALSE\n",
        "# TLNO\tVARCHAR(20)\tTRUE\n",
        "\n",
        "# 문제\n",
        "# FOOD_FACTORY 테이블에서 강원도에 위치한 식품공장의 공장 ID, 공장 이름, 주소를 조회하는 SQL문을 작성해주세요. 이때 결과는 공장 ID를 기준으로 오름차순 정렬해주세요.\n",
        "\n",
        "# 예시\n",
        "# FOOD_FACTORY 테이블이 다음과 같을 때\n",
        "\n",
        "# FACTORY_ID\tFACTORY_NAME\tADDRESS\tTLNO\n",
        "# | FT19980003 | (주)맛있는라면 | 강원도 정선군 남면 칠현로 679 | 033-431-3122 |\n",
        "# | FT19980004 | (주)맛있는기름 | 경기도 평택시 포승읍 포승공단순환로 245 | 031-651-2410 |\n",
        "# | FT20010001 | (주)맛있는소스 | 경상북도 구미시 1공단로7길 58-11 | 054-231-2121 |\n",
        "# | FT20010002 | (주)맛있는통조림 | 전라남도 영암군 미암면 곤미현로 1336 | 061-341-5210 |\n",
        "# | FT20100001 | (주)맛있는차 | 전라남도 장성군 서삼면 장산리 233-1번지 | 061-661-1420 |\n",
        "# | FT20100002 | (주)맛있는김치 | 충청남도 아산시 탕정면 탕정면로 485 | 041-241-5421 |\n",
        "# | FT20100003 | (주)맛있는음료 | 강원도 원주시 문막읍 문막공단길 154 | 033-232-7630 |\n",
        "# | FT20100004 | (주)맛있는국 | 강원도 평창군 봉평면 진조길 227-35 | 033-323-6640 |\n",
        "# | FT20110001 | (주)맛있는밥 | 경기도 화성시 팔탄면 가재리 34번지 | 031-661-1532 |\n",
        "# | FT20110002 | (주)맛있는과자 | 광주광역시 북구 하서로 222 | 062-211-7759 |\n",
        "\n",
        "# SQL을 실행하면 다음과 같이 출력되어야 합니다.\n",
        "\n",
        "# FACTORY_ID\tFACTORY_NAME\tADDRESS\n",
        "# FT19980003\t(주)맛있는라면\t강원도 정선군 남면 칠현로 679\n",
        "# FT20100003\t(주)맛있는음료\t강원도 원주시 문막읍 문막공단길 154\n",
        "# FT20100004\t(주)맛있는국\t강원도 평창군 봉평면 진조길 227-35"
      ]
    },
    {
      "cell_type": "markdown",
      "source": [
        "1) 내가 쓴 답"
      ],
      "metadata": {
        "id": "LaJR2ZR4x1w-"
      }
    },
    {
      "cell_type": "code",
      "source": [
        "# SELECT FACTORY_ID, FACTORY_NAME, ADDRESS\n",
        "# FROM FOOD_FACTORY\n",
        "# WHERE ADDRESS LIKE '강원도%'\n",
        "# ORDER BY FACTORY_ID ASC"
      ],
      "metadata": {
        "id": "RfLYLS15xmUZ"
      },
      "execution_count": null,
      "outputs": []
    },
    {
      "cell_type": "markdown",
      "source": [
        "# **2. 동물의 아이디와 이름(250108)**"
      ],
      "metadata": {
        "id": "6eWinRRDXSMI"
      }
    },
    {
      "cell_type": "markdown",
      "source": [
        "1) 문제"
      ],
      "metadata": {
        "id": "laAGpl53XXw2"
      }
    },
    {
      "cell_type": "code",
      "source": [
        "# 문제 설명\n",
        "# ANIMAL_INS 테이블은 동물 보호소에 들어온 동물의 정보를 담은 테이블입니다.\n",
        "# ANIMAL_INS 테이블 구조는 다음과 같으며, ANIMAL_ID, ANIMAL_TYPE, DATETIME, INTAKE_CONDITION, NAME, SEX_UPON_INTAKE는\n",
        "# 각각 동물의 아이디, 생물 종, 보호 시작일, 보호 시작 시 상태, 이름, 성별 및 중성화 여부를 나타냅니다.\n",
        "\n",
        "# NAME\tTYPE\tNULLABLE\n",
        "# ANIMAL_ID\tVARCHAR(N)\tFALSE\n",
        "# ANIMAL_TYPE\tVARCHAR(N)\tFALSE\n",
        "# DATETIME\tDATETIME\tFALSE\n",
        "# INTAKE_CONDITION\tVARCHAR(N)\tFALSE\n",
        "# NAME\tVARCHAR(N)\tTRUE\n",
        "# SEX_UPON_INTAKE\tVARCHAR(N)\tFALSE\n",
        "# 동물 보호소에 들어온 모든 동물의 아이디와 이름을 ANIMAL_ID순으로 조회하는 SQL문을 작성해주세요.\n",
        "# SQL을 실행하면 다음과 같이 출력되어야 합니다.\n",
        "\n",
        "# ANIMAL_ID\tNAME\n",
        "# A349996\tSugar\n",
        "# A350276\tJewel\n",
        "# A350375\tMeo\n",
        "# A352555\tHarley\n",
        "# A352713\tGia\n",
        "# A352872\tPeanutbutter\n",
        "# A353259\tBj\n",
        "# ((이하 생략))"
      ],
      "metadata": {
        "id": "le0Zn-62x5T2"
      },
      "execution_count": null,
      "outputs": []
    },
    {
      "cell_type": "markdown",
      "source": [
        "2) 내가 쓴 답"
      ],
      "metadata": {
        "id": "45W13E85XhjV"
      }
    },
    {
      "cell_type": "code",
      "source": [
        "# SELECT ANIMAL_ID, NAME\n",
        "# FROM ANIMAL_INS\n",
        "# ORDER BY ANIMAL_ID"
      ],
      "metadata": {
        "id": "UI4O9Ns1Xgp-"
      },
      "execution_count": null,
      "outputs": []
    },
    {
      "cell_type": "markdown",
      "source": [
        "# **3. 역순 정렬하기(SELECT)(250108)**"
      ],
      "metadata": {
        "id": "otgIrBMRM0aS"
      }
    },
    {
      "cell_type": "code",
      "source": [
        "# 문제 설명\n",
        "# ANIMAL_INS 테이블은 동물 보호소에 들어온 동물의 정보를 담은 테이블입니다.\n",
        "# ANIMAL_INS 테이블 구조는 다음과 같으며, ANIMAL_ID, ANIMAL_TYPE, DATETIME, INTAKE_CONDITION, NAME, SEX_UPON_INTAKE는\n",
        "# 각각 동물의 아이디, 생물 종, 보호 시작일, 보호 시작 시 상태, 이름, 성별 및 중성화 여부를 나타냅니다.\n",
        "\n",
        "# NAME\tTYPE\tNULLABLE\n",
        "# ANIMAL_ID\tVARCHAR(N)\tFALSE\n",
        "# ANIMAL_TYPE\tVARCHAR(N)\tFALSE\n",
        "# DATETIME\tDATETIME\tFALSE\n",
        "# INTAKE_CONDITION\tVARCHAR(N)\tFALSE\n",
        "# NAME\tVARCHAR(N)\tTRUE\n",
        "# SEX_UPON_INTAKE\tVARCHAR(N)\tFALSE\n",
        "# 동물 보호소에 들어온 모든 동물의 이름과 보호 시작일을 조회하는 SQL문을 작성해주세요.\n",
        "# 이때 결과는 ANIMAL_ID 역순으로 보여주세요. SQL을 실행하면 다음과 같이 출력되어야 합니다.\n",
        "\n",
        "# NAME\tDATETIME\n",
        "# Rocky\t2016-06-07 09:17:00\n",
        "# Shelly\t2015-01-29 15:01:00\n",
        "# Benji\t2016-04-19 13:28:00\n",
        "# Jackie\t2016-01-03 16:25:00\n",
        "# *Sam\t2016-03-13 11:17:00\n",
        "# ..이하 생략"
      ],
      "metadata": {
        "id": "kF9WTschXlWq"
      },
      "execution_count": null,
      "outputs": []
    },
    {
      "cell_type": "markdown",
      "source": [
        "1) 내가 쓴 답"
      ],
      "metadata": {
        "id": "rqGmS_2yNDPe"
      }
    },
    {
      "cell_type": "code",
      "source": [
        "# SELECT NAME, DATETIME\n",
        "# FROM ANIMAL_INS\n",
        "# ORDER BY ANIMAL_ID DESC"
      ],
      "metadata": {
        "id": "bycUXqGaNCsI"
      },
      "execution_count": null,
      "outputs": []
    },
    {
      "cell_type": "markdown",
      "source": [
        "# **4. 아픈 동물 찾기(SELECT)(250109)**"
      ],
      "metadata": {
        "id": "9sd1h_nM3ew0"
      }
    },
    {
      "cell_type": "code",
      "source": [
        "# 문제 설명\n",
        "# ANIMAL_INS 테이블은 동물 보호소에 들어온 동물의 정보를 담은 테이블입니다.\n",
        "# ANIMAL_INS 테이블 구조는 다음과 같으며, ANIMAL_ID, ANIMAL_TYPE, DATETIME, INTAKE_CONDITION, NAME, SEX_UPON_INTAKE는\n",
        "# 각각 동물의 아이디, 생물 종, 보호 시작일, 보호 시작 시 상태, 이름, 성별 및 중성화 여부를 나타냅니다.\n",
        "\n",
        "# NAME\tTYPE\tNULLABLE\n",
        "# ANIMAL_ID\tVARCHAR(N)\tFALSE\n",
        "# ANIMAL_TYPE\tVARCHAR(N)\tFALSE\n",
        "# DATETIME\tDATETIME\tFALSE\n",
        "# INTAKE_CONDITION\tVARCHAR(N)\tFALSE\n",
        "# NAME\tVARCHAR(N)\tTRUE\n",
        "# SEX_UPON_INTAKE\tVARCHAR(N)\tFALSE\n",
        "\n",
        "# 동물 보호소에 들어온 동물 중 아픈 동물1의 아이디와 이름을 조회하는 SQL 문을 작성해주세요.\n",
        "# 이때 결과는 아이디 순으로 조회해주세요.\n",
        "\n",
        "# 예시\n",
        "# 예를 들어 ANIMAL_INS 테이블이 다음과 같다면\n",
        "\n",
        "# ANIMAL_ID\tANIMAL_TYPE\tDATETIME\tINTAKE_CONDITION\tNAME\tSEX_UPON_INTAKE\n",
        "# A365172\tDog\t2014-08-26 12:53:00\tNormal\tDiablo\tNeutered Male\n",
        "# A367012\tDog\t2015-09-16 09:06:00\tSick\tMiller\tNeutered Male\n",
        "# A365302\tDog\t2017-01-08 16:34:00\tAged\tMinnie\tSpayed Female\n",
        "# A381217\tDog\t2017-07-08 09:41:00\tSick\tCherokee\tNeutered Male\n",
        "# 이 중 아픈 동물은 Miller와 Cherokee입니다. 따라서 SQL문을 실행하면 다음과 같이 나와야 합니다.\n",
        "\n",
        "# ANIMAL_ID\tNAME\n",
        "# A367012\tMiller\n",
        "# A381217\tCherokee"
      ],
      "metadata": {
        "id": "m78pZQ5HN5Nr"
      },
      "execution_count": null,
      "outputs": []
    },
    {
      "cell_type": "markdown",
      "source": [
        "1) 내가 쓴 답"
      ],
      "metadata": {
        "id": "e__Pyk5u350n"
      }
    },
    {
      "cell_type": "code",
      "source": [
        "# SELECT ANIMAL_ID, NAME\n",
        "# FROM ANIMAL_INS\n",
        "# WHERE INTAKE_CONDITION = 'Sick'\n",
        "# ORDER BY ANIMAL_ID"
      ],
      "metadata": {
        "id": "NwdhCYQ733JK"
      },
      "execution_count": null,
      "outputs": []
    },
    {
      "cell_type": "markdown",
      "source": [
        "# **5. 나이 정보가 없는 회원 수 구하기(250112)**"
      ],
      "metadata": {
        "id": "V8ZZN0lYadou"
      }
    },
    {
      "cell_type": "code",
      "source": [
        "# 문제 설명\n",
        "# 다음은 어느 의류 쇼핑몰에 가입한 회원 정보를 담은 USER_INFO 테이블입니다.\n",
        "# USER_INFO 테이블은 아래와 같은 구조로 되어있으며,\n",
        "# USER_ID, GENDER, AGE, JOINED는 각각 회원 ID, 성별, 나이, 가입일을 나타냅니다.\n",
        "\n",
        "# Column name\tType\tNullable\n",
        "# USER_ID\tINTEGER\tFALSE\n",
        "# GENDER\tTINYINT(1)\tTRUE\n",
        "# AGE\tINTEGER\tTRUE\n",
        "# JOINED\tDATE\tFALSE\n",
        "# GENDER 컬럼은 비어있거나 0 또는 1의 값을 가지며 0인 경우 남자를, 1인 경우는 여자를 나타냅니다.\n",
        "\n",
        "# 문제\n",
        "# USER_INFO 테이블에서 나이 정보가 없는 회원이 몇 명인지 출력하는 SQL문을 작성해주세요. 이때 컬럼명은 USERS로 지정해주세요.\n",
        "\n",
        "# 예시\n",
        "# 예를 들어 USER_INFO 테이블이 다음과 같다면\n",
        "\n",
        "# USER_ID\tGENDER\tAGE\tJOINED\n",
        "# 1\t1\t26\t2021-06-01\n",
        "# 2\tNULL\tNULL\t2021-07-25\n",
        "# 3\t1\tNULL\t2021-07-30\n",
        "# 4\t0\t31\t2021-08-03\n",
        "# 나이 정보가 없는 회원은 2명 이므로, 다음과 같은 결과가 나와야 합니다.\n",
        "\n",
        "# USERS\n",
        "# 2"
      ],
      "metadata": {
        "id": "4UAkeddb6CLv"
      },
      "execution_count": null,
      "outputs": []
    },
    {
      "cell_type": "markdown",
      "source": [
        "1) 내가 쓴 답"
      ],
      "metadata": {
        "id": "lw0SRSoQaosr"
      }
    },
    {
      "cell_type": "code",
      "source": [
        "# SELECT COUNT(*) AS USERS\n",
        "# FROM USER_INFO\n",
        "# WHERE AGE IS NULL"
      ],
      "metadata": {
        "id": "i4zLZbgPaoC5"
      },
      "execution_count": null,
      "outputs": []
    },
    {
      "cell_type": "markdown",
      "source": [
        "# **6. 상위 n개 레코드(250113)(SELECT)**"
      ],
      "metadata": {
        "id": "Bop9Ufs9P76A"
      }
    },
    {
      "cell_type": "code",
      "source": [
        "# 문제 설명\n",
        "# ANIMAL_INS 테이블은 동물 보호소에 들어온 동물의 정보를 담은 테이블입니다.\n",
        "# ANIMAL_INS 테이블 구조는 다음과 같으며, ANIMAL_ID, ANIMAL_TYPE, DATETIME, INTAKE_CONDITION, NAME, SEX_UPON_INTAKE는\n",
        "# 각각 동물의 아이디, 생물 종, 보호 시작일, 보호 시작 시 상태, 이름, 성별 및 중성화 여부를 나타냅니다.\n",
        "\n",
        "# NAME\tTYPE\tNULLABLE\n",
        "# ANIMAL_ID\tVARCHAR(N)\tFALSE\n",
        "# ANIMAL_TYPE\tVARCHAR(N)\tFALSE\n",
        "# DATETIME\tDATETIME\tFALSE\n",
        "# INTAKE_CONDITION\tVARCHAR(N)\tFALSE\n",
        "# NAME\tVARCHAR(N)\tTRUE\n",
        "# SEX_UPON_INTAKE\tVARCHAR(N)\tFALSE\n",
        "\n",
        "# 동물 보호소에 가장 먼저 들어온 동물의 이름을 조회하는 SQL 문을 작성해주세요.\n",
        "\n",
        "# 예시\n",
        "# 예를 들어 ANIMAL_INS 테이블이 다음과 같다면\n",
        "\n",
        "# ANIMAL_ID\tANIMAL_TYPE\tDATETIME\tINTAKE_CONDITION\tNAME\tSEX_UPON_INTAKE\n",
        "# A399552\tDog\t2013-10-14 15:38:00\tNormal\tJack\tNeutered Male\n",
        "# A379998\tDog\t2013-10-23 11:42:00\tNormal\tDisciple\tIntact Male\n",
        "# A370852\tDog\t2013-11-03 15:04:00\tNormal\tKatie\tSpayed Female\n",
        "# A403564\tDog\t2013-11-18 17:03:00\tNormal\tAnna\tSpayed Female\n",
        "# 이 중 가장 보호소에 먼저 들어온 동물은 Jack입니다. 따라서 SQL문을 실행하면 다음과 같이 나와야 합니다.\n",
        "\n",
        "# NAME\n",
        "# Jack\n",
        "# ※ 보호소에 가장 먼저 들어온 동물은 한 마리인 경우만 테스트 케이스로 주어집니다."
      ],
      "metadata": {
        "id": "1PRmmJqxasAs"
      },
      "execution_count": null,
      "outputs": []
    },
    {
      "cell_type": "markdown",
      "source": [
        "1) 내가 쓴 답"
      ],
      "metadata": {
        "id": "u_Pi1nokQVnO"
      }
    },
    {
      "cell_type": "code",
      "source": [
        "# SELECT NAME\n",
        "# FROM ANIMAL_INS\n",
        "# ORDER BY DATETIME LIMIT 1"
      ],
      "metadata": {
        "id": "8LQCoauSQUrW"
      },
      "execution_count": null,
      "outputs": []
    },
    {
      "cell_type": "markdown",
      "source": [
        "# **7. 동물 수 구하기(250114)(SUM, MAX, MIN)**"
      ],
      "metadata": {
        "id": "xF7pYu3dIWuT"
      }
    },
    {
      "cell_type": "code",
      "source": [
        "# 문제 설명\n",
        "# ANIMAL_INS 테이블은 동물 보호소에 들어온 동물의 정보를 담은 테이블입니다.\n",
        "# ANIMAL_INS 테이블 구조는 다음과 같으며, ANIMAL_ID, ANIMAL_TYPE, DATETIME, INTAKE_CONDITION, NAME, SEX_UPON_INTAKE는\n",
        "# 각각 동물의 아이디, 생물 종, 보호 시작일, 보호 시작 시 상태, 이름, 성별 및 중성화 여부를 나타냅니다.\n",
        "\n",
        "# NAME\tTYPE\tNULLABLE\n",
        "# ANIMAL_ID\tVARCHAR(N)\tFALSE\n",
        "# ANIMAL_TYPE\tVARCHAR(N)\tFALSE\n",
        "# DATETIME\tDATETIME\tFALSE\n",
        "# INTAKE_CONDITION\tVARCHAR(N)\tFALSE\n",
        "# NAME\tVARCHAR(N)\tTRUE\n",
        "# SEX_UPON_INTAKE\tVARCHAR(N)\tFALSE\n",
        "# 동물 보호소에 동물이 몇 마리 들어왔는지 조회하는 SQL 문을 작성해주세요.\n",
        "\n",
        "# 예시\n",
        "# 예를 들어 ANIMAL_INS 테이블이 다음과 같다면\n",
        "\n",
        "# ANIMAL_ID\tANIMAL_TYPE\tDATETIME\tINTAKE_CONDITION\tNAME\tSEX_UPON_INTAKE\n",
        "# A399552\tDog\t2013-10-14 15:38:00\tNormal\tJack\tNeutered Male\n",
        "# A379998\tDog\t2013-10-23 11:42:00\tNormal\tDisciple\tIntact Male\n",
        "# A370852\tDog\t2013-11-03 15:04:00\tNormal\tKatie\tSpayed Female\n",
        "# A403564\tDog\t2013-11-18 17:03:00\tNormal\tAnna\tSpayed Female\n",
        "# 동물 보호소에 들어온 동물은 4마리입니다. 따라서 SQL문을 실행하면 다음과 같이 나와야 합니다.\n",
        "\n",
        "# count\n",
        "# 4\n",
        "# ※ 컬럼 이름(위 예제에서는 count)은 일치하지 않아도 됩니다."
      ],
      "metadata": {
        "id": "5fmRFs5CIzEp"
      },
      "execution_count": null,
      "outputs": []
    },
    {
      "cell_type": "markdown",
      "source": [
        "1) 내가 쓴 답"
      ],
      "metadata": {
        "id": "TAqlCOANIdyS"
      }
    },
    {
      "cell_type": "code",
      "source": [
        "# SELECT COUNT(*)\n",
        "# FROM ANIMAL_INS"
      ],
      "metadata": {
        "id": "U3so70cyIc0x"
      },
      "execution_count": null,
      "outputs": []
    },
    {
      "cell_type": "markdown",
      "source": [
        "# **8. 이름이 있는 동물의 아이디(250118)**"
      ],
      "metadata": {
        "id": "2G84QLELxxXK"
      }
    },
    {
      "cell_type": "code",
      "source": [
        "# 문제 설명\n",
        "# ANIMAL_INS 테이블은 동물 보호소에 들어온 동물의 정보를 담은 테이블입니다.\n",
        "# ANIMAL_INS 테이블 구조는 다음과 같으며, ANIMAL_ID, ANIMAL_TYPE, DATETIME, INTAKE_CONDITION, NAME, SEX_UPON_INTAKE는\n",
        "# 각각 동물의 아이디, 생물 종, 보호 시작일, 보호 시작 시 상태, 이름, 성별 및 중성화 여부를 나타냅니다.\n",
        "\n",
        "# NAME\tTYPE\tNULLABLE\n",
        "# ANIMAL_ID\tVARCHAR(N)\tFALSE\n",
        "# ANIMAL_TYPE\tVARCHAR(N)\tFALSE\n",
        "# DATETIME\tDATETIME\tFALSE\n",
        "# INTAKE_CONDITION\tVARCHAR(N)\tFALSE\n",
        "# NAME\tVARCHAR(N)\tTRUE\n",
        "# SEX_UPON_INTAKE\tVARCHAR(N)\tFALSE\n",
        "\n",
        "# 동물 보호소에 들어온 동물 중, 이름이 있는 동물의 ID를 조회하는 SQL 문을 작성해주세요.\n",
        "# 단, ID는 오름차순 정렬되어야 합니다.\n",
        "\n",
        "# 예시\n",
        "# 예를 들어 ANIMAL_INS 테이블이 다음과 같다면\n",
        "\n",
        "# ANIMAL_ID\tANIMAL_TYPE\tDATETIME\tINTAKE_CONDITION\tNAME\tSEX_UPON_INTAKE\n",
        "# A434523\tCat\t2015-11-20 14:18:00\tNormal\tNULL\tSpayed Female\n",
        "# A562649\tDog\t2014-03-20 18:06:00\tSick\tNULL\tSpayed Female\n",
        "# A524634\tDog\t2015-01-02 18:54:00\tNormal\t*Belle\tIntact Female\n",
        "# A465637\tDog\t2017-06-04 08:17:00\tInjured\t*Commander\tNeutered Male\n",
        "# 이름이 있는 동물의 ID는 A524634와 A465637입니다. 따라서 SQL을 실행하면 다음과 같이 출력되어야 합니다.\n",
        "\n",
        "# ANIMAL_ID\n",
        "# A465637\n",
        "# A524634"
      ],
      "metadata": {
        "id": "VRXsIr8qKMiK"
      },
      "execution_count": null,
      "outputs": []
    },
    {
      "cell_type": "markdown",
      "source": [
        "1) 내가 쓴 답"
      ],
      "metadata": {
        "id": "9b1RdMfHzHmo"
      }
    },
    {
      "cell_type": "code",
      "source": [
        "# SELECT ANIMAL_ID\n",
        "# FROM ANIMAL_INS\n",
        "# WHERE NAME IS NOT NULL\n",
        "# ORDER BY ANIMAL_ID"
      ],
      "metadata": {
        "id": "zJIEljT-x_KD"
      },
      "execution_count": null,
      "outputs": []
    },
    {
      "cell_type": "markdown",
      "source": [
        "# **9. 가장 비싼 상품 구하기(250118)(SUM, MAX, MIN)**"
      ],
      "metadata": {
        "id": "5E4xj2F0cTBd"
      }
    },
    {
      "cell_type": "code",
      "source": [
        "# 문제 설명\n",
        "# 다음은 어느 의류 쇼핑몰에서 판매 중인 상품들의 정보를 담은 PRODUCT 테이블입니다.\n",
        "# PRODUCT 테이블은 아래와 같은 구조로 되어있으며, PRODUCT_ID, PRODUCT_CODE, PRICE는 각각 상품 ID, 상품코드, 판매가를 나타냅니다.\n",
        "\n",
        "# Column name\tType\tNullable\n",
        "# PRODUCT_ID\tINTEGER\tFALSE\n",
        "# PRODUCT_CODE\tVARCHAR(8)\tFALSE\n",
        "# PRICE\tINTEGER\tFALSE\n",
        "# 상품 별로 중복되지 않는 8자리 상품코드 값을 가지며, 앞 2자리는 카테고리 코드를 의미합니다.\n",
        "\n",
        "# 문제\n",
        "# PRODUCT 테이블에서 판매 중인 상품 중 가장 높은 판매가를 출력하는 SQL문을 작성해주세요.\n",
        "# 이때 컬럼명은 MAX_PRICE로 지정해주세요.\n",
        "\n",
        "# 예시\n",
        "# 예를 들어 PRODUCT 테이블이 다음과 같다면\n",
        "\n",
        "# PRODUCT_ID\tPRODUCT_CODE\tPRICE\n",
        "# 1\tA1000001\t10000\n",
        "# 2\tA2000005\t9000\n",
        "# 3\tC1000006\t22000\n",
        "# 가장 높은 판매가는 22,000 원 이므로, 다음과 같은 결과가 나와야 합니다.\n",
        "\n",
        "# MAX_PRICE\n",
        "# 22000"
      ],
      "metadata": {
        "id": "ZJRvbtaYzKqf"
      },
      "execution_count": 1,
      "outputs": []
    },
    {
      "cell_type": "markdown",
      "source": [
        "1) 내가 쓴 답"
      ],
      "metadata": {
        "id": "E6tlm2rIclth"
      }
    },
    {
      "cell_type": "code",
      "source": [
        "# SELECT MAX(PRICE) as MAX_PRICE\n",
        "# FROM PRODUCT"
      ],
      "metadata": {
        "id": "LTZoD4s6cigh"
      },
      "execution_count": 2,
      "outputs": []
    },
    {
      "cell_type": "code",
      "source": [],
      "metadata": {
        "id": "5z_MZf5PjlCv"
      },
      "execution_count": null,
      "outputs": []
    }
  ]
}