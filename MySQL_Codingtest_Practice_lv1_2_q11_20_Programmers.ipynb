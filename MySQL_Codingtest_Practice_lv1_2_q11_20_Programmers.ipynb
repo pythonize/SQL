{
  "nbformat": 4,
  "nbformat_minor": 0,
  "metadata": {
    "colab": {
      "provenance": [],
      "authorship_tag": "ABX9TyNBPuqxR/hevkBVfl7wLoYA"
    },
    "kernelspec": {
      "name": "python3",
      "display_name": "Python 3"
    },
    "language_info": {
      "name": "python"
    }
  },
  "cells": [
    {
      "cell_type": "markdown",
      "source": [
        "# **11. 여러 기준으로 정렬하기(250120)(SELECT)**"
      ],
      "metadata": {
        "id": "x5OMyDD6eg_C"
      }
    },
    {
      "cell_type": "code",
      "execution_count": null,
      "metadata": {
        "id": "jjAa9hjOeIii"
      },
      "outputs": [],
      "source": [
        "# 문제 설명\n",
        "# ANIMAL_INS 테이블은 동물 보호소에 들어온 동물의 정보를 담은 테이블입니다.\n",
        "# ANIMAL_INS 테이블 구조는 다음과 같으며, ANIMAL_ID, ANIMAL_TYPE, DATETIME, INTAKE_CONDITION, NAME, SEX_UPON_INTAKE는\n",
        "# 각각 동물의 아이디, 생물 종, 보호 시작일, 보호 시작 시 상태, 이름, 성별 및 중성화 여부를 나타냅니다.\n",
        "\n",
        "# NAME\tTYPE\tNULLABLE\n",
        "# ANIMAL_ID\tVARCHAR(N)\tFALSE\n",
        "# ANIMAL_TYPE\tVARCHAR(N)\tFALSE\n",
        "# DATETIME\tDATETIME\tFALSE\n",
        "# INTAKE_CONDITION\tVARCHAR(N)\tFALSE\n",
        "# NAME\tVARCHAR(N)\tTRUE\n",
        "# SEX_UPON_INTAKE\tVARCHAR(N)\tFALSE\n",
        "# 동물 보호소에 들어온 모든 동물의 아이디와 이름, 보호 시작일을 이름 순으로 조회하는 SQL문을 작성해주세요.\n",
        "# 단, 이름이 같은 동물 중에서는 보호를 나중에 시작한 동물을 먼저 보여줘야 합니다.\n",
        "\n",
        "# 예시\n",
        "# 예를 들어, ANIMAL_INS 테이블이 다음과 같다면\n",
        "\n",
        "# ANIMAL_ID\tANIMAL_TYPE\tDATETIME\tINTAKE_CONDITION\tNAME\tSEX_UPON_INTAKE\n",
        "# A349996\tCat\t2018-01-22 14:32:00\tNormal\tSugar\tNeutered Male\n",
        "# A350276\tCat\t2017-08-13 13:50:00\tNormal\tJewel\tSpayed Female\n",
        "# A396810\tDog\t2016-08-22 16:13:00\tInjured\tRaven\tSpayed Female\n",
        "# A410668\tCat\t2015-11-19 13:41:00\tNormal\tRaven\tSpayed Female\n",
        "# 이름을 사전 순으로 정렬하면 다음과 같으며, 'Jewel', 'Raven', 'Sugar'\n",
        "# 'Raven'이라는 이름을 가진 개와 고양이가 있으므로, 이 중에서는 보호를 나중에 시작한 개를 먼저 조회합니다.\n",
        "# 따라서 SQL문을 실행하면 다음과 같이 나와야 합니다.\n",
        "\n",
        "# ANIMAL_ID\tNAME\tDATETIME\n",
        "# A350276\tJewel\t2017-08-13 13:50:00\n",
        "# A396810\tRaven\t2016-08-22 16:13:00\n",
        "# A410668\tRaven\t2015-11-19 13:41:00\n",
        "# A349996\tSugar\t2018-01-22 14:32:00"
      ]
    },
    {
      "cell_type": "markdown",
      "source": [
        "1) 내가 쓴 코드"
      ],
      "metadata": {
        "id": "kN66RkPQex-l"
      }
    },
    {
      "cell_type": "code",
      "source": [
        "# SELECT ANIMAL_ID, NAME, DATETIME\n",
        "# FROM ANIMAL_INS\n",
        "# ORDER BY NAME ASC, DATETIME DESC"
      ],
      "metadata": {
        "id": "nOqgUNDeewnz"
      },
      "execution_count": null,
      "outputs": []
    },
    {
      "cell_type": "markdown",
      "source": [
        "# **12. 어린 동물 찾기(250121)**(SELECT)"
      ],
      "metadata": {
        "id": "-ZZLCtjgyLhQ"
      }
    },
    {
      "cell_type": "code",
      "source": [
        "# 문제 설명\n",
        "# ANIMAL_INS 테이블은 동물 보호소에 들어온 동물의 정보를 담은 테이블입니다.\n",
        "# ANIMAL_INS 테이블 구조는 다음과 같으며, ANIMAL_ID, ANIMAL_TYPE, DATETIME, INTAKE_CONDITION, NAME, SEX_UPON_INTAKE는\n",
        "# 각각 동물의 아이디, 생물 종, 보호 시작일, 보호 시작 시 상태, 이름, 성별 및 중성화 여부를 나타냅니다.\n",
        "\n",
        "# NAME\tTYPE\tNULLABLE\n",
        "# ANIMAL_ID\tVARCHAR(N)\tFALSE\n",
        "# ANIMAL_TYPE\tVARCHAR(N)\tFALSE\n",
        "# DATETIME\tDATETIME\tFALSE\n",
        "# INTAKE_CONDITION\tVARCHAR(N)\tFALSE\n",
        "# NAME\tVARCHAR(N)\tTRUE\n",
        "# SEX_UPON_INTAKE\tVARCHAR(N)\tFALSE\n",
        "# 동물 보호소에 들어온 동물 중 젊은 동물1의 아이디와 이름을 조회하는 SQL 문을 작성해주세요. 이때 결과는 아이디 순으로 조회해주세요.\n",
        "\n",
        "# 예시\n",
        "# 예를 들어 ANIMAL_INS 테이블이 다음과 같다면\n",
        "\n",
        "# ANIMAL_ID\tANIMAL_TYPE\tDATETIME\tINTAKE_CONDITION\tNAME\tSEX_UPON_INTAKE\n",
        "# A365172\tDog\t2014-08-26 12:53:00\tNormal\tDiablo\tNeutered Male\n",
        "# A367012\tDog\t2015-09-16 09:06:00\tSick\tMiller\tNeutered Male\n",
        "# A365302\tDog\t2017-01-08 16:34:00\tAged\tMinnie\tSpayed Female\n",
        "# A381217\tDog\t2017-07-08 09:41:00\tSick\tCherokee\tNeutered Male\n",
        "# 이 중 젊은 동물은 Diablo, Miller, Cherokee입니다. 따라서 SQL문을 실행하면 다음과 같이 나와야 합니다.\n",
        "\n",
        "# ANIMAL_ID\tNAME\n",
        "# A365172\tDiablo\n",
        "# A367012\tMiller\n",
        "# A381217\tCherokee"
      ],
      "metadata": {
        "id": "ivD71UxEi5vG"
      },
      "execution_count": null,
      "outputs": []
    },
    {
      "cell_type": "code",
      "source": [
        "# SELECT ANIMAL_ID, NAME\n",
        "# FROM ANIMAL_INS\n",
        "# WHERE NOT INTAKE_CONDITION = 'Aged'\n",
        "# ORDER BY ANIMAL_ID"
      ],
      "metadata": {
        "id": "xvoogXUQyd6d"
      },
      "execution_count": null,
      "outputs": []
    },
    {
      "cell_type": "markdown",
      "source": [
        "# **13. 최솟값 구하기(250122)(SUM, MAX, MIN)**"
      ],
      "metadata": {
        "id": "x-3s3tWb7tLq"
      }
    },
    {
      "cell_type": "code",
      "source": [
        "# 문제 설명\n",
        "# ANIMAL_INS 테이블은 동물 보호소에 들어온 동물의 정보를 담은 테이블입니다.\n",
        "# ANIMAL_INS 테이블 구조는 다음과 같으며, ANIMAL_ID, ANIMAL_TYPE, DATETIME, INTAKE_CONDITION, NAME, SEX_UPON_INTAKE는\n",
        "# 각각 동물의 아이디, 생물 종, 보호 시작일, 보호 시작 시 상태, 이름, 성별 및 중성화 여부를 나타냅니다.\n",
        "\n",
        "# NAME\tTYPE\tNULLABLE\n",
        "# ANIMAL_ID\tVARCHAR(N)\tFALSE\n",
        "# ANIMAL_TYPE\tVARCHAR(N)\tFALSE\n",
        "# DATETIME\tDATETIME\tFALSE\n",
        "# INTAKE_CONDITION\tVARCHAR(N)\tFALSE\n",
        "# NAME\tVARCHAR(N)\tTRUE\n",
        "# SEX_UPON_INTAKE\tVARCHAR(N)\tFALSE\n",
        "# 동물 보호소에 가장 먼저 들어온 동물은 언제 들어왔는지 조회하는 SQL 문을 작성해주세요.\n",
        "\n",
        "# 예시\n",
        "# 예를 들어 ANIMAL_INS 테이블이 다음과 같다면\n",
        "\n",
        "# ANIMAL_ID\tANIMAL_TYPE\tDATETIME\tINTAKE_CONDITION\tNAME\tSEX_UPON_INTAKE\n",
        "# A399552\tDog\t2013-10-14 15:38:00\tNormal\tJack\tNeutered Male\n",
        "# A379998\tDog\t2013-10-23 11:42:00\tNormal\tDisciple\tIntact Male\n",
        "# A370852\tDog\t2013-11-03 15:04:00\tNormal\tKatie\tSpayed Female\n",
        "# A403564\tDog\t2013-11-18 17:03:00\tNormal\tAnna\tSpayed Female\n",
        "# 가장 먼저 들어온 동물은 Jack이고, Jack은 2013-10-14 15:38:00에 들어왔습니다.\n",
        "# 따라서 SQL문을 실행하면 다음과 같이 나와야 합니다.\n",
        "\n",
        "# 시간\n",
        "# 2013-10-14 15:38:00\n",
        "# ※ 컬럼 이름(위 예제에서는 \"시간\")은 일치하지 않아도 됩니다."
      ],
      "metadata": {
        "id": "y6NkJF0674l2"
      },
      "execution_count": null,
      "outputs": []
    },
    {
      "cell_type": "code",
      "source": [
        "# SELECT MIN(DATETIME)\n",
        "# FROM ANIMAL_INS\n",
        "# ORDER BY DATETIME"
      ],
      "metadata": {
        "id": "LrFzpQPA8Fan"
      },
      "execution_count": null,
      "outputs": []
    },
    {
      "cell_type": "markdown",
      "source": [
        "# **14. 이름이 없는 동물의 아이디(250123)(IS NULL)**"
      ],
      "metadata": {
        "id": "n7LS1E9z9c-8"
      }
    },
    {
      "cell_type": "code",
      "source": [
        "# 문제 설명\n",
        "# ANIMAL_INS 테이블은 동물 보호소에 들어온 동물의 정보를 담은 테이블입니다.\n",
        "# ANIMAL_INS 테이블 구조는 다음과 같으며, ANIMAL_ID, ANIMAL_TYPE, DATETIME, INTAKE_CONDITION, NAME, SEX_UPON_INTAKE는\n",
        "# 각각 동물의 아이디, 생물 종, 보호 시작일, 보호 시작 시 상태, 이름, 성별 및 중성화 여부를 나타냅니다.\n",
        "\n",
        "# NAME\tTYPE\tNULLABLE\n",
        "# ANIMAL_ID\tVARCHAR(N)\tFALSE\n",
        "# ANIMAL_TYPE\tVARCHAR(N)\tFALSE\n",
        "# DATETIME\tDATETIME\tFALSE\n",
        "# INTAKE_CONDITION\tVARCHAR(N)\tFALSE\n",
        "# NAME\tVARCHAR(N)\tTRUE\n",
        "# SEX_UPON_INTAKE\tVARCHAR(N)\tFALSE\n",
        "# 동물 보호소에 들어온 동물 중, 이름이 없는 채로 들어온 동물의 ID를 조회하는 SQL 문을 작성해주세요. 단, ID는 오름차순 정렬되어야 합니다.\n",
        "\n",
        "# 예시\n",
        "# 예를 들어 ANIMAL_INS 테이블이 다음과 같다면\n",
        "\n",
        "# ANIMAL_ID\tANIMAL_TYPE\tDATETIME\tINTAKE_CONDITION\tNAME\tSEX_UPON_INTAKE\n",
        "# A368930\tDog\t2014-06-08 13:20:00\tNormal\tNULL\tSpayed Female\n",
        "# A524634\tDog\t2015-01-02 18:54:00\tNormal\t*Belle\tIntact Female\n",
        "# A465637\tDog\t2017-06-04 08:17:00\tInjured\t*Commander\tNeutered Male\n",
        "# 이름이 없는 채로 들어온 동물의 ID는 A368930입니다. 따라서 SQL을 실행하면 다음과 같이 출력되어야 합니다.\n",
        "\n",
        "# ANIMAL_ID\n",
        "# A368930"
      ],
      "metadata": {
        "id": "7k0tt3rN9oOX"
      },
      "execution_count": null,
      "outputs": []
    },
    {
      "cell_type": "code",
      "source": [
        "# SELECT ANIMAL_ID\n",
        "# FROM ANIMAL_INS\n",
        "# WHERE NAME IS NULL\n",
        "# ORDER BY ANIMAL_ID"
      ],
      "metadata": {
        "id": "3McmakAC9t3r"
      },
      "execution_count": null,
      "outputs": []
    },
    {
      "cell_type": "markdown",
      "source": [
        "# **15. 동명 동물 수 찾기(250127)(GROUP BY)**"
      ],
      "metadata": {
        "id": "id8Kj8H99BbI"
      }
    },
    {
      "cell_type": "code",
      "source": [
        "# 문제 설명\n",
        "# ANIMAL_INS 테이블은 동물 보호소에 들어온 동물의 정보를 담은 테이블입니다.\n",
        "# ANIMAL_INS 테이블 구조는 다음과 같으며, ANIMAL_ID, ANIMAL_TYPE, DATETIME, INTAKE_CONDITION, NAME, SEX_UPON_INTAKE는\n",
        "# 각각 동물의 아이디, 생물 종, 보호 시작일, 보호 시작 시 상태, 이름, 성별 및 중성화 여부를 나타냅니다.\n",
        "\n",
        "# NAME\tTYPE\tNULLABLE\n",
        "# ANIMAL_ID\tVARCHAR(N)\tFALSE\n",
        "# ANIMAL_TYPE\tVARCHAR(N)\tFALSE\n",
        "# DATETIME\tDATETIME\tFALSE\n",
        "# INTAKE_CONDITION\tVARCHAR(N)\tFALSE\n",
        "# NAME\tVARCHAR(N)\tTRUE\n",
        "# SEX_UPON_INTAKE\tVARCHAR(N)\tFALSE\n",
        "# 동물 보호소에 들어온 동물 이름 중 두 번 이상 쓰인 이름과 해당 이름이 쓰인 횟수를 조회하는 SQL문을 작성해주세요.\n",
        "# 이때 결과는 이름이 없는 동물은 집계에서 제외하며, 결과는 이름 순으로 조회해주세요.\n",
        "\n",
        "# 예시\n",
        "# 예를 들어 ANIMAL_INS 테이블이 다음과 같다면\n",
        "\n",
        "# ANIMAL_ID\tANIMAL_TYPE\tDATETIME\tINTAKE_CONDITION\tNAME\tSEX_UPON_INTAKE\n",
        "# A396810\tDog\t2016-08-22 16:13:00\tInjured\tRaven\tSpayed Female\n",
        "# A377750\tDog\t2017-10-25 17:17:00\tNormal\tLucy\tSpayed Female\n",
        "# A355688\tDog\t2014-01-26 13:48:00\tNormal\tShadow\tNeutered Male\n",
        "# A399421\tDog\t2015-08-25 14:08:00\tNormal\tLucy\tSpayed Female\n",
        "# A400680\tDog\t2017-06-17 13:29:00\tNormal\tLucy\tSpayed Female\n",
        "# A410668\tCat\t2015-11-19 13:41:00\tNormal\tRaven\tSpayed Female\n",
        "# Raven 이름은 2번 쓰였습니다.\n",
        "# Lucy 이름은 3번 쓰였습니다\n",
        "# Shadow 이름은 1번 쓰였습니다.\n",
        "# 따라서 SQL문을 실행하면 다음과 같이 나와야 합니다.\n",
        "\n",
        "# NAME\tCOUNT\n",
        "# Lucy\t3\n",
        "# Raven\t2"
      ],
      "metadata": {
        "id": "sydyVdn09HOe"
      },
      "execution_count": null,
      "outputs": []
    },
    {
      "cell_type": "markdown",
      "source": [
        "1) 내 코드"
      ],
      "metadata": {
        "id": "NT4UPTyc9NrE"
      }
    },
    {
      "cell_type": "code",
      "source": [
        "# SELECT NAME, COUNT(NAME) as COUNT\n",
        "# FROM ANIMAL_INS\n",
        "# WHERE NAME IS NOT NULL\n",
        "# GROUP BY NAME\n",
        "# HAVING COUNT(NAME) >= 2\n",
        "# ORDER BY NAME"
      ],
      "metadata": {
        "id": "oFnfPmpo9NOt"
      },
      "execution_count": null,
      "outputs": []
    }
  ]
}