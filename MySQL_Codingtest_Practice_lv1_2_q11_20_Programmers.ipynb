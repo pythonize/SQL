{
  "nbformat": 4,
  "nbformat_minor": 0,
  "metadata": {
    "colab": {
      "provenance": [],
      "authorship_tag": "ABX9TyOG7UUQu++ogVXaqITD6eAn"
    },
    "kernelspec": {
      "name": "python3",
      "display_name": "Python 3"
    },
    "language_info": {
      "name": "python"
    }
  },
  "cells": [
    {
      "cell_type": "markdown",
      "source": [
        "# **11. 여러 기준으로 정렬하기(250120)(SELECT)**"
      ],
      "metadata": {
        "id": "x5OMyDD6eg_C"
      }
    },
    {
      "cell_type": "code",
      "execution_count": null,
      "metadata": {
        "id": "jjAa9hjOeIii"
      },
      "outputs": [],
      "source": [
        "# 문제 설명\n",
        "# ANIMAL_INS 테이블은 동물 보호소에 들어온 동물의 정보를 담은 테이블입니다.\n",
        "# ANIMAL_INS 테이블 구조는 다음과 같으며, ANIMAL_ID, ANIMAL_TYPE, DATETIME, INTAKE_CONDITION, NAME, SEX_UPON_INTAKE는\n",
        "# 각각 동물의 아이디, 생물 종, 보호 시작일, 보호 시작 시 상태, 이름, 성별 및 중성화 여부를 나타냅니다.\n",
        "\n",
        "# NAME\tTYPE\tNULLABLE\n",
        "# ANIMAL_ID\tVARCHAR(N)\tFALSE\n",
        "# ANIMAL_TYPE\tVARCHAR(N)\tFALSE\n",
        "# DATETIME\tDATETIME\tFALSE\n",
        "# INTAKE_CONDITION\tVARCHAR(N)\tFALSE\n",
        "# NAME\tVARCHAR(N)\tTRUE\n",
        "# SEX_UPON_INTAKE\tVARCHAR(N)\tFALSE\n",
        "# 동물 보호소에 들어온 모든 동물의 아이디와 이름, 보호 시작일을 이름 순으로 조회하는 SQL문을 작성해주세요.\n",
        "# 단, 이름이 같은 동물 중에서는 보호를 나중에 시작한 동물을 먼저 보여줘야 합니다.\n",
        "\n",
        "# 예시\n",
        "# 예를 들어, ANIMAL_INS 테이블이 다음과 같다면\n",
        "\n",
        "# ANIMAL_ID\tANIMAL_TYPE\tDATETIME\tINTAKE_CONDITION\tNAME\tSEX_UPON_INTAKE\n",
        "# A349996\tCat\t2018-01-22 14:32:00\tNormal\tSugar\tNeutered Male\n",
        "# A350276\tCat\t2017-08-13 13:50:00\tNormal\tJewel\tSpayed Female\n",
        "# A396810\tDog\t2016-08-22 16:13:00\tInjured\tRaven\tSpayed Female\n",
        "# A410668\tCat\t2015-11-19 13:41:00\tNormal\tRaven\tSpayed Female\n",
        "# 이름을 사전 순으로 정렬하면 다음과 같으며, 'Jewel', 'Raven', 'Sugar'\n",
        "# 'Raven'이라는 이름을 가진 개와 고양이가 있으므로, 이 중에서는 보호를 나중에 시작한 개를 먼저 조회합니다.\n",
        "# 따라서 SQL문을 실행하면 다음과 같이 나와야 합니다.\n",
        "\n",
        "# ANIMAL_ID\tNAME\tDATETIME\n",
        "# A350276\tJewel\t2017-08-13 13:50:00\n",
        "# A396810\tRaven\t2016-08-22 16:13:00\n",
        "# A410668\tRaven\t2015-11-19 13:41:00\n",
        "# A349996\tSugar\t2018-01-22 14:32:00"
      ]
    },
    {
      "cell_type": "markdown",
      "source": [
        "1) 내가 쓴 코드"
      ],
      "metadata": {
        "id": "kN66RkPQex-l"
      }
    },
    {
      "cell_type": "code",
      "source": [
        "# SELECT ANIMAL_ID, NAME, DATETIME\n",
        "# FROM ANIMAL_INS\n",
        "# ORDER BY NAME ASC, DATETIME DESC"
      ],
      "metadata": {
        "id": "nOqgUNDeewnz"
      },
      "execution_count": null,
      "outputs": []
    },
    {
      "cell_type": "markdown",
      "source": [
        "# **12. 어린 동물 찾기(250121)**(SELECT)"
      ],
      "metadata": {
        "id": "-ZZLCtjgyLhQ"
      }
    },
    {
      "cell_type": "code",
      "source": [
        "# 문제 설명\n",
        "# ANIMAL_INS 테이블은 동물 보호소에 들어온 동물의 정보를 담은 테이블입니다.\n",
        "# ANIMAL_INS 테이블 구조는 다음과 같으며, ANIMAL_ID, ANIMAL_TYPE, DATETIME, INTAKE_CONDITION, NAME, SEX_UPON_INTAKE는\n",
        "# 각각 동물의 아이디, 생물 종, 보호 시작일, 보호 시작 시 상태, 이름, 성별 및 중성화 여부를 나타냅니다.\n",
        "\n",
        "# NAME\tTYPE\tNULLABLE\n",
        "# ANIMAL_ID\tVARCHAR(N)\tFALSE\n",
        "# ANIMAL_TYPE\tVARCHAR(N)\tFALSE\n",
        "# DATETIME\tDATETIME\tFALSE\n",
        "# INTAKE_CONDITION\tVARCHAR(N)\tFALSE\n",
        "# NAME\tVARCHAR(N)\tTRUE\n",
        "# SEX_UPON_INTAKE\tVARCHAR(N)\tFALSE\n",
        "# 동물 보호소에 들어온 동물 중 젊은 동물1의 아이디와 이름을 조회하는 SQL 문을 작성해주세요. 이때 결과는 아이디 순으로 조회해주세요.\n",
        "\n",
        "# 예시\n",
        "# 예를 들어 ANIMAL_INS 테이블이 다음과 같다면\n",
        "\n",
        "# ANIMAL_ID\tANIMAL_TYPE\tDATETIME\tINTAKE_CONDITION\tNAME\tSEX_UPON_INTAKE\n",
        "# A365172\tDog\t2014-08-26 12:53:00\tNormal\tDiablo\tNeutered Male\n",
        "# A367012\tDog\t2015-09-16 09:06:00\tSick\tMiller\tNeutered Male\n",
        "# A365302\tDog\t2017-01-08 16:34:00\tAged\tMinnie\tSpayed Female\n",
        "# A381217\tDog\t2017-07-08 09:41:00\tSick\tCherokee\tNeutered Male\n",
        "# 이 중 젊은 동물은 Diablo, Miller, Cherokee입니다. 따라서 SQL문을 실행하면 다음과 같이 나와야 합니다.\n",
        "\n",
        "# ANIMAL_ID\tNAME\n",
        "# A365172\tDiablo\n",
        "# A367012\tMiller\n",
        "# A381217\tCherokee"
      ],
      "metadata": {
        "id": "ivD71UxEi5vG"
      },
      "execution_count": 1,
      "outputs": []
    },
    {
      "cell_type": "code",
      "source": [
        "# SELECT ANIMAL_ID, NAME\n",
        "# FROM ANIMAL_INS\n",
        "# WHERE NOT INTAKE_CONDITION = 'Aged'\n",
        "# ORDER BY ANIMAL_ID"
      ],
      "metadata": {
        "id": "xvoogXUQyd6d"
      },
      "execution_count": null,
      "outputs": []
    }
  ]
}