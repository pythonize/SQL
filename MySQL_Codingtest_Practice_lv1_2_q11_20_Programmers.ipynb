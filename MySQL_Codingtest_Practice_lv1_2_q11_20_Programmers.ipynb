{
  "nbformat": 4,
  "nbformat_minor": 0,
  "metadata": {
    "colab": {
      "provenance": [],
      "authorship_tag": "ABX9TyPgFECLAB68s0y2N0t+61mJ"
    },
    "kernelspec": {
      "name": "python3",
      "display_name": "Python 3"
    },
    "language_info": {
      "name": "python"
    }
  },
  "cells": [
    {
      "cell_type": "markdown",
      "source": [
        "# **11. 여러 기준으로 정렬하기(250120)(SELECT)**"
      ],
      "metadata": {
        "id": "x5OMyDD6eg_C"
      }
    },
    {
      "cell_type": "code",
      "execution_count": null,
      "metadata": {
        "id": "jjAa9hjOeIii"
      },
      "outputs": [],
      "source": [
        "# 문제 설명\n",
        "# ANIMAL_INS 테이블은 동물 보호소에 들어온 동물의 정보를 담은 테이블입니다.\n",
        "# ANIMAL_INS 테이블 구조는 다음과 같으며, ANIMAL_ID, ANIMAL_TYPE, DATETIME, INTAKE_CONDITION, NAME, SEX_UPON_INTAKE는\n",
        "# 각각 동물의 아이디, 생물 종, 보호 시작일, 보호 시작 시 상태, 이름, 성별 및 중성화 여부를 나타냅니다.\n",
        "\n",
        "# NAME\tTYPE\tNULLABLE\n",
        "# ANIMAL_ID\tVARCHAR(N)\tFALSE\n",
        "# ANIMAL_TYPE\tVARCHAR(N)\tFALSE\n",
        "# DATETIME\tDATETIME\tFALSE\n",
        "# INTAKE_CONDITION\tVARCHAR(N)\tFALSE\n",
        "# NAME\tVARCHAR(N)\tTRUE\n",
        "# SEX_UPON_INTAKE\tVARCHAR(N)\tFALSE\n",
        "# 동물 보호소에 들어온 모든 동물의 아이디와 이름, 보호 시작일을 이름 순으로 조회하는 SQL문을 작성해주세요.\n",
        "# 단, 이름이 같은 동물 중에서는 보호를 나중에 시작한 동물을 먼저 보여줘야 합니다.\n",
        "\n",
        "# 예시\n",
        "# 예를 들어, ANIMAL_INS 테이블이 다음과 같다면\n",
        "\n",
        "# ANIMAL_ID\tANIMAL_TYPE\tDATETIME\tINTAKE_CONDITION\tNAME\tSEX_UPON_INTAKE\n",
        "# A349996\tCat\t2018-01-22 14:32:00\tNormal\tSugar\tNeutered Male\n",
        "# A350276\tCat\t2017-08-13 13:50:00\tNormal\tJewel\tSpayed Female\n",
        "# A396810\tDog\t2016-08-22 16:13:00\tInjured\tRaven\tSpayed Female\n",
        "# A410668\tCat\t2015-11-19 13:41:00\tNormal\tRaven\tSpayed Female\n",
        "# 이름을 사전 순으로 정렬하면 다음과 같으며, 'Jewel', 'Raven', 'Sugar'\n",
        "# 'Raven'이라는 이름을 가진 개와 고양이가 있으므로, 이 중에서는 보호를 나중에 시작한 개를 먼저 조회합니다.\n",
        "# 따라서 SQL문을 실행하면 다음과 같이 나와야 합니다.\n",
        "\n",
        "# ANIMAL_ID\tNAME\tDATETIME\n",
        "# A350276\tJewel\t2017-08-13 13:50:00\n",
        "# A396810\tRaven\t2016-08-22 16:13:00\n",
        "# A410668\tRaven\t2015-11-19 13:41:00\n",
        "# A349996\tSugar\t2018-01-22 14:32:00"
      ]
    },
    {
      "cell_type": "markdown",
      "source": [
        "1) 내가 쓴 코드"
      ],
      "metadata": {
        "id": "kN66RkPQex-l"
      }
    },
    {
      "cell_type": "code",
      "source": [
        "# SELECT ANIMAL_ID, NAME, DATETIME\n",
        "# FROM ANIMAL_INS\n",
        "# ORDER BY NAME ASC, DATETIME DESC"
      ],
      "metadata": {
        "id": "nOqgUNDeewnz"
      },
      "execution_count": null,
      "outputs": []
    },
    {
      "cell_type": "markdown",
      "source": [
        "# **12. 어린 동물 찾기(250121)**(SELECT)"
      ],
      "metadata": {
        "id": "-ZZLCtjgyLhQ"
      }
    },
    {
      "cell_type": "code",
      "source": [
        "# 문제 설명\n",
        "# ANIMAL_INS 테이블은 동물 보호소에 들어온 동물의 정보를 담은 테이블입니다.\n",
        "# ANIMAL_INS 테이블 구조는 다음과 같으며, ANIMAL_ID, ANIMAL_TYPE, DATETIME, INTAKE_CONDITION, NAME, SEX_UPON_INTAKE는\n",
        "# 각각 동물의 아이디, 생물 종, 보호 시작일, 보호 시작 시 상태, 이름, 성별 및 중성화 여부를 나타냅니다.\n",
        "\n",
        "# NAME\tTYPE\tNULLABLE\n",
        "# ANIMAL_ID\tVARCHAR(N)\tFALSE\n",
        "# ANIMAL_TYPE\tVARCHAR(N)\tFALSE\n",
        "# DATETIME\tDATETIME\tFALSE\n",
        "# INTAKE_CONDITION\tVARCHAR(N)\tFALSE\n",
        "# NAME\tVARCHAR(N)\tTRUE\n",
        "# SEX_UPON_INTAKE\tVARCHAR(N)\tFALSE\n",
        "# 동물 보호소에 들어온 동물 중 젊은 동물1의 아이디와 이름을 조회하는 SQL 문을 작성해주세요. 이때 결과는 아이디 순으로 조회해주세요.\n",
        "\n",
        "# 예시\n",
        "# 예를 들어 ANIMAL_INS 테이블이 다음과 같다면\n",
        "\n",
        "# ANIMAL_ID\tANIMAL_TYPE\tDATETIME\tINTAKE_CONDITION\tNAME\tSEX_UPON_INTAKE\n",
        "# A365172\tDog\t2014-08-26 12:53:00\tNormal\tDiablo\tNeutered Male\n",
        "# A367012\tDog\t2015-09-16 09:06:00\tSick\tMiller\tNeutered Male\n",
        "# A365302\tDog\t2017-01-08 16:34:00\tAged\tMinnie\tSpayed Female\n",
        "# A381217\tDog\t2017-07-08 09:41:00\tSick\tCherokee\tNeutered Male\n",
        "# 이 중 젊은 동물은 Diablo, Miller, Cherokee입니다. 따라서 SQL문을 실행하면 다음과 같이 나와야 합니다.\n",
        "\n",
        "# ANIMAL_ID\tNAME\n",
        "# A365172\tDiablo\n",
        "# A367012\tMiller\n",
        "# A381217\tCherokee"
      ],
      "metadata": {
        "id": "ivD71UxEi5vG"
      },
      "execution_count": null,
      "outputs": []
    },
    {
      "cell_type": "code",
      "source": [
        "# SELECT ANIMAL_ID, NAME\n",
        "# FROM ANIMAL_INS\n",
        "# WHERE NOT INTAKE_CONDITION = 'Aged'\n",
        "# ORDER BY ANIMAL_ID"
      ],
      "metadata": {
        "id": "xvoogXUQyd6d"
      },
      "execution_count": null,
      "outputs": []
    },
    {
      "cell_type": "markdown",
      "source": [
        "# **13. 최솟값 구하기(250122)(SUM, MAX, MIN)**"
      ],
      "metadata": {
        "id": "x-3s3tWb7tLq"
      }
    },
    {
      "cell_type": "code",
      "source": [
        "# 문제 설명\n",
        "# ANIMAL_INS 테이블은 동물 보호소에 들어온 동물의 정보를 담은 테이블입니다.\n",
        "# ANIMAL_INS 테이블 구조는 다음과 같으며, ANIMAL_ID, ANIMAL_TYPE, DATETIME, INTAKE_CONDITION, NAME, SEX_UPON_INTAKE는\n",
        "# 각각 동물의 아이디, 생물 종, 보호 시작일, 보호 시작 시 상태, 이름, 성별 및 중성화 여부를 나타냅니다.\n",
        "\n",
        "# NAME\tTYPE\tNULLABLE\n",
        "# ANIMAL_ID\tVARCHAR(N)\tFALSE\n",
        "# ANIMAL_TYPE\tVARCHAR(N)\tFALSE\n",
        "# DATETIME\tDATETIME\tFALSE\n",
        "# INTAKE_CONDITION\tVARCHAR(N)\tFALSE\n",
        "# NAME\tVARCHAR(N)\tTRUE\n",
        "# SEX_UPON_INTAKE\tVARCHAR(N)\tFALSE\n",
        "# 동물 보호소에 가장 먼저 들어온 동물은 언제 들어왔는지 조회하는 SQL 문을 작성해주세요.\n",
        "\n",
        "# 예시\n",
        "# 예를 들어 ANIMAL_INS 테이블이 다음과 같다면\n",
        "\n",
        "# ANIMAL_ID\tANIMAL_TYPE\tDATETIME\tINTAKE_CONDITION\tNAME\tSEX_UPON_INTAKE\n",
        "# A399552\tDog\t2013-10-14 15:38:00\tNormal\tJack\tNeutered Male\n",
        "# A379998\tDog\t2013-10-23 11:42:00\tNormal\tDisciple\tIntact Male\n",
        "# A370852\tDog\t2013-11-03 15:04:00\tNormal\tKatie\tSpayed Female\n",
        "# A403564\tDog\t2013-11-18 17:03:00\tNormal\tAnna\tSpayed Female\n",
        "# 가장 먼저 들어온 동물은 Jack이고, Jack은 2013-10-14 15:38:00에 들어왔습니다.\n",
        "# 따라서 SQL문을 실행하면 다음과 같이 나와야 합니다.\n",
        "\n",
        "# 시간\n",
        "# 2013-10-14 15:38:00\n",
        "# ※ 컬럼 이름(위 예제에서는 \"시간\")은 일치하지 않아도 됩니다."
      ],
      "metadata": {
        "id": "y6NkJF0674l2"
      },
      "execution_count": null,
      "outputs": []
    },
    {
      "cell_type": "code",
      "source": [
        "# SELECT MIN(DATETIME)\n",
        "# FROM ANIMAL_INS\n",
        "# ORDER BY DATETIME"
      ],
      "metadata": {
        "id": "LrFzpQPA8Fan"
      },
      "execution_count": null,
      "outputs": []
    },
    {
      "cell_type": "markdown",
      "source": [
        "# **14. 이름이 없는 동물의 아이디(250123)(IS NULL)**"
      ],
      "metadata": {
        "id": "n7LS1E9z9c-8"
      }
    },
    {
      "cell_type": "code",
      "source": [
        "# 문제 설명\n",
        "# ANIMAL_INS 테이블은 동물 보호소에 들어온 동물의 정보를 담은 테이블입니다.\n",
        "# ANIMAL_INS 테이블 구조는 다음과 같으며, ANIMAL_ID, ANIMAL_TYPE, DATETIME, INTAKE_CONDITION, NAME, SEX_UPON_INTAKE는\n",
        "# 각각 동물의 아이디, 생물 종, 보호 시작일, 보호 시작 시 상태, 이름, 성별 및 중성화 여부를 나타냅니다.\n",
        "\n",
        "# NAME\tTYPE\tNULLABLE\n",
        "# ANIMAL_ID\tVARCHAR(N)\tFALSE\n",
        "# ANIMAL_TYPE\tVARCHAR(N)\tFALSE\n",
        "# DATETIME\tDATETIME\tFALSE\n",
        "# INTAKE_CONDITION\tVARCHAR(N)\tFALSE\n",
        "# NAME\tVARCHAR(N)\tTRUE\n",
        "# SEX_UPON_INTAKE\tVARCHAR(N)\tFALSE\n",
        "# 동물 보호소에 들어온 동물 중, 이름이 없는 채로 들어온 동물의 ID를 조회하는 SQL 문을 작성해주세요. 단, ID는 오름차순 정렬되어야 합니다.\n",
        "\n",
        "# 예시\n",
        "# 예를 들어 ANIMAL_INS 테이블이 다음과 같다면\n",
        "\n",
        "# ANIMAL_ID\tANIMAL_TYPE\tDATETIME\tINTAKE_CONDITION\tNAME\tSEX_UPON_INTAKE\n",
        "# A368930\tDog\t2014-06-08 13:20:00\tNormal\tNULL\tSpayed Female\n",
        "# A524634\tDog\t2015-01-02 18:54:00\tNormal\t*Belle\tIntact Female\n",
        "# A465637\tDog\t2017-06-04 08:17:00\tInjured\t*Commander\tNeutered Male\n",
        "# 이름이 없는 채로 들어온 동물의 ID는 A368930입니다. 따라서 SQL을 실행하면 다음과 같이 출력되어야 합니다.\n",
        "\n",
        "# ANIMAL_ID\n",
        "# A368930"
      ],
      "metadata": {
        "id": "7k0tt3rN9oOX"
      },
      "execution_count": null,
      "outputs": []
    },
    {
      "cell_type": "code",
      "source": [
        "# SELECT ANIMAL_ID\n",
        "# FROM ANIMAL_INS\n",
        "# WHERE NAME IS NULL\n",
        "# ORDER BY ANIMAL_ID"
      ],
      "metadata": {
        "id": "3McmakAC9t3r"
      },
      "execution_count": null,
      "outputs": []
    },
    {
      "cell_type": "markdown",
      "source": [
        "# **15. 동명 동물 수 찾기(250127)(GROUP BY)**"
      ],
      "metadata": {
        "id": "id8Kj8H99BbI"
      }
    },
    {
      "cell_type": "code",
      "source": [
        "# 문제 설명\n",
        "# ANIMAL_INS 테이블은 동물 보호소에 들어온 동물의 정보를 담은 테이블입니다.\n",
        "# ANIMAL_INS 테이블 구조는 다음과 같으며, ANIMAL_ID, ANIMAL_TYPE, DATETIME, INTAKE_CONDITION, NAME, SEX_UPON_INTAKE는\n",
        "# 각각 동물의 아이디, 생물 종, 보호 시작일, 보호 시작 시 상태, 이름, 성별 및 중성화 여부를 나타냅니다.\n",
        "\n",
        "# NAME\tTYPE\tNULLABLE\n",
        "# ANIMAL_ID\tVARCHAR(N)\tFALSE\n",
        "# ANIMAL_TYPE\tVARCHAR(N)\tFALSE\n",
        "# DATETIME\tDATETIME\tFALSE\n",
        "# INTAKE_CONDITION\tVARCHAR(N)\tFALSE\n",
        "# NAME\tVARCHAR(N)\tTRUE\n",
        "# SEX_UPON_INTAKE\tVARCHAR(N)\tFALSE\n",
        "# 동물 보호소에 들어온 동물 이름 중 두 번 이상 쓰인 이름과 해당 이름이 쓰인 횟수를 조회하는 SQL문을 작성해주세요.\n",
        "# 이때 결과는 이름이 없는 동물은 집계에서 제외하며, 결과는 이름 순으로 조회해주세요.\n",
        "\n",
        "# 예시\n",
        "# 예를 들어 ANIMAL_INS 테이블이 다음과 같다면\n",
        "\n",
        "# ANIMAL_ID\tANIMAL_TYPE\tDATETIME\tINTAKE_CONDITION\tNAME\tSEX_UPON_INTAKE\n",
        "# A396810\tDog\t2016-08-22 16:13:00\tInjured\tRaven\tSpayed Female\n",
        "# A377750\tDog\t2017-10-25 17:17:00\tNormal\tLucy\tSpayed Female\n",
        "# A355688\tDog\t2014-01-26 13:48:00\tNormal\tShadow\tNeutered Male\n",
        "# A399421\tDog\t2015-08-25 14:08:00\tNormal\tLucy\tSpayed Female\n",
        "# A400680\tDog\t2017-06-17 13:29:00\tNormal\tLucy\tSpayed Female\n",
        "# A410668\tCat\t2015-11-19 13:41:00\tNormal\tRaven\tSpayed Female\n",
        "# Raven 이름은 2번 쓰였습니다.\n",
        "# Lucy 이름은 3번 쓰였습니다\n",
        "# Shadow 이름은 1번 쓰였습니다.\n",
        "# 따라서 SQL문을 실행하면 다음과 같이 나와야 합니다.\n",
        "\n",
        "# NAME\tCOUNT\n",
        "# Lucy\t3\n",
        "# Raven\t2"
      ],
      "metadata": {
        "id": "sydyVdn09HOe"
      },
      "execution_count": null,
      "outputs": []
    },
    {
      "cell_type": "markdown",
      "source": [
        "1) 내 코드"
      ],
      "metadata": {
        "id": "NT4UPTyc9NrE"
      }
    },
    {
      "cell_type": "code",
      "source": [
        "# SELECT NAME, COUNT(NAME) as COUNT\n",
        "# FROM ANIMAL_INS\n",
        "# WHERE NAME IS NOT NULL\n",
        "# GROUP BY NAME\n",
        "# HAVING COUNT(NAME) >= 2\n",
        "# ORDER BY NAME"
      ],
      "metadata": {
        "id": "oFnfPmpo9NOt"
      },
      "execution_count": null,
      "outputs": []
    },
    {
      "cell_type": "markdown",
      "source": [
        "# **16. 이름에 el이 들어가는 동물 찾기(250131)(String, Date)**"
      ],
      "metadata": {
        "id": "c3l4810orZ3X"
      }
    },
    {
      "cell_type": "code",
      "source": [
        "# 문제 설명\n",
        "# ANIMAL_INS 테이블은 동물 보호소에 들어온 동물의 정보를 담은 테이블입니다.\n",
        "# ANIMAL_INS 테이블 구조는 다음과 같으며, ANIMAL_ID, ANIMAL_TYPE, DATETIME, INTAKE_CONDITION, NAME, SEX_UPON_INTAKE는\n",
        "# 각각 동물의 아이디, 생물 종, 보호 시작일, 보호 시작 시 상태, 이름, 성별 및 중성화 여부를 나타냅니다.\n",
        "\n",
        "# NAME\tTYPE\tNULLABLE\n",
        "# ANIMAL_ID\tVARCHAR(N)\tFALSE\n",
        "# ANIMAL_TYPE\tVARCHAR(N)\tFALSE\n",
        "# DATETIME\tDATETIME\tFALSE\n",
        "# INTAKE_CONDITION\tVARCHAR(N)\tFALSE\n",
        "# NAME\tVARCHAR(N)\tTRUE\n",
        "# SEX_UPON_INTAKE\tVARCHAR(N)\tFALSE\n",
        "# 보호소에 돌아가신 할머니가 기르던 개를 찾는 사람이 찾아왔습니다.\n",
        "# 이 사람이 말하길 할머니가 기르던 개는 이름에 'el'이 들어간다고 합니다.\n",
        "# 동물 보호소에 들어온 동물 이름 중, 이름에 \"EL\"이 들어가는 개의 아이디와 이름을 조회하는 SQL문을 작성해주세요.\n",
        "# 이때 결과는 이름 순으로 조회해주세요. 단, 이름의 대소문자는 구분하지 않습니다.\n",
        "\n",
        "# 예시\n",
        "# 예를 들어 ANIMAL_INS 테이블이 다음과 같다면\n",
        "\n",
        "# ANIMAL_ID\tANIMAL_TYPE\tDATETIME\tINTAKE_CONDITION\tNAME\tSEX_UPON_INTAKE\n",
        "# A355753\tDog\t2015-09-10 13:14:00\tNormal\tElijah\tNeutered Male\n",
        "# A352872\tDog\t2015-07-09 17:51:00\tAged\tPeanutbutter\tNeutered Male\n",
        "# A353259\tDog\t2016-05-08 12:57:00\tInjured\tBj\tNeutered Male\n",
        "# A373219\tCat\t2014-07-29 11:43:00\tNormal\tElla\tSpayed Female\n",
        "# A382192\tDog\t2015-03-13 13:14:00\tNormal\tMaxwell 2\tIntact Male\n",
        "# 이름에 'el'이 들어가는 동물은 Elijah, Ella, Maxwell 2입니다.\n",
        "# 이 중, 개는 Elijah, Maxwell 2입니다.\n",
        "# 따라서 SQL문을 실행하면 다음과 같이 나와야 합니다.\n",
        "\n",
        "# ANIMAL_ID\tNAME\n",
        "# A355753\tElijah\n",
        "# A382192\tMaxwell 2"
      ],
      "metadata": {
        "id": "IFExkzzYrgQP"
      },
      "execution_count": null,
      "outputs": []
    },
    {
      "cell_type": "markdown",
      "source": [
        "1) 내 코드"
      ],
      "metadata": {
        "id": "MhJUQMUBrsBz"
      }
    },
    {
      "cell_type": "code",
      "source": [
        "# SELECT ANIMAL_ID, NAME\n",
        "# FROM ANIMAL_INS\n",
        "# WHERE NAME LIKE '%el%' AND ANIMAL_TYPE = 'Dog'\n",
        "# ORDER BY NAME"
      ],
      "metadata": {
        "id": "Dp0Ys-lBrrSu"
      },
      "execution_count": null,
      "outputs": []
    },
    {
      "cell_type": "markdown",
      "source": [
        "# **17. NULL 처리하기(250201)(IS NULL)**(오답)"
      ],
      "metadata": {
        "id": "A1AjMDOwsEUp"
      }
    },
    {
      "cell_type": "code",
      "source": [
        "# 문제 설명\n",
        "# ANIMAL_INS 테이블은 동물 보호소에 들어온 동물의 정보를 담은 테이블입니다.\n",
        "# ANIMAL_INS 테이블 구조는 다음과 같으며, ANIMAL_ID, ANIMAL_TYPE, DATETIME, INTAKE_CONDITION, NAME, SEX_UPON_INTAKE는\n",
        "# 각각 동물의 아이디, 생물 종, 보호 시작일, 보호 시작 시 상태, 이름, 성별 및 중성화 여부를 나타냅니다.\n",
        "\n",
        "# NAME\tTYPE\tNULLABLE\n",
        "# ANIMAL_ID\tVARCHAR(N)\tFALSE\n",
        "# ANIMAL_TYPE\tVARCHAR(N)\tFALSE\n",
        "# DATETIME\tDATETIME\tFALSE\n",
        "# INTAKE_CONDITION\tVARCHAR(N)\tFALSE\n",
        "# NAME\tVARCHAR(N)\tTRUE\n",
        "# SEX_UPON_INTAKE\tVARCHAR(N)\tFALSE\n",
        "# 입양 게시판에 동물 정보를 게시하려 합니다. 동물의 생물 종, 이름, 성별 및 중성화 여부를 아이디 순으로 조회하는 SQL문을 작성해주세요.\n",
        "# 이때 프로그래밍을 모르는 사람들은 NULL이라는 기호를 모르기 때문에, 이름이 없는 동물의 이름은 \"No name\"으로 표시해 주세요.\n",
        "\n",
        "# 예시\n",
        "# 예를 들어 ANIMAL_INS 테이블이 다음과 같다면\n",
        "\n",
        "# ANIMAL_ID\tANIMAL_TYPE\tDATETIME\tINTAKE_CONDITION\tNAME\tSEX_UPON_INTAKE\n",
        "# A350276\tCat\t2017-08-13 13:50:00\tNormal\tJewel\tSpayed Female\n",
        "# A350375\tCat\t2017-03-06 15:01:00\tNormal\tMeo\tNeutered Male\n",
        "# A368930\tDog\t2014-06-08 13:20:00\tNormal\tNULL\tSpayed Female\n",
        "# 마지막 줄의 개는 이름이 없기 때문에, 이 개의 이름은 \"No name\"으로 표시합니다. 따라서 SQL문을 실행하면 다음과 같이 나와야 합니다.\n",
        "\n",
        "# ANIMAL_TYPE\tNAME\tSEX_UPON_INTAKE\n",
        "# Cat\tJewel\tSpayed Female\n",
        "# Cat\tMeo\tNeutered Male\n",
        "# Dog\tNo name\tSpayed Female\n",
        "# ※ 컬럼 이름은 일치하지 않아도 됩니다."
      ],
      "metadata": {
        "id": "fP60WGr-sKuX"
      },
      "execution_count": null,
      "outputs": []
    },
    {
      "cell_type": "markdown",
      "source": [
        "1) 내 코드(오답)"
      ],
      "metadata": {
        "id": "pW-kxGITscfU"
      }
    },
    {
      "cell_type": "markdown",
      "source": [
        "2) gpt 코드"
      ],
      "metadata": {
        "id": "QBXHRK3B17Y1"
      }
    },
    {
      "cell_type": "code",
      "source": [
        "# SELECT ANIMAL_TYPE,  -- 동물의 생물 종을 선택\n",
        "#        IFNULL(NAME, 'No name') AS NAME,  -- NAME이 NULL이면 'No name'으로 표시, 아니면 기존 값 유지\n",
        "#        SEX_UPON_INTAKE  -- 성별 및 중성화 여부 선택\n",
        "# FROM ANIMAL_INS  -- ANIMAL_INS 테이블에서 조회\n",
        "# ORDER BY ANIMAL_ID;  -- ANIMAL_ID 기준으로 오름차순 정렬"
      ],
      "metadata": {
        "id": "ggkkUuiz17Dp"
      },
      "execution_count": null,
      "outputs": []
    },
    {
      "cell_type": "code",
      "source": [
        "# 설명\n",
        "# 1. SELECT ANIMAL_TYPE\n",
        "#  - ANIMAL_TYPE 컬럼을 선택하여 동물의 종(예: 개, 고양이 등)을 가져옵니다.\n",
        "\n",
        "# 2. IFNULL(NAME, 'No name') AS NAME\n",
        "#  - NAME 컬럼이 NULL이면 \"No name\"으로 변경하고, 그렇지 않으면 기존 NAME 값을 유지합니다.\n",
        "#  - IFNULL(column, 대체값)은 MySQL에서 제공하는 함수로, column 값이 NULL이면 대체값을 반환합니다.\n",
        "#  - 결과적으로, 보호소에 들어올 때 이름이 없는 동물은 \"No name\"으로 표시됩니다."
      ],
      "metadata": {
        "id": "goG6y21N2hTm"
      },
      "execution_count": null,
      "outputs": []
    },
    {
      "cell_type": "code",
      "source": [
        "# SELECT ANIMAL_TYPE,  -- 동물의 생물 종을 선택\n",
        "#        CASE WHEN NAME IS NULL THEN 'No name' ELSE NAME END AS NAME,  -- NAME이 NULL이면 'No name', 그렇지 않으면 원래 값 유지\n",
        "#        SEX_UPON_INTAKE  -- 성별 및 중성화 여부 선택\n",
        "# FROM ANIMAL_INS  -- ANIMAL_INS 테이블에서 조회\n",
        "# ORDER BY ANIMAL_ID;  -- ANIMAL_ID 기준으로 오름차순 정렬"
      ],
      "metadata": {
        "id": "hXFi69iIsdvL"
      },
      "execution_count": null,
      "outputs": []
    },
    {
      "cell_type": "code",
      "source": [
        "# 설명\n",
        "\n",
        "# 1. SELECT ANIMAL_TYPE\n",
        "#  - 동물의 생물 종(개, 고양이 등)을 조회합니다.\n",
        "\n",
        "# 2. CASE WHEN NAME IS NULL THEN 'No name' ELSE NAME END AS NAME\n",
        "#  - CASE 문을 사용하여 NAME 값이 NULL인지 확인합니다.\n",
        "#  - WHEN NAME IS NULL THEN 'No name' → NAME 값이 NULL이면 \"No name\"으로 변경합니다.\n",
        "#  - ELSE NAME → 그렇지 않으면 기존 NAME 값을 그대로 유지합니다.\n",
        "#  - END → CASE 문을 종료합니다.\n",
        "#  - 결과적으로 NULL 값을 \"No name\"으로 변환하여 출력합니다."
      ],
      "metadata": {
        "id": "y_2twa0u24Z-"
      },
      "execution_count": null,
      "outputs": []
    },
    {
      "cell_type": "markdown",
      "source": [
        "# **18. DATETIME에서 DATE로 형 변환(250205)(String, Date)**"
      ],
      "metadata": {
        "id": "e3tbXT7D-mWE"
      }
    },
    {
      "cell_type": "code",
      "source": [
        "# 문제 설명\n",
        "# ANIMAL_INS 테이블은 동물 보호소에 들어온 동물의 정보를 담은 테이블입니다.\n",
        "# ANIMAL_INS 테이블 구조는 다음과 같으며, ANIMAL_ID, ANIMAL_TYPE, DATETIME, INTAKE_CONDITION, NAME, SEX_UPON_INTAKE는\n",
        "# 각각 동물의 아이디, 생물 종, 보호 시작일, 보호 시작 시 상태, 이름, 성별 및 중성화 여부를 나타냅니다.\n",
        "\n",
        "# NAME\tTYPE\tNULLABLE\n",
        "# ANIMAL_ID\tVARCHAR(N)\tFALSE\n",
        "# ANIMAL_TYPE\tVARCHAR(N)\tFALSE\n",
        "# DATETIME\tDATETIME\tFALSE\n",
        "# INTAKE_CONDITION\tVARCHAR(N)\tFALSE\n",
        "# NAME\tVARCHAR(N)\tTRUE\n",
        "# SEX_UPON_INTAKE\tVARCHAR(N)\tFALSE\n",
        "# ANIMAL_INS 테이블에 등록된 모든 레코드에 대해,\n",
        "\n",
        "# 각 동물의 아이디와 이름, 들어온 날짜1를 조회하는 SQL문을 작성해주세요. 이때 결과는 아이디 순으로 조회해야 합니다.\n",
        "\n",
        "# 예시\n",
        "# 예를 들어, ANIMAL_INS 테이블이 다음과 같다면\n",
        "\n",
        "# ANIMAL_INS\n",
        "\n",
        "# ANIMAL_ID\tANIMAL_TYPE\tDATETIME\tINTAKE_CONDITION\tNAME\tSEX_UPON_INTAKE\n",
        "# A349996\tCat\t2018-01-22 14:32:00\tNormal\tSugar\tNeutered Male\n",
        "# A350276\tCat\t2017-08-13 13:50:00\tNormal\tJewel\tSpayed Female\n",
        "# A350375\tCat\t2017-03-06 15:01:00\tNormal\tMeo\tNeutered Male\n",
        "# A352555\tDog\t2014-08-08 04:20:00\tNormal\tHarley\tSpayed Female\n",
        "# A352713\tCat\t2017-04-13 16:29:00\tNormal\tGia\tSpayed Female\n",
        "# SQL문을 실행하면 다음과 같이 나와야 합니다.\n",
        "\n",
        "# ANIMAL_ID\tNAME\t날짜\n",
        "# A349996\tSugar\t2018-01-22\n",
        "# A350276\tJewel\t2017-08-13\n",
        "# A350375\tMeo\t2017-03-06\n",
        "# A352555\tHarley\t2014-08-08\n",
        "# A352713\tGia\t2017-04-13"
      ],
      "metadata": {
        "id": "7t0bE4kJ-wI4"
      },
      "execution_count": null,
      "outputs": []
    },
    {
      "cell_type": "markdown",
      "source": [
        "1) 내 코드"
      ],
      "metadata": {
        "id": "Pp3wvcn3-6_7"
      }
    },
    {
      "cell_type": "code",
      "source": [
        "SELECT ANIMAL_ID, NAME, DATE_FORMAT(DATETIME, '%Y-%m-%d') AS 날짜\n",
        "FROM ANIMAL_INS\n",
        "ORDER BY ANIMAL_ID;"
      ],
      "metadata": {
        "id": "lq4N06cK-0Oh"
      },
      "execution_count": null,
      "outputs": []
    },
    {
      "cell_type": "markdown",
      "source": [
        "# **19. 경기도에 위치한 식품창고 목록 출력하기(250206)(IS NULL)**"
      ],
      "metadata": {
        "id": "fVLvd2df573e"
      }
    },
    {
      "cell_type": "code",
      "source": [
        "# 문제 설명\n",
        "# 다음은 식품창고의 정보를 담은 FOOD_WAREHOUSE 테이블입니다.\n",
        "# FOOD_WAREHOUSE 테이블은 다음과 같으며 WAREHOUSE_ID, WAREHOUSE_NAME, ADDRESS, TLNO, FREEZER_YN는 창고 ID, 창고 이름, 창고 주소, 전화번호, 냉동시설 여부를 의미합니다.\n",
        "\n",
        "# Column name\tType\tNullable\n",
        "# WAREHOUSE_ID\tVARCHAR(10)\tFALSE\n",
        "# WAREHOUSE_NAME\tVARCHAR(20)\tFALSE\n",
        "# ADDRESS\tVARCHAR(100)\tTRUE\n",
        "# TLNO\tVARCHAR(20)\tTRUE\n",
        "# FREEZER_YN\tVARCHAR(1)\tTRUE\n",
        "# 문제\n",
        "# FOOD_WAREHOUSE 테이블에서 경기도에 위치한 창고의 ID, 이름, 주소, 냉동시설 여부를 조회하는 SQL문을 작성해주세요.\n",
        "# 이때 냉동시설 여부가 NULL인 경우, 'N'으로 출력시켜 주시고 결과는 창고 ID를 기준으로 오름차순 정렬해주세요.\n",
        "\n",
        "# 예시\n",
        "# FOOD_WAREHOUSE 테이블이 다음과 같을 때\n",
        "\n",
        "# WAREHOUSE_ID\tWAREHOUSE_NAME\tADDRESS\tTLNO\tFREEZER_YN\n",
        "# WH0001\t창고_경기1\t경기도 안산시 상록구 용담로 141\t031-152-1332\tY\n",
        "# WH0002\t창고_충북1\t충청북도 진천군 진천읍 씨제이로 110\t043-623-9900\tY\n",
        "# WH0003\t창고_경기2\t경기도 이천시 마장면 덕평로 811\t031-221-7241\tNULL\n",
        "# WH0004\t창고_경기3\t경기도 김포시 대곶면 율생중앙로205번길\t031-671-1900\tN\n",
        "# WH0005\t창고_충남1\t충청남도 천안시 동남구 광덕면 신덕리1길 9\t041-876-5421\tY\n",
        "# SQL을 실행하면 다음과 같이 출력되어야 합니다.\n",
        "\n",
        "# WAREHOUSE_ID\tWAREHOUSE_NAME\tADDRESS\tFREEZER_YN\n",
        "# WH0001\t창고_경기1\t경기도 안산시 상록구 용담로 141\tY\n",
        "# WH0003\t창고_경기2\t경기도 이천시 마장면 덕평로 811\tN\n",
        "# WH0004\t창고_경기3\t경기도 김포시 대곶면 율생중앙로205번길\tN"
      ],
      "metadata": {
        "id": "an7txSXt6C3W"
      },
      "execution_count": null,
      "outputs": []
    },
    {
      "cell_type": "code",
      "source": [
        "# SELECT WAREHOUSE_ID, WAREHOUSE_NAME, ADDRESS, IFNULL(FREEZER_YN, 'N') AS FREEZER_YN\n",
        "# FROM FOOD_WAREHOUSE\n",
        "# WHERE ADDRESS LIKE '경기도%'\n",
        "# ORDER BY WAREHOUSE_ID;"
      ],
      "metadata": {
        "id": "mP9OcBgW6Sv1"
      },
      "execution_count": null,
      "outputs": []
    },
    {
      "cell_type": "markdown",
      "source": [
        "# **20. 가격이 제일 비싼 식품의 정보 출력하기(250210)(SUM, MAX, MIN)**"
      ],
      "metadata": {
        "id": "d4-FJm3Ntm1H"
      }
    },
    {
      "cell_type": "code",
      "source": [
        "# 문제 설명\n",
        "# 다음은 식품의 정보를 담은 FOOD_PRODUCT 테이블입니다. FOOD_PRODUCT 테이블은 다음과 같으며\n",
        "# PRODUCT_ID, PRODUCT_NAME, PRODUCT_CD, CATEGORY, PRICE는 식품 ID, 식품 이름, 식품 코드, 식품분류, 식품 가격을 의미합니다.\n",
        "\n",
        "# Column name\tType\tNullable\n",
        "# PRODUCT_ID\tVARCHAR(10)\tFALSE\n",
        "# PRODUCT_NAME\tVARCHAR(50)\tFALSE\n",
        "# PRODUCT_CD\tVARCHAR(10)\tTRUE\n",
        "# CATEGORY\tVARCHAR(10)\tTRUE\n",
        "# PRICE\tNUMBER\tTRUE\n",
        "\n",
        "# 문제\n",
        "# FOOD_PRODUCT 테이블에서 가격이 제일 비싼 식품의 식품 ID, 식품 이름, 식품 코드, 식품분류, 식품 가격을 조회하는 SQL문을 작성해주세요.\n",
        "\n",
        "# 예시\n",
        "# FOOD_PRODUCT 테이블이 다음과 같을 때\n",
        "\n",
        "# PRODUCT_ID\tPRODUCT_NAME\tPRODUCT_CD\tCATEGORY\tPRICE\n",
        "# P0018\t맛있는고추기름\tCD_OL00008\t식용유\t6100\n",
        "# P0019\t맛있는카놀라유\tCD_OL00009\t식용유\t5100\n",
        "# P0020\t맛있는산초유\tCD_OL00010\t식용유\t6500\n",
        "# P0021\t맛있는케첩\tCD_OL00001\t소스\t4500\n",
        "# P0022\t맛있는마요네즈\tCD_OL00002\t소스\t4700\n",
        "# SQL을 실행하면 다음과 같이 출력되어야 합니다.\n",
        "\n",
        "# PRODUCT_ID\tPRODUCT_NAME\tPRODUCT_CD\tCATEGORY\tPRICE\n",
        "# P0020\t맛있는산초유\tCD_OL00010\t식용유\t6500"
      ],
      "metadata": {
        "id": "ieFPF_f6t0_N"
      },
      "execution_count": null,
      "outputs": []
    },
    {
      "cell_type": "markdown",
      "source": [
        "1) 내 코드"
      ],
      "metadata": {
        "id": "-Fw5-3IGt9EQ"
      }
    },
    {
      "cell_type": "code",
      "source": [
        "# SELECT PRODUCT_ID, PRODUCT_NAME, PRODUCT_CD, CATEGORY, MAX(PRICE)\n",
        "# FROM FOOD_PRODUCT;"
      ],
      "metadata": {
        "id": "HEy5czAEt_nE"
      },
      "execution_count": null,
      "outputs": []
    },
    {
      "cell_type": "markdown",
      "source": [
        "MAX(PRICE)를 사용하면 테이블의 가장 큰 가격 값만 가져오지만,\n",
        "\n",
        "PRODUCT_ID, PRODUCT_NAME, PRODUCT_CD, CATEGORY가 GROUP BY 없이 함께 조회되었기 때문에 에러 발생 또는 예상과 다른 결과 출력"
      ],
      "metadata": {
        "id": "ZM58pUeWzSS4"
      }
    },
    {
      "cell_type": "markdown",
      "source": [
        "2) gpt 코드"
      ],
      "metadata": {
        "id": "s4_a46_xzWSc"
      }
    },
    {
      "cell_type": "code",
      "source": [
        "# SELECT PRODUCT_ID, PRODUCT_NAME, PRODUCT_CD, CATEGORY, PRICE\n",
        "# FROM FOOD_PRODUCT\n",
        "# ORDER BY PRICE DESC\n",
        "# LIMIT 1;"
      ],
      "metadata": {
        "id": "10k5buhFzUU_"
      },
      "execution_count": null,
      "outputs": []
    },
    {
      "cell_type": "code",
      "source": [
        "# SELECT PRODUCT_ID, PRODUCT_NAME, PRODUCT_CD, CATEGORY, PRICE\n",
        "# FROM FOOD_PRODUCT\n",
        "# WHERE PRICE = (SELECT MAX(PRICE) FROM FOOD_PRODUCT);"
      ],
      "metadata": {
        "id": "EeXmer4Izb0K"
      },
      "execution_count": null,
      "outputs": []
    }
  ]
}