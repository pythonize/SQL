{
  "nbformat": 4,
  "nbformat_minor": 0,
  "metadata": {
    "colab": {
      "provenance": [],
      "authorship_tag": "ABX9TyNLaee+UDPf1uP3PCEcNI+O"
    },
    "kernelspec": {
      "name": "python3",
      "display_name": "Python 3"
    },
    "language_info": {
      "name": "python"
    }
  },
  "cells": [
    {
      "cell_type": "markdown",
      "source": [
        "# **16. 이름에 el이 들어가는 동물 찾기(250131)(String, Date)**"
      ],
      "metadata": {
        "id": "3iKEgzDxuqR3"
      }
    },
    {
      "cell_type": "code",
      "execution_count": null,
      "metadata": {
        "id": "eTCCN_P6eW1T"
      },
      "outputs": [],
      "source": [
        "# 문제 설명\n",
        "# ANIMAL_INS 테이블은 동물 보호소에 들어온 동물의 정보를 담은 테이블입니다.\n",
        "# ANIMAL_INS 테이블 구조는 다음과 같으며, ANIMAL_ID, ANIMAL_TYPE, DATETIME, INTAKE_CONDITION, NAME, SEX_UPON_INTAKE는\n",
        "# 각각 동물의 아이디, 생물 종, 보호 시작일, 보호 시작 시 상태, 이름, 성별 및 중성화 여부를 나타냅니다.\n",
        "\n",
        "# NAME\tTYPE\tNULLABLE\n",
        "# ANIMAL_ID\tVARCHAR(N)\tFALSE\n",
        "# ANIMAL_TYPE\tVARCHAR(N)\tFALSE\n",
        "# DATETIME\tDATETIME\tFALSE\n",
        "# INTAKE_CONDITION\tVARCHAR(N)\tFALSE\n",
        "# NAME\tVARCHAR(N)\tTRUE\n",
        "# SEX_UPON_INTAKE\tVARCHAR(N)\tFALSE\n",
        "# 보호소에 돌아가신 할머니가 기르던 개를 찾는 사람이 찾아왔습니다.\n",
        "# 이 사람이 말하길 할머니가 기르던 개는 이름에 'el'이 들어간다고 합니다.\n",
        "# 동물 보호소에 들어온 동물 이름 중, 이름에 \"EL\"이 들어가는 개의 아이디와 이름을 조회하는 SQL문을 작성해주세요.\n",
        "# 이때 결과는 이름 순으로 조회해주세요. 단, 이름의 대소문자는 구분하지 않습니다.\n",
        "\n",
        "# 예시\n",
        "# 예를 들어 ANIMAL_INS 테이블이 다음과 같다면\n",
        "\n",
        "# ANIMAL_ID\tANIMAL_TYPE\tDATETIME\tINTAKE_CONDITION\tNAME\tSEX_UPON_INTAKE\n",
        "# A355753\tDog\t2015-09-10 13:14:00\tNormal\tElijah\tNeutered Male\n",
        "# A352872\tDog\t2015-07-09 17:51:00\tAged\tPeanutbutter\tNeutered Male\n",
        "# A353259\tDog\t2016-05-08 12:57:00\tInjured\tBj\tNeutered Male\n",
        "# A373219\tCat\t2014-07-29 11:43:00\tNormal\tElla\tSpayed Female\n",
        "# A382192\tDog\t2015-03-13 13:14:00\tNormal\tMaxwell 2\tIntact Male\n",
        "# 이름에 'el'이 들어가는 동물은 Elijah, Ella, Maxwell 2입니다.\n",
        "# 이 중, 개는 Elijah, Maxwell 2입니다.\n",
        "# 따라서 SQL문을 실행하면 다음과 같이 나와야 합니다.\n",
        "\n",
        "# ANIMAL_ID\tNAME\n",
        "# A355753\tElijah\n",
        "# A382192\tMaxwell 2"
      ]
    },
    {
      "cell_type": "code",
      "source": [
        "# SELECT ANIMAL_ID, NAME\n",
        "# FROM ANIMAL_INS\n",
        "# WHERE NAME LIKE '%el%' AND ANIMAL_TYPE = 'Dog'\n",
        "# ORDER BY NAME"
      ],
      "metadata": {
        "id": "GeokIkNzuzKV"
      },
      "execution_count": null,
      "outputs": []
    },
    {
      "cell_type": "markdown",
      "source": [
        "# **17. NULL 처리하기(250201)(IS NULL)**(오답)"
      ],
      "metadata": {
        "id": "pE0ZYt8V3Qjb"
      }
    },
    {
      "cell_type": "markdown",
      "source": [
        "1) IFNULL"
      ],
      "metadata": {
        "id": "_mZ_Q4YQ3dgV"
      }
    },
    {
      "cell_type": "code",
      "source": [
        "# SELECT ANIMAL_TYPE,  -- 동물의 생물 종을 선택\n",
        "#        IFNULL(NAME, 'No name') AS NAME,  -- NAME이 NULL이면 'No name'으로 표시, 아니면 기존 값 유지\n",
        "#        SEX_UPON_INTAKE  -- 성별 및 중성화 여부 선택\n",
        "# FROM ANIMAL_INS  -- ANIMAL_INS 테이블에서 조회\n",
        "# ORDER BY ANIMAL_ID;  -- ANIMAL_ID 기준으로 오름차순 정렬"
      ],
      "metadata": {
        "id": "T4grZJ1ru2mW"
      },
      "execution_count": null,
      "outputs": []
    },
    {
      "cell_type": "code",
      "source": [
        "# 설명\n",
        "# 1. SELECT ANIMAL_TYPE\n",
        "#  - ANIMAL_TYPE 컬럼을 선택하여 동물의 종(예: 개, 고양이 등)을 가져옵니다.\n",
        "\n",
        "# 2. IFNULL(NAME, 'No name') AS NAME\n",
        "#  - NAME 컬럼이 NULL이면 \"No name\"으로 변경하고, 그렇지 않으면 기존 NAME 값을 유지합니다.\n",
        "#  - IFNULL(column, 대체값)은 MySQL에서 제공하는 함수로, column 값이 NULL이면 대체값을 반환합니다.\n",
        "#  - 결과적으로, 보호소에 들어올 때 이름이 없는 동물은 \"No name\"으로 표시됩니다."
      ],
      "metadata": {
        "id": "JXb3W8Wv3UyX"
      },
      "execution_count": null,
      "outputs": []
    },
    {
      "cell_type": "markdown",
      "source": [
        "2) CASE WHEN"
      ],
      "metadata": {
        "id": "gUeJg71Y3gNp"
      }
    },
    {
      "cell_type": "code",
      "source": [
        "# SELECT ANIMAL_TYPE,  -- 동물의 생물 종을 선택\n",
        "#        CASE WHEN NAME IS NULL THEN 'No name' ELSE NAME END AS NAME,  -- NAME이 NULL이면 'No name', 그렇지 않으면 원래 값 유지\n",
        "#        SEX_UPON_INTAKE  -- 성별 및 중성화 여부 선택\n",
        "# FROM ANIMAL_INS  -- ANIMAL_INS 테이블에서 조회\n",
        "# ORDER BY ANIMAL_ID;  -- ANIMAL_ID 기준으로 오름차순 정렬"
      ],
      "metadata": {
        "id": "QXFyCQDC3UvC"
      },
      "execution_count": null,
      "outputs": []
    },
    {
      "cell_type": "code",
      "source": [
        "# 설명\n",
        "\n",
        "# 1. SELECT ANIMAL_TYPE\n",
        "#  - 동물의 생물 종(개, 고양이 등)을 조회합니다.\n",
        "\n",
        "# 2. CASE WHEN NAME IS NULL THEN 'No name' ELSE NAME END AS NAME\n",
        "#  - CASE 문을 사용하여 NAME 값이 NULL인지 확인합니다.\n",
        "#  - WHEN NAME IS NULL THEN 'No name' → NAME 값이 NULL이면 \"No name\"으로 변경합니다.\n",
        "#  - ELSE NAME → 그렇지 않으면 기존 NAME 값을 그대로 유지합니다.\n",
        "#  - END → CASE 문을 종료합니다.\n",
        "#  - 결과적으로 NULL 값을 \"No name\"으로 변환하여 출력합니다."
      ],
      "metadata": {
        "id": "d5o-w6rC3Uqu"
      },
      "execution_count": null,
      "outputs": []
    },
    {
      "cell_type": "markdown",
      "source": [
        "# **18. DATETIME에서 DATE로 형 변환(250205)(String, Date)**"
      ],
      "metadata": {
        "id": "wjEXCWzXCUBH"
      }
    },
    {
      "cell_type": "code",
      "source": [
        "# 문제 설명\n",
        "# ANIMAL_INS 테이블은 동물 보호소에 들어온 동물의 정보를 담은 테이블입니다.\n",
        "# ANIMAL_INS 테이블 구조는 다음과 같으며, ANIMAL_ID, ANIMAL_TYPE, DATETIME, INTAKE_CONDITION, NAME, SEX_UPON_INTAKE는\n",
        "# 각각 동물의 아이디, 생물 종, 보호 시작일, 보호 시작 시 상태, 이름, 성별 및 중성화 여부를 나타냅니다.\n",
        "\n",
        "# NAME\tTYPE\tNULLABLE\n",
        "# ANIMAL_ID\tVARCHAR(N)\tFALSE\n",
        "# ANIMAL_TYPE\tVARCHAR(N)\tFALSE\n",
        "# DATETIME\tDATETIME\tFALSE\n",
        "# INTAKE_CONDITION\tVARCHAR(N)\tFALSE\n",
        "# NAME\tVARCHAR(N)\tTRUE\n",
        "# SEX_UPON_INTAKE\tVARCHAR(N)\tFALSE\n",
        "# ANIMAL_INS 테이블에 등록된 모든 레코드에 대해,\n",
        "\n",
        "# 각 동물의 아이디와 이름, 들어온 날짜1를 조회하는 SQL문을 작성해주세요. 이때 결과는 아이디 순으로 조회해야 합니다.\n",
        "\n",
        "# 예시\n",
        "# 예를 들어, ANIMAL_INS 테이블이 다음과 같다면\n",
        "\n",
        "# ANIMAL_INS\n",
        "\n",
        "# ANIMAL_ID\tANIMAL_TYPE\tDATETIME\tINTAKE_CONDITION\tNAME\tSEX_UPON_INTAKE\n",
        "# A349996\tCat\t2018-01-22 14:32:00\tNormal\tSugar\tNeutered Male\n",
        "# A350276\tCat\t2017-08-13 13:50:00\tNormal\tJewel\tSpayed Female\n",
        "# A350375\tCat\t2017-03-06 15:01:00\tNormal\tMeo\tNeutered Male\n",
        "# A352555\tDog\t2014-08-08 04:20:00\tNormal\tHarley\tSpayed Female\n",
        "# A352713\tCat\t2017-04-13 16:29:00\tNormal\tGia\tSpayed Female\n",
        "# SQL문을 실행하면 다음과 같이 나와야 합니다.\n",
        "\n",
        "# ANIMAL_ID\tNAME\t날짜\n",
        "# A349996\tSugar\t2018-01-22\n",
        "# A350276\tJewel\t2017-08-13\n",
        "# A350375\tMeo\t2017-03-06\n",
        "# A352555\tHarley\t2014-08-08\n",
        "# A352713\tGia\t2017-04-13"
      ],
      "metadata": {
        "id": "oSkujNfd3Udl"
      },
      "execution_count": null,
      "outputs": []
    },
    {
      "cell_type": "code",
      "source": [
        "# SELECT ANIMAL_ID, NAME, DATE_FORMAT(DATETIME, '%Y-%m-%d') AS 날짜\n",
        "# FROM ANIMAL_INS\n",
        "# ORDER BY ANIMAL_ID;"
      ],
      "metadata": {
        "id": "R2OGFT0dCXX2"
      },
      "execution_count": null,
      "outputs": []
    },
    {
      "cell_type": "code",
      "source": [
        "# SELECT ANIMAL_ID, NAME, DATE(DATETIME) AS 날짜\n",
        "# FROM ANIMAL_INS\n",
        "# ORDER BY ANIMAL_ID;"
      ],
      "metadata": {
        "id": "8yZWtrkuCbpA"
      },
      "execution_count": null,
      "outputs": []
    },
    {
      "cell_type": "markdown",
      "source": [
        "# **19. 경기도에 위치한 식품창고 목록 출력하기(250206)(IS NULL)**"
      ],
      "metadata": {
        "id": "fHNX5pgY95QD"
      }
    },
    {
      "cell_type": "code",
      "source": [
        "# SELECT WAREHOUSE_ID, WAREHOUSE_NAME, ADDRESS, IFNULL(FREEZER_YN, 'N') AS FREEZER_YN\n",
        "# FROM FOOD_WAREHOUSE\n",
        "# WHERE ADDRESS LIKE '경기도%'\n",
        "# ORDER BY WAREHOUSE_ID;"
      ],
      "metadata": {
        "id": "cAyT4xQh95i3"
      },
      "execution_count": null,
      "outputs": []
    }
  ]
}