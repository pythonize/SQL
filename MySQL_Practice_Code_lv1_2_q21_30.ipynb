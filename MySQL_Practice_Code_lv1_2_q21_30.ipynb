{
  "nbformat": 4,
  "nbformat_minor": 0,
  "metadata": {
    "colab": {
      "provenance": [],
      "authorship_tag": "ABX9TyN6DAAi/LVw/hQKo3jFsivj"
    },
    "kernelspec": {
      "name": "python3",
      "display_name": "Python 3"
    },
    "language_info": {
      "name": "python"
    }
  },
  "cells": [
    {
      "cell_type": "markdown",
      "source": [
        "# **21. 조건에 맞는 회원수 구하기(250211)(SELECT)**"
      ],
      "metadata": {
        "id": "9ZqPr40AKH7t"
      }
    },
    {
      "cell_type": "code",
      "execution_count": 1,
      "metadata": {
        "id": "Hl-nyTRcFFyV"
      },
      "outputs": [],
      "source": [
        "# 문제 설명\n",
        "# 다음은 어느 의류 쇼핑몰에 가입한 회원 정보를 담은 USER_INFO 테이블입니다.\n",
        "# USER_INFO 테이블은 아래와 같은 구조로 되어있으며 USER_ID, GENDER, AGE, JOINED는 각각 회원 ID, 성별, 나이, 가입일을 나타냅니다.\n",
        "\n",
        "# Column name\tType\tNullable\n",
        "# USER_ID\tINTEGER\tFALSE\n",
        "# GENDER\tTINYINT(1)\tTRUE\n",
        "# AGE\tINTEGER\tTRUE\n",
        "# JOINED\tDATE\tFALSE\n",
        "# GENDER 컬럼은 비어있거나 0 또는 1의 값을 가지며 0인 경우 남자를, 1인 경우는 여자를 나타냅니다.\n",
        "\n",
        "# 문제\n",
        "# USER_INFO 테이블에서 2021년에 가입한 회원 중 나이가 20세 이상 29세 이하인 회원이 몇 명인지 출력하는 SQL문을 작성해주세요.\n",
        "\n",
        "# 예시\n",
        "# 예를 들어 USER_INFO 테이블이 다음과 같다면\n",
        "\n",
        "# USER_ID\tGENDER\tAGE\tJOINED\n",
        "# 1\t1\t26\t2021-10-05\n",
        "# 2\t0\tNULL\t2021-11-25\n",
        "# 3\t1\t22\t2021-11-30\n",
        "# 4\t0\t31\t2021-12-03\n",
        "# 5\t0\t28\t2021-12-16\n",
        "# 6\t1\t24\t2022-01-03\n",
        "# 7\t1\tNULL\t2022-01-09\n",
        "# 2021년에 가입한 회원 중 나이가 20세 이상 29세 이하인 회원은 USER_ID 가 1, 3, 5 인 회원들 이므로, 다음과 같이 결과가 나와야 합니다.\n",
        "\n",
        "# USERS\n",
        "# 3"
      ]
    },
    {
      "cell_type": "code",
      "source": [
        "# SELECT COUNT(USER_ID) as USER\n",
        "# FROM USER_INFO\n",
        "# WHERE JOINED LIKE '2021%'\n",
        "# AND AGE >= '20'\n",
        "# AND AGE <= '29'"
      ],
      "metadata": {
        "id": "UQRRxmC0KNdB"
      },
      "execution_count": 2,
      "outputs": []
    },
    {
      "cell_type": "code",
      "source": [
        "# SELECT COUNT(*) AS USERS\n",
        "# FROM USER_INFO\n",
        "# WHERE YEAR(JOINED) = 2021\n",
        "# AND AGE BETWEEN 20 AND 29;"
      ],
      "metadata": {
        "id": "P6v-ANQpKORS"
      },
      "execution_count": 3,
      "outputs": []
    },
    {
      "cell_type": "code",
      "source": [],
      "metadata": {
        "id": "9ZcCKFxUKQAV"
      },
      "execution_count": null,
      "outputs": []
    }
  ]
}