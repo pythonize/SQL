{
  "nbformat": 4,
  "nbformat_minor": 0,
  "metadata": {
    "colab": {
      "provenance": [],
      "authorship_tag": "ABX9TyMeo0cdbpxP91l7yNkzS2eG"
    },
    "kernelspec": {
      "name": "python3",
      "display_name": "Python 3"
    },
    "language_info": {
      "name": "python"
    }
  },
  "cells": [
    {
      "cell_type": "markdown",
      "source": [
        "# **21. 조건에 맞는 회원수 구하기(250211)(SELECT)**"
      ],
      "metadata": {
        "id": "9ZqPr40AKH7t"
      }
    },
    {
      "cell_type": "code",
      "execution_count": null,
      "metadata": {
        "id": "Hl-nyTRcFFyV"
      },
      "outputs": [],
      "source": [
        "# 문제 설명\n",
        "# 다음은 어느 의류 쇼핑몰에 가입한 회원 정보를 담은 USER_INFO 테이블입니다.\n",
        "# USER_INFO 테이블은 아래와 같은 구조로 되어있으며 USER_ID, GENDER, AGE, JOINED는 각각 회원 ID, 성별, 나이, 가입일을 나타냅니다.\n",
        "\n",
        "# Column name\tType\tNullable\n",
        "# USER_ID\tINTEGER\tFALSE\n",
        "# GENDER\tTINYINT(1)\tTRUE\n",
        "# AGE\tINTEGER\tTRUE\n",
        "# JOINED\tDATE\tFALSE\n",
        "# GENDER 컬럼은 비어있거나 0 또는 1의 값을 가지며 0인 경우 남자를, 1인 경우는 여자를 나타냅니다.\n",
        "\n",
        "# 문제\n",
        "# USER_INFO 테이블에서 2021년에 가입한 회원 중 나이가 20세 이상 29세 이하인 회원이 몇 명인지 출력하는 SQL문을 작성해주세요.\n",
        "\n",
        "# 예시\n",
        "# 예를 들어 USER_INFO 테이블이 다음과 같다면\n",
        "\n",
        "# USER_ID\tGENDER\tAGE\tJOINED\n",
        "# 1\t1\t26\t2021-10-05\n",
        "# 2\t0\tNULL\t2021-11-25\n",
        "# 3\t1\t22\t2021-11-30\n",
        "# 4\t0\t31\t2021-12-03\n",
        "# 5\t0\t28\t2021-12-16\n",
        "# 6\t1\t24\t2022-01-03\n",
        "# 7\t1\tNULL\t2022-01-09\n",
        "# 2021년에 가입한 회원 중 나이가 20세 이상 29세 이하인 회원은 USER_ID 가 1, 3, 5 인 회원들 이므로, 다음과 같이 결과가 나와야 합니다.\n",
        "\n",
        "# USERS\n",
        "# 3"
      ]
    },
    {
      "cell_type": "code",
      "source": [
        "# SELECT COUNT(USER_ID) as USER\n",
        "# FROM USER_INFO\n",
        "# WHERE JOINED LIKE '2021%'\n",
        "# AND AGE >= '20'\n",
        "# AND AGE <= '29'"
      ],
      "metadata": {
        "id": "UQRRxmC0KNdB"
      },
      "execution_count": null,
      "outputs": []
    },
    {
      "cell_type": "code",
      "source": [
        "# SELECT COUNT(*) AS USERS\n",
        "# FROM USER_INFO\n",
        "# WHERE YEAR(JOINED) = 2021\n",
        "# AND AGE BETWEEN 20 AND 29;"
      ],
      "metadata": {
        "id": "P6v-ANQpKORS"
      },
      "execution_count": null,
      "outputs": []
    },
    {
      "cell_type": "markdown",
      "source": [
        "# **22. 흉부외과 또는 일반외과 의사 목록 출력하기(250212)(SELECT)**"
      ],
      "metadata": {
        "id": "kJz_T5uVzmK3"
      }
    },
    {
      "cell_type": "code",
      "source": [
        "# 문제 설명\n",
        "# 다음은 종합병원에 속한 의사 정보를 담은DOCTOR 테이블입니다.\n",
        "# DOCTOR 테이블은 다음과 같으며 DR_NAME, DR_ID, LCNS_NO, HIRE_YMD, MCDP_CD, TLNO는\n",
        "# 각각 의사이름, 의사ID, 면허번호, 고용일자, 진료과코드, 전화번호를 나타냅니다.\n",
        "\n",
        "# Column name\tType\tNullable\n",
        "# DR_NAME\tVARCHAR(20)\tFALSE\n",
        "# DR_ID\tVARCHAR(10)\tFALSE\n",
        "# LCNS_NO\tVARCHAR(30)\tFALSE\n",
        "# HIRE_YMD\tDATE\tFALSE\n",
        "# MCDP_CD\tVARCHAR(6)\tTRUE\n",
        "# TLNO\tVARCHAR(50)\tTRUE\n",
        "# 문제\n",
        "# DOCTOR 테이블에서 진료과가 흉부외과(CS)이거나 일반외과(GS)인 의사의 이름, 의사ID, 진료과, 고용일자를 조회하는 SQL문을 작성해주세요.\n",
        "# 이때 결과는 고용일자를 기준으로 내림차순 정렬하고, 고용일자가 같다면 이름을 기준으로 오름차순 정렬해주세요.\n",
        "\n",
        "# 예시\n",
        "# DOCTOR 테이블이 다음과 같을 때\n",
        "\n",
        "# DR_NAME\tDR_ID\tLCNS_NO\tHIRE_YMD\tMCDP_CD\tTLNO\n",
        "# 루피\tDR20090029\tLC00010001\t2009-03-01\tCS\t01085482011\n",
        "# 패티\tDR20090001\tLC00010901\t2009-07-01\tCS\t01085220122\n",
        "# 뽀로로\tDR20170123\tLC00091201\t2017-03-01\tGS\t01034969210\n",
        "# 티거\tDR20100011\tLC00011201\t2010-03-01\tNP\t01034229818\n",
        "# 품바\tDR20090231\tLC00011302\t2015-11-01\tOS\t01049840278\n",
        "# 티몬\tDR20090112\tLC00011162\t2010-03-01\tFM\t01094622190\n",
        "# 니모\tDR20200012\tLC00911162\t2020-03-01\tCS\t01089483921\n",
        "# 오로라\tDR20100031\tLC00010327\t2010-11-01\tOS\t01098428957\n",
        "# 자스민\tDR20100032\tLC00010192\t2010-03-01\tGS\t01023981922\n",
        "# 벨\tDR20100039\tLC00010562\t2010-07-01\tGS\t01058390758\n",
        "# SQL을 실행하면 다음과 같이 출력되어야 합니다.\n",
        "\n",
        "# DR_NAME\tDR_ID\tMCDP_CD\tHIRE_YMD\n",
        "# 니모\tDR20200012\tCS\t2020-03-01\n",
        "# 뽀로로\tDR20170123\tGS\t2017-03-01\n",
        "# 벨\tDR20100039\tGS\t2010-07-01\n",
        "# 자스민\tDR20100032\tGS\t2010-03-01\n",
        "# 패티\tDR20090001\tCS\t2009-07-01\n",
        "# 루피\tDR20090029\tCS\t2009-03-01\n",
        "\n",
        "# 주의사항\n",
        "# 날짜 포맷은 예시와 동일하게 나와야합니다."
      ],
      "metadata": {
        "id": "9ZcCKFxUKQAV"
      },
      "execution_count": null,
      "outputs": []
    },
    {
      "cell_type": "code",
      "source": [
        "# SELECT DR_NAME, DR_ID, MCDP_CD, DATE_FORMAT(HIRE_YMD, '%Y-%m-%d')\n",
        "# FROM DOCTOR\n",
        "# WHERE MCDP_CD = 'GS'\n",
        "# OR MCDP_CD = 'CS'\n",
        "# ORDER BY HIRE_YMD DESC, DR_NAME ASC"
      ],
      "metadata": {
        "id": "qGiG_i6qzpdv"
      },
      "execution_count": null,
      "outputs": []
    },
    {
      "cell_type": "markdown",
      "source": [
        "# **25. 진료과별 총 예약 횟수 출력하기(250218)(GROUP BY)**"
      ],
      "metadata": {
        "id": "H1zU8eflga_e"
      }
    },
    {
      "cell_type": "code",
      "source": [
        "# 문제 설명\n",
        "# 다음은 종합병원의 진료 예약정보를 담은 APPOINTMENT 테이블 입니다.\n",
        "# APPOINTMENT 테이블은 다음과 같으며 APNT_YMD, APNT_NO, PT_NO, MCDP_CD, MDDR_ID, APNT_CNCL_YN, APNT_CNCL_YMD는\n",
        "# 각각 진료예약일시, 진료예약번호, 환자번호, 진료과코드, 의사ID, 예약취소여부, 예약취소날짜를 나타냅니다.\n",
        "\n",
        "# Column name\tType\tNullable\n",
        "# APNT_YMD\tTIMESTAMP\tFALSE\n",
        "# APNT_NO\tNUMBER(5)\tFALSE\n",
        "# PT_NO\tVARCHAR(10)\tFALSE\n",
        "# MCDP_CD\tVARCHAR(6)\tFALSE\n",
        "# MDDR_ID\tVARCHAR(10)\tFALSE\n",
        "# APNT_CNCL_YN\tVARCHAR(1)\tTRUE\n",
        "# APNT_CNCL_YMD\tDATE\tTRUE\n",
        "# 문제\n",
        "# APPOINTMENT 테이블에서 2022년 5월에 예약한 환자 수를 진료과코드 별로 조회하는 SQL문을 작성해주세요.\n",
        "# 이때, 컬럼명은 '진료과 코드', '5월예약건수'로 지정해주시고 결과는 진료과별 예약한 환자 수를 기준으로 오름차순 정렬하고,\n",
        "# 예약한 환자 수가 같다면 진료과 코드를 기준으로 오름차순 정렬해주세요.\n",
        "\n",
        "# 예시\n",
        "# APPOINTMENT 테이블이 다음과 같을 때\n",
        "\n",
        "# APNT_YMD\tAPNT_NO\tPT_NO\tMCDP_CD\tMDDR_ID\tAPNT_CNCL_YN\tAPNT_CNCL_YMD\n",
        "# 2022-04-14 09:30:00.000000\t47\tPT22000064\tGS\tDR20170123\tN\tNULL\n",
        "# 2022-04-15 10:30:00.000000\t48\tPT22000065\tOB\tDR20100231\tN\tNULL\n",
        "# 2022-05-15 17:30:00.000000\t49\tPT22000086\tOB\tDR20100231\tN\tNULL\n",
        "# 2022-05-18 10:30:00.000000\t52\tPT22000019\tGS\tDR20100039\tN\tNULL\n",
        "# 2022-05-19 12:00:00.000000\t53\tPT22000020\tFM\tDR20010112\tN\tNULL\n",
        "# 2022-05-22 08:30:00.000000\t54\tPT22000021\tGS\tDR20100039\tN\tNULL\n",
        "# 2022-05-04 10:30:00.000000\t56\tPT22000023\tFM\tDR20090112\tN\tNULL\n",
        "# 2022-05-14 15:30:00.000000\t57\tPT22000074\tCS\tDR20200012\tN\tNULL\n",
        "# 2022-05-24 15:30:00.000000\t58\tPT22000085\tCS\tDR20200012\tN\tNULL\n",
        "# 2022-05-28 10:00:00.000000\t60\tPT22000092\tOS\tDR20100031\tN\tNULL\n",
        "# SQL을 실행하면 다음과 같이 출력되어야 합니다.\n",
        "\n",
        "# 진료과코드\t5월예약건수\n",
        "# OB\t1\n",
        "# OS\t1\n",
        "# CS\t2\n",
        "# FM\t2\n",
        "# GS\t2"
      ],
      "metadata": {
        "id": "EtM680aKgbXK"
      },
      "execution_count": null,
      "outputs": []
    },
    {
      "cell_type": "code",
      "source": [
        "# SELECT MCDP_CD AS '진료과 코드', COUNT(PT_NO) AS '5월예약건수'\n",
        "# FROM APPOINTMENT\n",
        "# WHERE APNT_YMD >= '2022-05-01' AND APNT_YMD < '2022-06-01'\n",
        "# GROUP BY MCDP_CD\n",
        "# ORDER BY '5월예약건수', '진료과 코드';"
      ],
      "metadata": {
        "id": "VRMD419UgeFE"
      },
      "execution_count": null,
      "outputs": []
    },
    {
      "cell_type": "markdown",
      "source": [
        "# **28. 중성화 여부 파악하기(250224)(String, Date)**"
      ],
      "metadata": {
        "id": "DuJh02tyCYjL"
      }
    },
    {
      "cell_type": "code",
      "source": [
        "# 문제 설명\n",
        "# ANIMAL_INS 테이블은 동물 보호소에 들어온 동물의 정보를 담은 테이블입니다.\n",
        "# ANIMAL_INS 테이블 구조는 다음과 같으며, ANIMAL_ID, ANIMAL_TYPE, DATETIME, INTAKE_CONDITION, NAME, SEX_UPON_INTAKE는\n",
        "# 각각 동물의 아이디, 생물 종, 보호 시작일, 보호 시작 시 상태, 이름, 성별 및 중성화 여부를 나타냅니다.\n",
        "\n",
        "# NAME\tTYPE\tNULLABLE\n",
        "# ANIMAL_ID\tVARCHAR(N)\tFALSE\n",
        "# ANIMAL_TYPE\tVARCHAR(N)\tFALSE\n",
        "# DATETIME\tDATETIME\tFALSE\n",
        "# INTAKE_CONDITION\tVARCHAR(N)\tFALSE\n",
        "# NAME\tVARCHAR(N)\tTRUE\n",
        "# SEX_UPON_INTAKE\tVARCHAR(N)\tFALSE\n",
        "# 보호소의 동물이 중성화되었는지 아닌지 파악하려 합니다. 중성화된 동물은 SEX_UPON_INTAKE 컬럼에 'Neutered' 또는 'Spayed'라는 단어가 들어있습니다.\n",
        "# 동물의 아이디와 이름, 중성화 여부를 아이디 순으로 조회하는 SQL문을 작성해주세요. 이때 중성화가 되어있다면 'O', 아니라면 'X'라고 표시해주세요.\n",
        "\n",
        "# 예시\n",
        "# 예를 들어 ANIMAL_INS 테이블이 다음과 같다면\n",
        "\n",
        "# ANIMAL_ID\tANIMAL_TYPE\tDATETIME\tINTAKE_CONDITION\tNAME\tSEX_UPON_INTAKE\n",
        "# A355753\tDog\t2015-09-10 13:14:00\tNormal\tElijah\tNeutered Male\n",
        "# A373219\tCat\t2014-07-29 11:43:00\tNormal\tElla\tSpayed Female\n",
        "# A382192\tDog\t2015-03-13 13:14:00\tNormal\tMaxwell 2\tIntact Male\n",
        "# 중성화한 동물: Elijah, Ella\n",
        "# 중성화하지 않은 동물: Maxwell 2\n",
        "# 따라서 SQL문을 실행하면 다음과 같이 나와야 합니다.\n",
        "\n",
        "# ANIMAL_ID\tNAME\t중성화\n",
        "# A355753\tElijah\tO\n",
        "# A373219\tElla\tO\n",
        "# A382192\tMaxwell 2\tX\n",
        "# ※ 컬럼 이름은 일치하지 않아도 됩니다."
      ],
      "metadata": {
        "id": "KU4Wa6tMCZQN"
      },
      "execution_count": null,
      "outputs": []
    },
    {
      "cell_type": "code",
      "source": [
        "# SELECT ANIMAL_ID, NAME,\n",
        "#        CASE\n",
        "#            WHEN SEX_UPON_INTAKE LIKE 'Neutered%' OR SEX_UPON_INTAKE LIKE 'Spayed%' THEN 'O'\n",
        "#            ELSE 'X'\n",
        "#        END AS 중성화\n",
        "# FROM ANIMAL_INS\n",
        "# ORDER BY ANIMAL_ID;"
      ],
      "metadata": {
        "id": "wztEOv1XCcDw"
      },
      "execution_count": null,
      "outputs": []
    },
    {
      "cell_type": "markdown",
      "source": [
        "# **30. 입양 시각 구하기(1)(250226)(GROUP BY)**"
      ],
      "metadata": {
        "id": "rW7GgW097mTO"
      }
    },
    {
      "cell_type": "code",
      "source": [
        "# 문제 설명\n",
        "# ANIMAL_OUTS 테이블은 동물 보호소에서 입양 보낸 동물의 정보를 담은 테이블입니다.\n",
        "# ANIMAL_OUTS 테이블 구조는 다음과 같으며, ANIMAL_ID, ANIMAL_TYPE, DATETIME, NAME, SEX_UPON_OUTCOME는\n",
        "# 각각 동물의 아이디, 생물 종, 입양일, 이름, 성별 및 중성화 여부를 나타냅니다.\n",
        "\n",
        "# NAME\tTYPE\tNULLABLE\n",
        "# ANIMAL_ID\tVARCHAR(N)\tFALSE\n",
        "# ANIMAL_TYPE\tVARCHAR(N)\tFALSE\n",
        "# DATETIME\tDATETIME\tFALSE\n",
        "# NAME\tVARCHAR(N)\tTRUE\n",
        "# SEX_UPON_OUTCOME\tVARCHAR(N)\tFALSE\n",
        "# 보호소에서는 몇 시에 입양이 가장 활발하게 일어나는지 알아보려 합니다. 09:00부터 19:59까지,\n",
        "# 각 시간대별로 입양이 몇 건이나 발생했는지 조회하는 SQL문을 작성해주세요. 이때 결과는 시간대 순으로 정렬해야 합니다.\n",
        "\n",
        "# 예시\n",
        "# SQL문을 실행하면 다음과 같이 나와야 합니다.\n",
        "\n",
        "# HOUR\tCOUNT\n",
        "# 9\t1\n",
        "# 10\t2\n",
        "# 11\t13\n",
        "# 12\t10\n",
        "# 13\t14\n",
        "# 14\t9\n",
        "# 15\t7\n",
        "# 16\t10\n",
        "# 17\t12\n",
        "# 18\t16\n",
        "# 19\t2"
      ],
      "metadata": {
        "id": "7f9UggXj7mmp"
      },
      "execution_count": null,
      "outputs": []
    },
    {
      "cell_type": "code",
      "source": [
        "# SELECT\n",
        "#     CAST(DATE_FORMAT(DATETIME, '%H') AS UNSIGNED) AS HOUR,\n",
        "#     COUNT(ANIMAL_ID) AS COUNT\n",
        "# FROM ANIMAL_OUTS\n",
        "# WHERE CAST(DATE_FORMAT(DATETIME, '%H') AS UNSIGNED) BETWEEN 9 AND 19\n",
        "# GROUP BY HOUR\n",
        "# ORDER BY HOUR ASC"
      ],
      "metadata": {
        "id": "_-2OE6lR7pSy"
      },
      "execution_count": null,
      "outputs": []
    },
    {
      "cell_type": "markdown",
      "source": [
        "📌 1. DATE_FORMAT(DATETIME, '%H')\n",
        " - DATE_FORMAT(DATETIME, '%H')는 DATETIME에서 시간(HOUR) 부분만 문자열(String)로 추출하는 함수입니다."
      ],
      "metadata": {
        "id": "DTiyn1Zo7uSS"
      }
    },
    {
      "cell_type": "markdown",
      "source": [
        "🚀 CAST(DATE_FORMAT(DATETIME, '%H') AS UNSIGNED)의 역할\n",
        "1. DATE_FORMAT(DATETIME, '%H') → 시간을 문자열로 가져옴 (예: '09', '10')\n",
        "2. CAST(... AS UNSIGNED) → 문자열을 정수로 변환 (예: 9, 10)\n",
        "3. 숫자로 변환되었으므로 BETWEEN 비교 연산 가능\n",
        "\n",
        "👉 WHERE CAST(DATE_FORMAT(DATETIME, '%H') AS UNSIGNED) BETWEEN 9 AND 19\n",
        "\n",
        "✅ 09시~19시 사이의 데이터만 필터링 가능! 🎯"
      ],
      "metadata": {
        "id": "XulJTPdi7wjS"
      }
    },
    {
      "cell_type": "code",
      "source": [],
      "metadata": {
        "id": "nuC3Q8Fl7v7C"
      },
      "execution_count": null,
      "outputs": []
    }
  ]
}