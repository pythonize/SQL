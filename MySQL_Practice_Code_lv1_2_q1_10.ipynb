{
  "nbformat": 4,
  "nbformat_minor": 0,
  "metadata": {
    "colab": {
      "provenance": [],
      "authorship_tag": "ABX9TyPNerUw7n/uL/Xl2DHzJFvM"
    },
    "kernelspec": {
      "name": "python3",
      "display_name": "Python 3"
    },
    "language_info": {
      "name": "python"
    }
  },
  "cells": [
    {
      "cell_type": "markdown",
      "source": [
        "# **6. 상위 n개 레코드(250113)(SELECT)**"
      ],
      "metadata": {
        "id": "-bKPjqYIVSTR"
      }
    },
    {
      "cell_type": "code",
      "execution_count": null,
      "metadata": {
        "id": "LXjT4XmIyaFw"
      },
      "outputs": [],
      "source": [
        "# SELECT NAME\n",
        "# FROM ANIMAL_INS\n",
        "# ORDER BY DATETIME LIMIT 1"
      ]
    },
    {
      "cell_type": "markdown",
      "source": [
        "# 설명\n",
        "\n",
        "1. 동물 보호소에 가장 먼저 들어온 동물의 이름을 조회하는 SQL 문"
      ],
      "metadata": {
        "id": "wrKxIwgKVWP6"
      }
    },
    {
      "cell_type": "markdown",
      "source": [
        "# **10. 중복 제거하기(250119)(SUM, MAX, MIN)**"
      ],
      "metadata": {
        "id": "rg0t43hNbCA9"
      }
    },
    {
      "cell_type": "markdown",
      "source": [
        "- 동물 보호소에 들어온 동물의 이름은 몇 개인지 조회하는 SQL 문을 작성해주세요.\n",
        "- 이때 이름이 NULL인 경우는 집계하지 않으며 중복되는 이름은 하나로 칩니다."
      ],
      "metadata": {
        "id": "Vlziw4vTbHfy"
      }
    },
    {
      "cell_type": "code",
      "source": [
        "# SELECT COUNT(DISTINCT NAME)\n",
        "# FROM ANIMAL_INS\n",
        "# WHERE NAME IS NOT NULL"
      ],
      "metadata": {
        "id": "rcW3nw0TVeyk"
      },
      "execution_count": null,
      "outputs": []
    }
  ]
}