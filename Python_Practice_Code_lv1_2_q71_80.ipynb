{
  "nbformat": 4,
  "nbformat_minor": 0,
  "metadata": {
    "colab": {
      "provenance": [],
      "authorship_tag": "ABX9TyMbS/WOsqKfYgt2oqkv30KW"
    },
    "kernelspec": {
      "name": "python3",
      "display_name": "Python 3"
    },
    "language_info": {
      "name": "python"
    }
  },
  "cells": [
    {
      "cell_type": "markdown",
      "source": [
        "# **71. 괄호 회전하기(250224)**(검색 도움)"
      ],
      "metadata": {
        "id": "jI5-oxRL8KaA"
      }
    },
    {
      "cell_type": "code",
      "execution_count": null,
      "metadata": {
        "id": "U9tGUE8oL0i1"
      },
      "outputs": [],
      "source": [
        "def solution(s):\n",
        "    def is_valid(string):\n",
        "        stack = []\n",
        "        bracket_map = {')': '(', ']': '[', '}': '{'}\n",
        "        for char in string:\n",
        "            if char in \"({[\":\n",
        "                stack.append(char)\n",
        "            elif char in \")}]\":\n",
        "                if not stack or stack[-1] != bracket_map[char]:\n",
        "                    return False\n",
        "                stack.pop()\n",
        "        return not stack  # 스택이 비어있으면 올바른 괄호 문자열\n",
        "\n",
        "    answer = 0\n",
        "    for x in range(len(s)):\n",
        "        if is_valid(s):  # 현재 회전된 문자열이 올바른지 확인\n",
        "            answer += 1\n",
        "        s = s[1:] + s[0]  # 왼쪽으로 한 칸 회전\n",
        "    return answer"
      ]
    },
    {
      "cell_type": "code",
      "source": [
        "from collections import deque  # deque를 사용하여 O(1)로 문자열 회전\n",
        "\n",
        "# 올바른 괄호 문자열인지 확인하는 함수\n",
        "def is_valid(string):\n",
        "    stack = []  # 스택을 활용하여 괄호 유효성 검사\n",
        "    bracket_map = {')': '(', ']': '[', '}': '{'}  # 닫는 괄호와 여는 괄호 매핑\n",
        "\n",
        "    for char in string:\n",
        "        if char in \"({[\":  # 여는 괄호이면 스택에 추가\n",
        "            stack.append(char)\n",
        "        elif char in \")}]\":  # 닫는 괄호이면 스택 검사\n",
        "            if not stack or stack[-1] != bracket_map[char]:  # 스택이 비었거나 짝이 안 맞으면 False\n",
        "                return False\n",
        "            stack.pop()  # 짝이 맞으면 스택에서 제거\n",
        "\n",
        "    return not stack  # 스택이 비어 있으면 올바른 괄호 문자열 (True), 남아 있으면 (False)\n",
        "\n",
        "# 문자열을 회전하며 올바른 괄호 문자열 개수 구하기\n",
        "def solution(s):\n",
        "    answer = 0\n",
        "    dq = deque(s)  # deque 사용 (O(1) 연산)\n",
        "\n",
        "    for _ in range(len(s)):  # s를 한 칸씩 회전시키면서 검사\n",
        "        if is_valid(dq):  # 현재 상태에서 올바른 괄호 문자열인지 확인\n",
        "            answer += 1\n",
        "        dq.append(dq.popleft())  # O(1) 연산으로 왼쪽으로 한 칸 회전\n",
        "\n",
        "    return answer"
      ],
      "metadata": {
        "id": "Nw4hrRlj8PLM"
      },
      "execution_count": null,
      "outputs": []
    },
    {
      "cell_type": "code",
      "source": [
        "# 올바른 괄호 문자열인지 확인하는 함수\n",
        "def is_valid(s):\n",
        "    stack = []  # 괄호를 저장할 스택\n",
        "    for ch in s:\n",
        "        if not stack:  # 스택이 비어 있으면 현재 괄호 추가\n",
        "            stack.append(ch)\n",
        "        elif stack[-1] == '(':  # 스택의 마지막 값이 '('이면\n",
        "            if ch == ')':  # 닫는 괄호 ')'가 나오면 스택에서 '(' 제거\n",
        "                stack.pop()\n",
        "            else:  # 그 외의 경우 스택에 추가\n",
        "                stack.append(ch)\n",
        "        elif stack[-1] == '{':  # 중괄호 '{' 처리\n",
        "            if ch == '}':  # '}'가 나오면 스택에서 '{' 제거\n",
        "                stack.pop()\n",
        "            else:\n",
        "                stack.append(ch)\n",
        "        elif stack[-1] == '[':  # 대괄호 '[' 처리\n",
        "            if ch == ']':  # ']'가 나오면 스택에서 '[' 제거\n",
        "                stack.pop()\n",
        "            else:\n",
        "                stack.append(ch)\n",
        "\n",
        "    return False if stack else True  # 스택이 비어 있으면 올바른 문자열 (True), 아니면 (False)\n",
        "\n",
        "# s를 회전시키면서 올바른 괄호 문자열의 개수를 계산하는 함수\n",
        "def solution(s):\n",
        "    answer = 0\n",
        "    for i in range(len(s)):  # 문자열을 회전시키면서 검사\n",
        "        answer += is_valid(s[i:] + s[:i])  # s를 i칸 왼쪽으로 회전한 결과를 검사\n",
        "    return answer"
      ],
      "metadata": {
        "id": "CNbkwxcq8SAN"
      },
      "execution_count": null,
      "outputs": []
    },
    {
      "cell_type": "markdown",
      "source": [
        "📌 코드 분석\n",
        "\n",
        " - is_valid(s): 스택을 사용하여 올바른 괄호 문자열을 판별\n",
        " 1. 여는 괄호 (, {, [는 스택에 추가\n",
        " 2. 닫는 괄호 ), }, ]가 나올 때, 스택의 마지막 값과 짝이 맞으면 pop\n",
        " 3. 스택이 비어 있으면 True, 남아 있으면 False\n",
        " - solution(s): 문자열을 회전시키며 is_valid로 검사\n",
        " 1. s[i:] + s[:i]를 통해 왼쪽으로 i칸 회전한 문자열을 검사\n",
        " 2. is_valid()가 True이면 answer 증가\n",
        " 3. 총 O(N²)의 시간 복잡도 (모든 회전마다 is_valid 실행)"
      ],
      "metadata": {
        "id": "-RELmY0s8VDg"
      }
    },
    {
      "cell_type": "code",
      "source": [],
      "metadata": {
        "id": "8nvThdIy8YBr"
      },
      "execution_count": null,
      "outputs": []
    }
  ]
}