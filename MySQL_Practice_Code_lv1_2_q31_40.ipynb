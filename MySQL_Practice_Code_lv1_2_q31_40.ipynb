{
  "nbformat": 4,
  "nbformat_minor": 0,
  "metadata": {
    "colab": {
      "provenance": [],
      "authorship_tag": "ABX9TyOsFGzCZw8Ufp7iM5r0Uoaz"
    },
    "kernelspec": {
      "name": "python3",
      "display_name": "Python 3"
    },
    "language_info": {
      "name": "python"
    }
  },
  "cells": [
    {
      "cell_type": "markdown",
      "source": [
        "# **32. 조건에 맞는 도서와 저자 리스트 출력하기(250303)(JOIN)**"
      ],
      "metadata": {
        "id": "lr-CMEZ_u0uZ"
      }
    },
    {
      "cell_type": "code",
      "execution_count": null,
      "metadata": {
        "id": "c_Yxjht7toJz"
      },
      "outputs": [],
      "source": [
        "# 문제 설명\n",
        "# 다음은 어느 한 서점에서 판매중인 도서들의 도서 정보(BOOK), 저자 정보(AUTHOR) 테이블입니다.\n",
        "\n",
        "# BOOK 테이블은 각 도서의 정보를 담은 테이블로 아래와 같은 구조로 되어있습니다.\n",
        "\n",
        "# Column name\tType\tNullable\tDescription\n",
        "# BOOK_ID\tINTEGER\tFALSE\t도서 ID\n",
        "# CATEGORY\tVARCHAR(N)\tFALSE\t카테고리 (경제, 인문, 소설, 생활, 기술)\n",
        "# AUTHOR_ID\tINTEGER\tFALSE\t저자 ID\n",
        "# PRICE\tINTEGER\tFALSE\t판매가 (원)\n",
        "# PUBLISHED_DATE\tDATE\tFALSE\t출판일\n",
        "# AUTHOR 테이블은 도서의 저자의 정보를 담은 테이블로 아래와 같은 구조로 되어있습니다.\n",
        "\n",
        "# Column name\tType\tNullable\tDescription\n",
        "# AUTHOR_ID\tINTEGER\tFALSE\t저자 ID\n",
        "# AUTHOR_NAME\tVARCHAR(N)\tFALSE\t저자명\n",
        "# 문제\n",
        "# '경제' 카테고리에 속하는 도서들의 도서 ID(BOOK_ID), 저자명(AUTHOR_NAME), 출판일(PUBLISHED_DATE) 리스트를 출력하는 SQL문을 작성해주세요.\n",
        "# 결과는 출판일을 기준으로 오름차순 정렬해주세요.\n",
        "\n",
        "# 예시\n",
        "# 예를 들어 BOOK 테이블과 AUTHOR 테이블이 다음과 같다면\n",
        "\n",
        "# BOOK_ID\tCATEGORY\tAUTHOR_ID\tPRICE\tPUBLISHED_DATE\n",
        "# 1\t인문\t1\t10000\t2020-01-01\n",
        "# 2\t경제\t1\t9000\t2021-04-11\n",
        "# 3\t경제\t2\t11000\t2021-02-05\n",
        "# AUTHOR_ID\tAUTHOR_NAME\n",
        "# 1\t홍길동\n",
        "# 2\t김영호\n",
        "# '경제' 카테고리에 속하는 도서는 도서 ID가 2, 3인 도서이고, 출판일을 기준으로 오름차순으로 정렬하면 다음과 같은 결과가 나와야 합니다.\n",
        "\n",
        "# BOOK_ID\tAUTHOR_NAME\tPUBLISHED_DATE\n",
        "# 3\t김영호\t2021-02-05\n",
        "# 2\t홍길동\t2021-04-11\n",
        "# 주의사항\n",
        "# PUBLISHED_DATE의 데이트 포맷이 예시와 동일해야 정답처리 됩니다."
      ]
    },
    {
      "cell_type": "code",
      "source": [
        "# SELECT b.BOOK_ID, a.AUTHOR_NAME, DATE_FORMAT(b.PUBLISHED_DATE, '%Y-%m-%d') AS PUBLISHED_DATE\n",
        "# FROM BOOK b\n",
        "# JOIN AUTHOR a ON b.AUTHOR_ID = a.AUTHOR_ID\n",
        "# WHERE b.CATEGORY = '경제'\n",
        "# ORDER BY b.PUBLISHED_DATE;"
      ],
      "metadata": {
        "id": "e2pBrHoSu7Z_"
      },
      "execution_count": null,
      "outputs": []
    }
  ]
}