{
  "nbformat": 4,
  "nbformat_minor": 0,
  "metadata": {
    "colab": {
      "provenance": [],
      "authorship_tag": "ABX9TyO8gb5c5Dd2t7JaWknyHP6G"
    },
    "kernelspec": {
      "name": "python3",
      "display_name": "Python 3"
    },
    "language_info": {
      "name": "python"
    }
  },
  "cells": [
    {
      "cell_type": "markdown",
      "source": [
        "# **32. 조건에 맞는 도서와 저자 리스트 출력하기(250303)(JOIN)**"
      ],
      "metadata": {
        "id": "lr-CMEZ_u0uZ"
      }
    },
    {
      "cell_type": "code",
      "execution_count": null,
      "metadata": {
        "id": "c_Yxjht7toJz"
      },
      "outputs": [],
      "source": [
        "# 문제 설명\n",
        "# 다음은 어느 한 서점에서 판매중인 도서들의 도서 정보(BOOK), 저자 정보(AUTHOR) 테이블입니다.\n",
        "\n",
        "# BOOK 테이블은 각 도서의 정보를 담은 테이블로 아래와 같은 구조로 되어있습니다.\n",
        "\n",
        "# Column name\tType\tNullable\tDescription\n",
        "# BOOK_ID\tINTEGER\tFALSE\t도서 ID\n",
        "# CATEGORY\tVARCHAR(N)\tFALSE\t카테고리 (경제, 인문, 소설, 생활, 기술)\n",
        "# AUTHOR_ID\tINTEGER\tFALSE\t저자 ID\n",
        "# PRICE\tINTEGER\tFALSE\t판매가 (원)\n",
        "# PUBLISHED_DATE\tDATE\tFALSE\t출판일\n",
        "# AUTHOR 테이블은 도서의 저자의 정보를 담은 테이블로 아래와 같은 구조로 되어있습니다.\n",
        "\n",
        "# Column name\tType\tNullable\tDescription\n",
        "# AUTHOR_ID\tINTEGER\tFALSE\t저자 ID\n",
        "# AUTHOR_NAME\tVARCHAR(N)\tFALSE\t저자명\n",
        "# 문제\n",
        "# '경제' 카테고리에 속하는 도서들의 도서 ID(BOOK_ID), 저자명(AUTHOR_NAME), 출판일(PUBLISHED_DATE) 리스트를 출력하는 SQL문을 작성해주세요.\n",
        "# 결과는 출판일을 기준으로 오름차순 정렬해주세요.\n",
        "\n",
        "# 예시\n",
        "# 예를 들어 BOOK 테이블과 AUTHOR 테이블이 다음과 같다면\n",
        "\n",
        "# BOOK_ID\tCATEGORY\tAUTHOR_ID\tPRICE\tPUBLISHED_DATE\n",
        "# 1\t인문\t1\t10000\t2020-01-01\n",
        "# 2\t경제\t1\t9000\t2021-04-11\n",
        "# 3\t경제\t2\t11000\t2021-02-05\n",
        "# AUTHOR_ID\tAUTHOR_NAME\n",
        "# 1\t홍길동\n",
        "# 2\t김영호\n",
        "# '경제' 카테고리에 속하는 도서는 도서 ID가 2, 3인 도서이고, 출판일을 기준으로 오름차순으로 정렬하면 다음과 같은 결과가 나와야 합니다.\n",
        "\n",
        "# BOOK_ID\tAUTHOR_NAME\tPUBLISHED_DATE\n",
        "# 3\t김영호\t2021-02-05\n",
        "# 2\t홍길동\t2021-04-11\n",
        "# 주의사항\n",
        "# PUBLISHED_DATE의 데이트 포맷이 예시와 동일해야 정답처리 됩니다."
      ]
    },
    {
      "cell_type": "code",
      "source": [
        "# SELECT b.BOOK_ID, a.AUTHOR_NAME, DATE_FORMAT(b.PUBLISHED_DATE, '%Y-%m-%d') AS PUBLISHED_DATE\n",
        "# FROM BOOK b\n",
        "# JOIN AUTHOR a ON b.AUTHOR_ID = a.AUTHOR_ID\n",
        "# WHERE b.CATEGORY = '경제'\n",
        "# ORDER BY b.PUBLISHED_DATE;"
      ],
      "metadata": {
        "id": "e2pBrHoSu7Z_"
      },
      "execution_count": null,
      "outputs": []
    },
    {
      "cell_type": "markdown",
      "source": [
        "# **33. 상품별 오프라인 매출 구하기(250304)(JOIN)**"
      ],
      "metadata": {
        "id": "Sq87bKT0OdYc"
      }
    },
    {
      "cell_type": "code",
      "source": [
        "# 문제 설명\n",
        "# 다음은 어느 의류 쇼핑몰에서 판매중인 상품들의 상품 정보를 담은 PRODUCT 테이블과 오프라인 상품 판매 정보를 담은 OFFLINE_SALE 테이블 입니다.\n",
        "# PRODUCT 테이블은 아래와 같은 구조로 PRODUCT_ID, PRODUCT_CODE, PRICE는 각각 상품 ID, 상품코드, 판매가를 나타냅니다.\n",
        "\n",
        "# Column name\tType\tNullable\n",
        "# PRODUCT_ID\tINTEGER\tFALSE\n",
        "# PRODUCT_CODE\tVARCHAR(8)\tFALSE\n",
        "# PRICE\tINTEGER\tFALSE\n",
        "# 상품 별로 중복되지 않는 8자리 상품코드 값을 가지며, 앞 2자리는 카테고리 코드를 의미합니다.\n",
        "\n",
        "# OFFLINE_SALE 테이블은 아래와 같은 구조로 되어있으며 OFFLINE_SALE_ID, PRODUCT_ID, SALES_AMOUNT, SALES_DATE는 각각 오프라인 상품 판매 ID, 상품 ID, 판매량, 판매일을 나타냅니다.\n",
        "\n",
        "# Column name\tType\tNullable\n",
        "# OFFLINE_SALE_ID\tINTEGER\tFALSE\n",
        "# PRODUCT_ID\tINTEGER\tFALSE\n",
        "# SALES_AMOUNT\tINTEGER\tFALSE\n",
        "# SALES_DATE\tDATE\tFALSE\n",
        "# 동일한 날짜, 상품 ID 조합에 대해서는 하나의 판매 데이터만 존재합니다.\n",
        "\n",
        "# 문제\n",
        "# PRODUCT 테이블과 OFFLINE_SALE 테이블에서 상품코드 별 매출액(판매가 * 판매량) 합계를 출력하는 SQL문을 작성해주세요.\n",
        "# 결과는 매출액을 기준으로 내림차순 정렬해주시고 매출액이 같다면 상품코드를 기준으로 오름차순 정렬해주세요.\n",
        "\n",
        "# 예시\n",
        "# 예를 들어 PRODUCT 테이블이 다음과 같고\n",
        "\n",
        "# PRODUCT_ID\tPRODUCT_CODE\tPRICE\n",
        "# 1\tA1000011\t15000\n",
        "# 2\tA1000045\t8000\n",
        "# 3\tC3000002\t42000\n",
        "# OFFLINE_SALE 테이블이 다음과 같다면\n",
        "\n",
        "# OFFLINE_SALE_ID\tPRODUCT_ID\tSALES_AMOUNT\tSALES_DATE\n",
        "# 1\t1\t2\t2022-02-21\n",
        "# 2\t1\t2\t2022-03-02\n",
        "# 3\t3\t3\t2022-05-01\n",
        "# 4\t2\t1\t2022-05-24\n",
        "# 5\t1\t2\t2022-07-14\n",
        "# 6\t2\t1\t2022-09-22\n",
        "# 각 상품 별 총 판매량과 판매가는 다음과 같습니다.\n",
        "\n",
        "# PRODUCT_CODE 가 A1000011인 상품은 총 판매량이 6개, 판매가가 15,000원\n",
        "# PRODUCT_CODE 가 A1000045인 상품은 총 판매량이 2개, 판매가가 8,000원\n",
        "# PRODUCT_CODE 가 C3000002인 상품은 총 판매량이 3개, 판매가가 42,000원\n",
        "# 그러므로 각 상품 별 매출액을 계산하고 정렬하면 결과가 다음과 같이 나와야 합니다.\n",
        "\n",
        "# PRODUCT_CODE\tSALES\n",
        "# C3000002\t126000\n",
        "# A1000011\t90000\n",
        "# A1000045\t16000"
      ],
      "metadata": {
        "id": "WCDmrQmIOdte"
      },
      "execution_count": null,
      "outputs": []
    },
    {
      "cell_type": "code",
      "source": [
        "# SELECT p.PRODUCT_CODE, SUM(p.PRICE * o.SALES_AMOUNT) AS SALES\n",
        "# FROM PRODUCT p\n",
        "# JOIN OFFLINE_SALE o ON p.PRODUCT_ID = o.PRODUCT_ID\n",
        "# GROUP BY p.PRODUCT_CODE\n",
        "# ORDER BY SALES DESC, p.PRODUCT_CODE ASC;"
      ],
      "metadata": {
        "id": "wr-Bh2xtOgu9"
      },
      "execution_count": null,
      "outputs": []
    },
    {
      "cell_type": "markdown",
      "source": [
        "# **34. 성분으로 구분한 아이스크림 총 주문량(250305)(GROUP BY)**"
      ],
      "metadata": {
        "id": "wsBFmDRsM3_0"
      }
    },
    {
      "cell_type": "code",
      "source": [
        "# 문제 설명\n",
        "# 다음은 아이스크림 가게의 상반기 주문 정보를 담은 FIRST_HALF 테이블과 아이스크림 성분에 대한 정보를 담은 ICECREAM_INFO 테이블입니다.\n",
        "# FIRST_HALF 테이블 구조는 다음과 같으며, SHIPMENT_ID, FLAVOR, TOTAL_ORDER 는\n",
        "# 각각 아이스크림 공장에서 아이스크림 가게까지의 출하 번호, 아이스크림 맛, 상반기 아이스크림 총주문량을 나타냅니다.\n",
        "# FIRST_HALF 테이블의 기본 키는 FLAVOR입니다.\n",
        "\n",
        "# NAME\tTYPE\tNULLABLE\n",
        "# SHIPMENT_ID\tINT(N)\tFALSE\n",
        "# FLAVOR\tVARCHAR(N)\tFALSE\n",
        "# TOTAL_ORDER\tINT(N)\tFALSE\n",
        "# ICECREAM_INFO 테이블 구조는 다음과 같으며, FLAVOR, INGREDITENT_TYPE 은 각각 아이스크림 맛, 아이스크림의 성분 타입을 나타냅니다.\n",
        "# INGREDIENT_TYPE에는 아이스크림의 주 성분이 설탕이면 sugar_based라고 입력되고, 아이스크림의 주 성분이 과일이면 fruit_based라고 입력됩니다.\n",
        "# ICECREAM_INFO의 기본 키는 FLAVOR입니다. ICECREAM_INFO테이블의 FLAVOR는 FIRST_HALF 테이블의 FLAVOR의 외래 키입니다.\n",
        "\n",
        "# NAME\tTYPE\tNULLABLE\n",
        "# FLAVOR\tVARCHAR(N)\tFALSE\n",
        "# INGREDIENT_TYPE\tVARCHAR(N)\tFALSE\n",
        "\n",
        "# 문제\n",
        "# 상반기 동안 각 아이스크림 성분 타입과 성분 타입에 대한 아이스크림의 총주문량을 총주문량이 작은 순서대로 조회하는 SQL 문을 작성해주세요.\n",
        "# 이때 총주문량을 나타내는 컬럼명은 TOTAL_ORDER로 지정해주세요.\n",
        "\n",
        "# 예시\n",
        "# 예를 들어 FIRST_HALF 테이블이 다음과 같고\n",
        "\n",
        "# SHIPMENT_ID\tFLAVOR\tTOTAL_ORDER\n",
        "# 101\tchocolate\t3200\n",
        "# 102\tvanilla\t2800\n",
        "# 103\tmint_chocolate\t1700\n",
        "# 104\tcaramel\t2600\n",
        "# 105\twhite_chocolate\t3100\n",
        "# 106\tpeach\t2450\n",
        "# 107\twatermelon\t2150\n",
        "# 108\tmango\t2900\n",
        "# 109\tstrawberry\t3100\n",
        "# 110\tmelon\t3150\n",
        "# 111\torange\t2900\n",
        "# 112\tpineapple\t2900\n",
        "# ICECREAM_INFO 테이블이 다음과 같다면\n",
        "\n",
        "# FLAVOR\tINGREDIENT_TYPE\n",
        "# chocolate\tsugar_based\n",
        "# vanilla\tsugar_based\n",
        "# mint_chocolate\tsugar_based\n",
        "# caramel\tsugar_based\n",
        "# white_chocolate\tsugar_based\n",
        "# peach\tfruit_based\n",
        "# watermelon\tfruit_based\n",
        "# mango\tfruit_based\n",
        "# strawberry\tfruit_based\n",
        "# melon\tfruit_based\n",
        "# orange\tfruit_based\n",
        "# pineapple\tfruit_based\n",
        "# 상반기에 아이스크림의 주 성분이 설탕인 아이스크림들에 대한 총주문량을 구하면 3,200 + 2,800 + 1,700 + 2,600 + 3,100 = 13,400입니다.\n",
        "# 아이스크림의 주 성분이 과일인 아이스크림들에 대한 총주문량을 구하면 3,100 + 2,450 + 2,150 + 2,900 + 3,150 + 2,900 + 2,900 = 19,550입니다.\n",
        "# 따라서 총주문량이 작은 순서대로 조회하는 SQL 문을 실행하면 다음과 같이 나와야 합니다.\n",
        "\n",
        "# INGREDIENT_TYPE\tTOTAL_ORDER\n",
        "# sugar_based\t13400\n",
        "# fruit_based\t19550"
      ],
      "metadata": {
        "id": "Xnr8QvuLM4Uc"
      },
      "execution_count": null,
      "outputs": []
    },
    {
      "cell_type": "code",
      "source": [
        "# SELECT i.INGREDIENT_TYPE, SUM(f.TOTAL_ORDER) AS TOTAL_ORDER\n",
        "# FROM FIRST_HALF f\n",
        "# JOIN ICECREAM_INFO i on f.FLAVOR = i.FLAVOR\n",
        "# GROUP BY i.INGREDIENT_TYPE\n",
        "# ORDER BY f.TOTAL_ORDER ASC"
      ],
      "metadata": {
        "id": "hzqDALiwM7c5"
      },
      "execution_count": null,
      "outputs": []
    }
  ]
}