{
  "nbformat": 4,
  "nbformat_minor": 0,
  "metadata": {
    "colab": {
      "provenance": [],
      "authorship_tag": "ABX9TyNOH/tdfJ+O56kfd9EEjGKu"
    },
    "kernelspec": {
      "name": "python3",
      "display_name": "Python 3"
    },
    "language_info": {
      "name": "python"
    }
  },
  "cells": [
    {
      "cell_type": "markdown",
      "source": [
        "# **21. 조건에 맞는 회원수 구하기(250211)(SELECT)**"
      ],
      "metadata": {
        "id": "n7cjSWPhFXLt"
      }
    },
    {
      "cell_type": "code",
      "execution_count": null,
      "metadata": {
        "id": "lAqVz4nvE9Hq"
      },
      "outputs": [],
      "source": [
        "# 문제 설명\n",
        "# 다음은 어느 의류 쇼핑몰에 가입한 회원 정보를 담은 USER_INFO 테이블입니다.\n",
        "# USER_INFO 테이블은 아래와 같은 구조로 되어있으며 USER_ID, GENDER, AGE, JOINED는 각각 회원 ID, 성별, 나이, 가입일을 나타냅니다.\n",
        "\n",
        "# Column name\tType\tNullable\n",
        "# USER_ID\tINTEGER\tFALSE\n",
        "# GENDER\tTINYINT(1)\tTRUE\n",
        "# AGE\tINTEGER\tTRUE\n",
        "# JOINED\tDATE\tFALSE\n",
        "# GENDER 컬럼은 비어있거나 0 또는 1의 값을 가지며 0인 경우 남자를, 1인 경우는 여자를 나타냅니다.\n",
        "\n",
        "# 문제\n",
        "# USER_INFO 테이블에서 2021년에 가입한 회원 중 나이가 20세 이상 29세 이하인 회원이 몇 명인지 출력하는 SQL문을 작성해주세요.\n",
        "\n",
        "# 예시\n",
        "# 예를 들어 USER_INFO 테이블이 다음과 같다면\n",
        "\n",
        "# USER_ID\tGENDER\tAGE\tJOINED\n",
        "# 1\t1\t26\t2021-10-05\n",
        "# 2\t0\tNULL\t2021-11-25\n",
        "# 3\t1\t22\t2021-11-30\n",
        "# 4\t0\t31\t2021-12-03\n",
        "# 5\t0\t28\t2021-12-16\n",
        "# 6\t1\t24\t2022-01-03\n",
        "# 7\t1\tNULL\t2022-01-09\n",
        "# 2021년에 가입한 회원 중 나이가 20세 이상 29세 이하인 회원은 USER_ID 가 1, 3, 5 인 회원들 이므로, 다음과 같이 결과가 나와야 합니다.\n",
        "\n",
        "# USERS\n",
        "# 3"
      ]
    },
    {
      "cell_type": "markdown",
      "source": [
        "1) 내가 쓴 코드"
      ],
      "metadata": {
        "id": "PvwscNhVF3cm"
      }
    },
    {
      "cell_type": "code",
      "source": [
        "# SELECT COUNT(USER_ID) as USER\n",
        "# FROM USER_INFO\n",
        "# WHERE JOINED LIKE '2021%'\n",
        "# AND AGE >= '20'\n",
        "# AND AGE <= '29'"
      ],
      "metadata": {
        "id": "s3yFyj9vF4cM"
      },
      "execution_count": null,
      "outputs": []
    },
    {
      "cell_type": "markdown",
      "source": [
        "2) gpt 제안 코드"
      ],
      "metadata": {
        "id": "3wqY7iDVJ8TC"
      }
    },
    {
      "cell_type": "code",
      "source": [
        "# SELECT COUNT(*) AS USERS\n",
        "# FROM USER_INFO\n",
        "# WHERE YEAR(JOINED) = 2021\n",
        "# AND AGE BETWEEN 20 AND 29;"
      ],
      "metadata": {
        "id": "u5tj2u3VJ9VB"
      },
      "execution_count": null,
      "outputs": []
    },
    {
      "cell_type": "markdown",
      "source": [
        "# **22. 흉부외과 또는 일반외과 의사 목록 출력하기(250212)(SELECT)**"
      ],
      "metadata": {
        "id": "Da4BWhILvwJe"
      }
    },
    {
      "cell_type": "code",
      "source": [
        "# 문제 설명\n",
        "# 다음은 종합병원에 속한 의사 정보를 담은DOCTOR 테이블입니다.\n",
        "# DOCTOR 테이블은 다음과 같으며 DR_NAME, DR_ID, LCNS_NO, HIRE_YMD, MCDP_CD, TLNO는\n",
        "# 각각 의사이름, 의사ID, 면허번호, 고용일자, 진료과코드, 전화번호를 나타냅니다.\n",
        "\n",
        "# Column name\tType\tNullable\n",
        "# DR_NAME\tVARCHAR(20)\tFALSE\n",
        "# DR_ID\tVARCHAR(10)\tFALSE\n",
        "# LCNS_NO\tVARCHAR(30)\tFALSE\n",
        "# HIRE_YMD\tDATE\tFALSE\n",
        "# MCDP_CD\tVARCHAR(6)\tTRUE\n",
        "# TLNO\tVARCHAR(50)\tTRUE\n",
        "# 문제\n",
        "# DOCTOR 테이블에서 진료과가 흉부외과(CS)이거나 일반외과(GS)인 의사의 이름, 의사ID, 진료과, 고용일자를 조회하는 SQL문을 작성해주세요.\n",
        "# 이때 결과는 고용일자를 기준으로 내림차순 정렬하고, 고용일자가 같다면 이름을 기준으로 오름차순 정렬해주세요.\n",
        "\n",
        "# 예시\n",
        "# DOCTOR 테이블이 다음과 같을 때\n",
        "\n",
        "# DR_NAME\tDR_ID\tLCNS_NO\tHIRE_YMD\tMCDP_CD\tTLNO\n",
        "# 루피\tDR20090029\tLC00010001\t2009-03-01\tCS\t01085482011\n",
        "# 패티\tDR20090001\tLC00010901\t2009-07-01\tCS\t01085220122\n",
        "# 뽀로로\tDR20170123\tLC00091201\t2017-03-01\tGS\t01034969210\n",
        "# 티거\tDR20100011\tLC00011201\t2010-03-01\tNP\t01034229818\n",
        "# 품바\tDR20090231\tLC00011302\t2015-11-01\tOS\t01049840278\n",
        "# 티몬\tDR20090112\tLC00011162\t2010-03-01\tFM\t01094622190\n",
        "# 니모\tDR20200012\tLC00911162\t2020-03-01\tCS\t01089483921\n",
        "# 오로라\tDR20100031\tLC00010327\t2010-11-01\tOS\t01098428957\n",
        "# 자스민\tDR20100032\tLC00010192\t2010-03-01\tGS\t01023981922\n",
        "# 벨\tDR20100039\tLC00010562\t2010-07-01\tGS\t01058390758\n",
        "# SQL을 실행하면 다음과 같이 출력되어야 합니다.\n",
        "\n",
        "# DR_NAME\tDR_ID\tMCDP_CD\tHIRE_YMD\n",
        "# 니모\tDR20200012\tCS\t2020-03-01\n",
        "# 뽀로로\tDR20170123\tGS\t2017-03-01\n",
        "# 벨\tDR20100039\tGS\t2010-07-01\n",
        "# 자스민\tDR20100032\tGS\t2010-03-01\n",
        "# 패티\tDR20090001\tCS\t2009-07-01\n",
        "# 루피\tDR20090029\tCS\t2009-03-01\n",
        "\n",
        "# 주의사항\n",
        "# 날짜 포맷은 예시와 동일하게 나와야합니다."
      ],
      "metadata": {
        "id": "FZmHQAfAv3ix"
      },
      "execution_count": null,
      "outputs": []
    },
    {
      "cell_type": "markdown",
      "source": [
        "1) 내 코드"
      ],
      "metadata": {
        "id": "U8s6Wo-YwBBE"
      }
    },
    {
      "cell_type": "code",
      "source": [
        "# SELECT DR_NAME, DR_ID, MCDP_CD, DATE_FORMAT(HIRE_YMD, '%Y-%m-%d')\n",
        "# FROM DOCTOR\n",
        "# WHERE MCDP_CD = 'GS'\n",
        "# OR MCDP_CD = 'CS'\n",
        "# ORDER BY HIRE_YMD DESC, DR_NAME ASC"
      ],
      "metadata": {
        "id": "O83jRojPwB9M"
      },
      "execution_count": null,
      "outputs": []
    },
    {
      "cell_type": "markdown",
      "source": [
        "# **23. 조건에 맞는 아이템들의 가격의 총합 구하기(250213)(SUN, MAX, MIN)**"
      ],
      "metadata": {
        "id": "4g1pUQbPAlbh"
      }
    },
    {
      "cell_type": "code",
      "source": [
        "# 문제 설명\n",
        "# 다음은 어느 한 게임에서 사용되는 아이템들의 아이템 정보를 담은 ITEM_INFO 테이블입니다.\n",
        "# ITEM_INFO 테이블은 다음과 같으며, ITEM_ID, ITEM_NAME, RARITY, PRICE는 각각 아이템 ID, 아이템 명, 아이템의 희귀도, 아이템의 가격을 나타냅니다.\n",
        "\n",
        "# Column name\tType\tNullable\n",
        "# ITEM_ID\tINTEGER\tFALSE\n",
        "# ITEM_NAME\tVARCHAR(N)\tFALSE\n",
        "# RARITY\tINTEGER\tFALSE\n",
        "# PRICE\tINTEGER\tFALSE\n",
        "# 문제\n",
        "# ITEM_INFO 테이블에서 희귀도가 'LEGEND'인 아이템들의 가격의 총합을 구하는 SQL문을 작성해 주세요.\n",
        "# 이때 컬럼명은 'TOTAL_PRICE'로 지정해 주세요.\n",
        "\n",
        "# 예시\n",
        "# 예를 들어 ITEM_INFO 테이블이 다음과 같다면\n",
        "\n",
        "# ITEM_ID\tITEM_NAME\tRARITY\tPRICE\n",
        "# 0\tITEM_A\tCOMMON\t10000\n",
        "# 1\tITEM_B\tLEGEND\t9000\n",
        "# 2\tITEM_C\tLEGEND\t11000\n",
        "# 3\tITEM_D\tUNIQUE\t10000\n",
        "# 4\tITEM_E\tLEGEND\t12000\n",
        "# 조건에 해당되는 아이템의 아이템 ID는 1, 2, 4이며 각 아이템들의 가격은 9000, 11000, 12000 이므로 조건에 해당되는 아이템들의 가격의 합은 다음과 같습니다.\n",
        "\n",
        "# TOTAL_PRICE\n",
        "# 32000"
      ],
      "metadata": {
        "id": "aVnIBy3QAs69"
      },
      "execution_count": null,
      "outputs": []
    },
    {
      "cell_type": "markdown",
      "source": [
        "1) 내 코드"
      ],
      "metadata": {
        "id": "TEVLSPWOA9fh"
      }
    },
    {
      "cell_type": "code",
      "source": [
        "# SELECT SUM(PRICE) AS TOTAL_PRICE\n",
        "# FROM ITEM_INFO\n",
        "# WHERE RARITY = 'LEGEND'"
      ],
      "metadata": {
        "id": "M6l_d3RfA-eX"
      },
      "execution_count": null,
      "outputs": []
    },
    {
      "cell_type": "markdown",
      "source": [
        "# **24. 카테고리별 상품 개수 구하기(250217)(String, Date)**"
      ],
      "metadata": {
        "id": "esO2X3slwFhd"
      }
    },
    {
      "cell_type": "code",
      "source": [
        "# 문제 설명\n",
        "# 다음은 어느 의류 쇼핑몰에서 판매중인 상품들의 정보를 담은 PRODUCT 테이블입니다.\n",
        "# PRODUCT 테이블은 아래와 같은 구조로 되어있으며, PRODUCT_ID, PRODUCT_CODE, PRICE는 각각 상품 ID, 상품코드, 판매가를 나타냅니다.\n",
        "\n",
        "# Column name\tType\tNullable\n",
        "# PRODUCT_ID\tINTEGER\tFALSE\n",
        "# PRODUCT_CODE\tVARCHAR(8)\tFALSE\n",
        "# PRICE\tINTEGER\tFALSE\n",
        "# 상품 별로 중복되지 않는 8자리 상품코드 값을 가지며, 앞 2자리는 카테고리 코드를 의미합니다.\n",
        "\n",
        "# 문제\n",
        "# PRODUCT 테이블에서 상품 카테고리 코드(PRODUCT_CODE 앞 2자리) 별 상품 개수를 출력하는 SQL문을 작성해주세요. 결과는 상품 카테고리 코드를 기준으로 오름차순 정렬해주세요.\n",
        "\n",
        "# 예시\n",
        "# 예를 들어 PRODUCT 테이블이 다음과 같다면\n",
        "\n",
        "# PRODUCT_ID\tPRODUCT_CODE\tPRICE\n",
        "# 1\tA1000011\t10000\n",
        "# 2\tA1000045\t9000\n",
        "# 3\tC3000002\t22000\n",
        "# 4\tC3000006\t15000\n",
        "# 5\tC3000010\t30000\n",
        "# 6\tK1000023\t17000\n",
        "# 상품 카테고리 코드 별 상품은 아래와 같으므로,\n",
        "\n",
        "# A1: PRODUCT_ID가 1, 2 인 상품\n",
        "# C3: PRODUCT_ID가 3, 4, 5 인 상품\n",
        "# K1: PRODUCT_ID가 6 인 상품\n",
        "# 다음과 같은 결과가 나와야 합니다.\n",
        "\n",
        "# CATEGORY\tPRODUCTS\n",
        "# A1\t2\n",
        "# C3\t3\n",
        "# K1\t1"
      ],
      "metadata": {
        "id": "_wm8tH87wK7E"
      },
      "execution_count": null,
      "outputs": []
    },
    {
      "cell_type": "markdown",
      "source": [
        "1) 내가 쓴 코드"
      ],
      "metadata": {
        "id": "MRKoa6L4xF97"
      }
    },
    {
      "cell_type": "code",
      "source": [
        "# SELECT LEFT(PRODUCT_CODE, 2) as CATEGORY, COUNT(*) as PRODUCTS\n",
        "# FROM PRODUCT\n",
        "# GROUP BY LEFT(PRODUCT_CODE, 2)\n",
        "# ORDER BY PRODUCT_CODE"
      ],
      "metadata": {
        "id": "D6wIkYiHxG6_"
      },
      "execution_count": null,
      "outputs": []
    },
    {
      "cell_type": "markdown",
      "source": [
        "# **25. 진료과별 총 예약 횟수 출력하기(250218)(GROUP BY)**"
      ],
      "metadata": {
        "id": "THJhr9z1adlN"
      }
    },
    {
      "cell_type": "code",
      "source": [
        "# 문제 설명\n",
        "# 다음은 종합병원의 진료 예약정보를 담은 APPOINTMENT 테이블 입니다.\n",
        "# APPOINTMENT 테이블은 다음과 같으며 APNT_YMD, APNT_NO, PT_NO, MCDP_CD, MDDR_ID, APNT_CNCL_YN, APNT_CNCL_YMD는\n",
        "# 각각 진료예약일시, 진료예약번호, 환자번호, 진료과코드, 의사ID, 예약취소여부, 예약취소날짜를 나타냅니다.\n",
        "\n",
        "# Column name\tType\tNullable\n",
        "# APNT_YMD\tTIMESTAMP\tFALSE\n",
        "# APNT_NO\tNUMBER(5)\tFALSE\n",
        "# PT_NO\tVARCHAR(10)\tFALSE\n",
        "# MCDP_CD\tVARCHAR(6)\tFALSE\n",
        "# MDDR_ID\tVARCHAR(10)\tFALSE\n",
        "# APNT_CNCL_YN\tVARCHAR(1)\tTRUE\n",
        "# APNT_CNCL_YMD\tDATE\tTRUE\n",
        "# 문제\n",
        "# APPOINTMENT 테이블에서 2022년 5월에 예약한 환자 수를 진료과코드 별로 조회하는 SQL문을 작성해주세요.\n",
        "# 이때, 컬럼명은 '진료과 코드', '5월예약건수'로 지정해주시고 결과는 진료과별 예약한 환자 수를 기준으로 오름차순 정렬하고,\n",
        "# 예약한 환자 수가 같다면 진료과 코드를 기준으로 오름차순 정렬해주세요.\n",
        "\n",
        "# 예시\n",
        "# APPOINTMENT 테이블이 다음과 같을 때\n",
        "\n",
        "# APNT_YMD\tAPNT_NO\tPT_NO\tMCDP_CD\tMDDR_ID\tAPNT_CNCL_YN\tAPNT_CNCL_YMD\n",
        "# 2022-04-14 09:30:00.000000\t47\tPT22000064\tGS\tDR20170123\tN\tNULL\n",
        "# 2022-04-15 10:30:00.000000\t48\tPT22000065\tOB\tDR20100231\tN\tNULL\n",
        "# 2022-05-15 17:30:00.000000\t49\tPT22000086\tOB\tDR20100231\tN\tNULL\n",
        "# 2022-05-18 10:30:00.000000\t52\tPT22000019\tGS\tDR20100039\tN\tNULL\n",
        "# 2022-05-19 12:00:00.000000\t53\tPT22000020\tFM\tDR20010112\tN\tNULL\n",
        "# 2022-05-22 08:30:00.000000\t54\tPT22000021\tGS\tDR20100039\tN\tNULL\n",
        "# 2022-05-04 10:30:00.000000\t56\tPT22000023\tFM\tDR20090112\tN\tNULL\n",
        "# 2022-05-14 15:30:00.000000\t57\tPT22000074\tCS\tDR20200012\tN\tNULL\n",
        "# 2022-05-24 15:30:00.000000\t58\tPT22000085\tCS\tDR20200012\tN\tNULL\n",
        "# 2022-05-28 10:00:00.000000\t60\tPT22000092\tOS\tDR20100031\tN\tNULL\n",
        "# SQL을 실행하면 다음과 같이 출력되어야 합니다.\n",
        "\n",
        "# 진료과코드\t5월예약건수\n",
        "# OB\t1\n",
        "# OS\t1\n",
        "# CS\t2\n",
        "# FM\t2\n",
        "# GS\t2"
      ],
      "metadata": {
        "id": "d2MfF5whaj7q"
      },
      "execution_count": null,
      "outputs": []
    },
    {
      "cell_type": "markdown",
      "source": [
        "1) 내가 쓴 코드"
      ],
      "metadata": {
        "id": "-G368aqsau7e"
      }
    },
    {
      "cell_type": "code",
      "source": [
        "# SELECT MCDP_CD AS '진료과 코드', COUNT(PT_NO) AS '5월예약건수'\n",
        "# FROM APPOINTMENT\n",
        "# WHERE APNT_YMD >= '2022-05-01' AND APNT_YMD < '2022-06-01'\n",
        "# GROUP BY MCDP_CD\n",
        "# ORDER BY '5월예약건수', '진료과 코드';"
      ],
      "metadata": {
        "id": "x1w4ZyhsawGp"
      },
      "execution_count": null,
      "outputs": []
    },
    {
      "cell_type": "markdown",
      "source": [
        "# **26. 인기있는 아이스크림(250219)(SELECT)**"
      ],
      "metadata": {
        "id": "jPSksJLFdS7V"
      }
    },
    {
      "cell_type": "code",
      "source": [
        "# 문제 설명\n",
        "# FIRST_HALF 테이블은 아이스크림 가게의 상반기 주문 정보를 담은 테이블입니다.\n",
        "# FIRST_HALF 테이블 구조는 다음과 같으며, SHIPMENT_ID, FLAVOR, TOTAL_ORDER는\n",
        "# 각각 아이스크림 공장에서 아이스크림 가게까지의 출하 번호, 아이스크림 맛, 상반기 아이스크림 총주문량을 나타냅니다.\n",
        "\n",
        "# NAME\tTYPE\tNULLABLE\n",
        "# SHIPMENT_ID\tINT(N)\tFALSE\n",
        "# FLAVOR\tVARCHAR(N)\tFALSE\n",
        "# TOTAL_ORDER\tINT(N)\tFALSE\n",
        "\n",
        "# 문제\n",
        "# 상반기에 판매된 아이스크림의 맛을 총주문량을 기준으로 내림차순 정렬하고 총주문량이 같다면 출하 번호를 기준으로 오름차순 정렬하여 조회하는 SQL 문을 작성해주세요.\n",
        "\n",
        "# 예시\n",
        "# 예를 들어 FIRST_HALF 테이블이 다음과 같을 때\n",
        "\n",
        "# SHIPMENT_ID\tFLAVOR\tTOTAL_ORDER\n",
        "# 101\tchocolate\t3200\n",
        "# 102\tvanilla\t2800\n",
        "# 103\tmint_chocolate\t1700\n",
        "# 104\tcaramel\t2600\n",
        "# 105\twhite_chocolate\t3100\n",
        "# 106\tpeach\t2450\n",
        "# 107\twatermelon\t2150\n",
        "# 108\tmango\t2900\n",
        "# 109\tstrawberry\t3100\n",
        "# 110\tmelon\t3150\n",
        "# 111\torange\t2900\n",
        "# 112\tpineapple\t2900\n",
        "# 상반기 아이스크림 맛을 총주문량을 기준으로 내림차순 정렬하고 총주문량이 같은 경우 출하 번호를 기준으로 오름차순 정렬하면\n",
        "# chocolate, melon, white_chocolate, strawberry, mango, orange, pineapple, vanilla, caramel, peach, watermelon, mint_chocolate 순서대로 조회되어야 합니다.\n",
        "# 따라서 SQL문을 실행하면 다음과 같이 나와야 합니다.\n",
        "\n",
        "# FLAVOR\n",
        "# chocolate\n",
        "# melon\n",
        "# white_chocolate\n",
        "# strawberry\n",
        "# mango\n",
        "# orange\n",
        "# pineapple\n",
        "# vanilla\n",
        "# caramel\n",
        "# peach\n",
        "# watermelon\n",
        "# mint_chocolate"
      ],
      "metadata": {
        "id": "7Fhmury6dfhE"
      },
      "execution_count": null,
      "outputs": []
    },
    {
      "cell_type": "markdown",
      "source": [
        "1) 내 코드"
      ],
      "metadata": {
        "id": "pgFy4Vp5duK8"
      }
    },
    {
      "cell_type": "code",
      "source": [
        "# SELECT FLAVOR\n",
        "# FROM FIRST_HALF\n",
        "# ORDER BY TOTAL_ORDER DESC, SHIPMENT_ID ASC"
      ],
      "metadata": {
        "id": "g29atThLdwQy"
      },
      "execution_count": null,
      "outputs": []
    },
    {
      "cell_type": "markdown",
      "source": [
        "# **27. 12세 이하인 여자 환자 목록 출력하기(250221)(SELECT)**"
      ],
      "metadata": {
        "id": "q6UVNujeP3t4"
      }
    },
    {
      "cell_type": "code",
      "source": [
        "# 문제 설명\n",
        "# 다음은 종합병원에 등록된 환자정보를 담은 PATIENT 테이블입니다.\n",
        "# PATIENT 테이블은 다음과 같으며 PT_NO, PT_NAME, GEND_CD, AGE, TLNO는 각각 환자번호, 환자이름, 성별코드, 나이, 전화번호를 의미합니다.\n",
        "\n",
        "# Column name\tType\tNullable\n",
        "# PT_NO\tVARCHAR(10)\tFALSE\n",
        "# PT_NAME\tVARCHAR(20)\tFALSE\n",
        "# GEND_CD\tVARCHAR(1)\tFALSE\n",
        "# AGE\tINTEGER\tFALSE\n",
        "# TLNO\tVARCHAR(50)\tTRUE\n",
        "# 문제\n",
        "# PATIENT 테이블에서 12세 이하인 여자환자의 환자이름, 환자번호, 성별코드, 나이, 전화번호를 조회하는 SQL문을 작성해주세요.\n",
        "# 이때 전화번호가 없는 경우, 'NONE'으로 출력시켜 주시고 결과는 나이를 기준으로 내림차순 정렬하고, 나이 같다면 환자이름을 기준으로 오름차순 정렬해주세요.\n",
        "\n",
        "# 예시\n",
        "# PATIENT 테이블이 다음과 같을 때\n",
        "\n",
        "# PT_NO\tPT_NAME\tGEND_CD\tAGE\tTLNO\n",
        "# PT22000003\t브라운\tM\t18\t01031246641\n",
        "# PT22000004\t크롱\tM\t7\tNULL\n",
        "# PT22000006\t뽀뽀\tW\t8\tNULL\n",
        "# PT22000009\t한나\tW\t12\t01032323117\n",
        "# PT22000012\t뿡뿡이\tM\t5\tNULL\n",
        "# PT22000013\t크리스\tM\t30\t01059341192\n",
        "# PT22000014\t토프\tW\t22\t01039458213\n",
        "# PT22000018\t안나\tW\t11\tNULL\n",
        "# PT22000019\t바라\tW\t10\t01079068799\n",
        "# PT22000021\t릴로\tW\t33\t01023290767\n",
        "# SQL을 실행하면 다음과 같이 출력되어야 합니다.\n",
        "\n",
        "# PT_NAME\tPT_NO\tGEND_CD\tAGE\tTLNO\n",
        "# 한나\tPT22000009\tW\t12\t01032323117\n",
        "# 안나\tPT22000018\tW\t11\tNONE\n",
        "# 바라\tPT22000019\tW\t10\t01079068799\n",
        "# 뽀뽀\tPT22000006\tW\t8\tNONE"
      ],
      "metadata": {
        "id": "ZEK_uSn9P8Ny"
      },
      "execution_count": null,
      "outputs": []
    },
    {
      "cell_type": "markdown",
      "source": [
        "1) 내 코드"
      ],
      "metadata": {
        "id": "1QGpo4OhQBkZ"
      }
    },
    {
      "cell_type": "code",
      "source": [
        "# SELECT PT_NAME, PT_NO, GEND_CD, AGE, IFNULL(TLNO, 'NONE')\n",
        "# FROM PATIENT\n",
        "# WHERE AGE <= '12'\n",
        "# AND   GEND_CD = 'W'\n",
        "# ORDER BY AGE DESC, PT_NAME ASC"
      ],
      "metadata": {
        "id": "OLnYpAfnQC-0"
      },
      "execution_count": null,
      "outputs": []
    },
    {
      "cell_type": "markdown",
      "source": [
        "# **28. 중성화 여부 파악하기(250224)(String, Date)**(검색 도움)"
      ],
      "metadata": {
        "id": "edMlk5w59FsT"
      }
    },
    {
      "cell_type": "code",
      "source": [
        "# 문제 설명\n",
        "# ANIMAL_INS 테이블은 동물 보호소에 들어온 동물의 정보를 담은 테이블입니다.\n",
        "# ANIMAL_INS 테이블 구조는 다음과 같으며, ANIMAL_ID, ANIMAL_TYPE, DATETIME, INTAKE_CONDITION, NAME, SEX_UPON_INTAKE는\n",
        "# 각각 동물의 아이디, 생물 종, 보호 시작일, 보호 시작 시 상태, 이름, 성별 및 중성화 여부를 나타냅니다.\n",
        "\n",
        "# NAME\tTYPE\tNULLABLE\n",
        "# ANIMAL_ID\tVARCHAR(N)\tFALSE\n",
        "# ANIMAL_TYPE\tVARCHAR(N)\tFALSE\n",
        "# DATETIME\tDATETIME\tFALSE\n",
        "# INTAKE_CONDITION\tVARCHAR(N)\tFALSE\n",
        "# NAME\tVARCHAR(N)\tTRUE\n",
        "# SEX_UPON_INTAKE\tVARCHAR(N)\tFALSE\n",
        "# 보호소의 동물이 중성화되었는지 아닌지 파악하려 합니다. 중성화된 동물은 SEX_UPON_INTAKE 컬럼에 'Neutered' 또는 'Spayed'라는 단어가 들어있습니다.\n",
        "# 동물의 아이디와 이름, 중성화 여부를 아이디 순으로 조회하는 SQL문을 작성해주세요. 이때 중성화가 되어있다면 'O', 아니라면 'X'라고 표시해주세요.\n",
        "\n",
        "# 예시\n",
        "# 예를 들어 ANIMAL_INS 테이블이 다음과 같다면\n",
        "\n",
        "# ANIMAL_ID\tANIMAL_TYPE\tDATETIME\tINTAKE_CONDITION\tNAME\tSEX_UPON_INTAKE\n",
        "# A355753\tDog\t2015-09-10 13:14:00\tNormal\tElijah\tNeutered Male\n",
        "# A373219\tCat\t2014-07-29 11:43:00\tNormal\tElla\tSpayed Female\n",
        "# A382192\tDog\t2015-03-13 13:14:00\tNormal\tMaxwell 2\tIntact Male\n",
        "# 중성화한 동물: Elijah, Ella\n",
        "# 중성화하지 않은 동물: Maxwell 2\n",
        "# 따라서 SQL문을 실행하면 다음과 같이 나와야 합니다.\n",
        "\n",
        "# ANIMAL_ID\tNAME\t중성화\n",
        "# A355753\tElijah\tO\n",
        "# A373219\tElla\tO\n",
        "# A382192\tMaxwell 2\tX\n",
        "# ※ 컬럼 이름은 일치하지 않아도 됩니다."
      ],
      "metadata": {
        "id": "--uz4Aeo9LQu"
      },
      "execution_count": null,
      "outputs": []
    },
    {
      "cell_type": "markdown",
      "source": [
        "1) 내가 쓴 코드"
      ],
      "metadata": {
        "id": "3vEq4oXB9gmF"
      }
    },
    {
      "cell_type": "code",
      "source": [
        "# SELECT ANIMAL_ID, NAME,\n",
        "#        CASE\n",
        "#            WHEN SEX_UPON_INTAKE LIKE 'Neutered%' OR SEX_UPON_INTAKE LIKE 'Spayed%' THEN 'O'\n",
        "#            ELSE 'X'\n",
        "#        END AS 중성화\n",
        "# FROM ANIMAL_INS\n",
        "# ORDER BY ANIMAL_ID;"
      ],
      "metadata": {
        "id": "9vC3bemt9iL6"
      },
      "execution_count": null,
      "outputs": []
    },
    {
      "cell_type": "markdown",
      "source": [
        "# **29. 고양이와 개는 몇 마리 있을까(250225)(GROUP BY)**"
      ],
      "metadata": {
        "id": "GxuECXhLqL_E"
      }
    },
    {
      "cell_type": "code",
      "source": [
        "# 문제 설명\n",
        "# ANIMAL_INS 테이블은 동물 보호소에 들어온 동물의 정보를 담은 테이블입니다.\n",
        "# ANIMAL_INS 테이블 구조는 다음과 같으며, ANIMAL_ID, ANIMAL_TYPE, DATETIME, INTAKE_CONDITION, NAME, SEX_UPON_INTAKE는\n",
        "# 각각 동물의 아이디, 생물 종, 보호 시작일, 보호 시작 시 상태, 이름, 성별 및 중성화 여부를 나타냅니다.\n",
        "\n",
        "# NAME\tTYPE\tNULLABLE\n",
        "# ANIMAL_ID\tVARCHAR(N)\tFALSE\n",
        "# ANIMAL_TYPE\tVARCHAR(N)\tFALSE\n",
        "# DATETIME\tDATETIME\tFALSE\n",
        "# INTAKE_CONDITION\tVARCHAR(N)\tFALSE\n",
        "# NAME\tVARCHAR(N)\tTRUE\n",
        "# SEX_UPON_INTAKE\tVARCHAR(N)\tFALSE\n",
        "# 동물 보호소에 들어온 동물 중 고양이와 개가 각각 몇 마리인지 조회하는 SQL문을 작성해주세요. 이때 고양이를 개보다 먼저 조회해주세요.\n",
        "\n",
        "# 예시\n",
        "# 예를 들어 ANIMAL_INS 테이블이 다음과 같다면\n",
        "\n",
        "# ANIMAL_ID\tANIMAL_TYPE\tDATETIME\tINTAKE_CONDITION\tNAME\tSEX_UPON_INTAKE\n",
        "# A373219\tCat\t2014-07-29 11:43:00\tNormal\tElla\tSpayed Female\n",
        "# A377750\tDog\t2017-10-25 17:17:00\tNormal\tLucy\tSpayed Female\n",
        "# A354540\tCat\t2014-12-11 11:48:00\tNormal\tTux\tNeutered Male\n",
        "# 고양이는 2마리, 개는 1마리 들어왔습니다. 따라서 SQL문을 실행하면 다음과 같이 나와야 합니다.\n",
        "\n",
        "# ANIMAL_TYPE\tcount\n",
        "# Cat\t2\n",
        "# Dog\t1"
      ],
      "metadata": {
        "id": "GH1bun6YqSXU"
      },
      "execution_count": null,
      "outputs": []
    },
    {
      "cell_type": "markdown",
      "source": [
        "1) 내가 쓴 코드"
      ],
      "metadata": {
        "id": "7OBKVDXMqgmF"
      }
    },
    {
      "cell_type": "code",
      "source": [
        "# SELECT ANIMAL_TYPE, COUNT(ANIMAL_TYPE) as 'count'\n",
        "# FROM ANIMAL_INS\n",
        "# GROUP BY ANIMAL_TYPE\n",
        "# ORDER BY ANIMAL_TYPE"
      ],
      "metadata": {
        "id": "ZCcy4cldqhwH"
      },
      "execution_count": null,
      "outputs": []
    }
  ]
}