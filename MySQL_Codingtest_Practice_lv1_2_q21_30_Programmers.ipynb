{
  "nbformat": 4,
  "nbformat_minor": 0,
  "metadata": {
    "colab": {
      "provenance": [],
      "authorship_tag": "ABX9TyPS1K+Ayorra2c2VL7MIJbf"
    },
    "kernelspec": {
      "name": "python3",
      "display_name": "Python 3"
    },
    "language_info": {
      "name": "python"
    }
  },
  "cells": [
    {
      "cell_type": "markdown",
      "source": [
        "# **21. 조건에 맞는 회원수 구하기(250211)(SELECT)**"
      ],
      "metadata": {
        "id": "n7cjSWPhFXLt"
      }
    },
    {
      "cell_type": "code",
      "execution_count": null,
      "metadata": {
        "id": "lAqVz4nvE9Hq"
      },
      "outputs": [],
      "source": [
        "# 문제 설명\n",
        "# 다음은 어느 의류 쇼핑몰에 가입한 회원 정보를 담은 USER_INFO 테이블입니다.\n",
        "# USER_INFO 테이블은 아래와 같은 구조로 되어있으며 USER_ID, GENDER, AGE, JOINED는 각각 회원 ID, 성별, 나이, 가입일을 나타냅니다.\n",
        "\n",
        "# Column name\tType\tNullable\n",
        "# USER_ID\tINTEGER\tFALSE\n",
        "# GENDER\tTINYINT(1)\tTRUE\n",
        "# AGE\tINTEGER\tTRUE\n",
        "# JOINED\tDATE\tFALSE\n",
        "# GENDER 컬럼은 비어있거나 0 또는 1의 값을 가지며 0인 경우 남자를, 1인 경우는 여자를 나타냅니다.\n",
        "\n",
        "# 문제\n",
        "# USER_INFO 테이블에서 2021년에 가입한 회원 중 나이가 20세 이상 29세 이하인 회원이 몇 명인지 출력하는 SQL문을 작성해주세요.\n",
        "\n",
        "# 예시\n",
        "# 예를 들어 USER_INFO 테이블이 다음과 같다면\n",
        "\n",
        "# USER_ID\tGENDER\tAGE\tJOINED\n",
        "# 1\t1\t26\t2021-10-05\n",
        "# 2\t0\tNULL\t2021-11-25\n",
        "# 3\t1\t22\t2021-11-30\n",
        "# 4\t0\t31\t2021-12-03\n",
        "# 5\t0\t28\t2021-12-16\n",
        "# 6\t1\t24\t2022-01-03\n",
        "# 7\t1\tNULL\t2022-01-09\n",
        "# 2021년에 가입한 회원 중 나이가 20세 이상 29세 이하인 회원은 USER_ID 가 1, 3, 5 인 회원들 이므로, 다음과 같이 결과가 나와야 합니다.\n",
        "\n",
        "# USERS\n",
        "# 3"
      ]
    },
    {
      "cell_type": "markdown",
      "source": [
        "1) 내가 쓴 코드"
      ],
      "metadata": {
        "id": "PvwscNhVF3cm"
      }
    },
    {
      "cell_type": "code",
      "source": [
        "# SELECT COUNT(USER_ID) as USER\n",
        "# FROM USER_INFO\n",
        "# WHERE JOINED LIKE '2021%'\n",
        "# AND AGE >= '20'\n",
        "# AND AGE <= '29'"
      ],
      "metadata": {
        "id": "s3yFyj9vF4cM"
      },
      "execution_count": null,
      "outputs": []
    },
    {
      "cell_type": "markdown",
      "source": [
        "2) gpt 제안 코드"
      ],
      "metadata": {
        "id": "3wqY7iDVJ8TC"
      }
    },
    {
      "cell_type": "code",
      "source": [
        "# SELECT COUNT(*) AS USERS\n",
        "# FROM USER_INFO\n",
        "# WHERE YEAR(JOINED) = 2021\n",
        "# AND AGE BETWEEN 20 AND 29;"
      ],
      "metadata": {
        "id": "u5tj2u3VJ9VB"
      },
      "execution_count": null,
      "outputs": []
    },
    {
      "cell_type": "markdown",
      "source": [
        "# **22. 흉부외과 또는 일반외과 의사 목록 출력하기(250212)(SELECT)**"
      ],
      "metadata": {
        "id": "Da4BWhILvwJe"
      }
    },
    {
      "cell_type": "code",
      "source": [
        "# 문제 설명\n",
        "# 다음은 종합병원에 속한 의사 정보를 담은DOCTOR 테이블입니다.\n",
        "# DOCTOR 테이블은 다음과 같으며 DR_NAME, DR_ID, LCNS_NO, HIRE_YMD, MCDP_CD, TLNO는\n",
        "# 각각 의사이름, 의사ID, 면허번호, 고용일자, 진료과코드, 전화번호를 나타냅니다.\n",
        "\n",
        "# Column name\tType\tNullable\n",
        "# DR_NAME\tVARCHAR(20)\tFALSE\n",
        "# DR_ID\tVARCHAR(10)\tFALSE\n",
        "# LCNS_NO\tVARCHAR(30)\tFALSE\n",
        "# HIRE_YMD\tDATE\tFALSE\n",
        "# MCDP_CD\tVARCHAR(6)\tTRUE\n",
        "# TLNO\tVARCHAR(50)\tTRUE\n",
        "# 문제\n",
        "# DOCTOR 테이블에서 진료과가 흉부외과(CS)이거나 일반외과(GS)인 의사의 이름, 의사ID, 진료과, 고용일자를 조회하는 SQL문을 작성해주세요.\n",
        "# 이때 결과는 고용일자를 기준으로 내림차순 정렬하고, 고용일자가 같다면 이름을 기준으로 오름차순 정렬해주세요.\n",
        "\n",
        "# 예시\n",
        "# DOCTOR 테이블이 다음과 같을 때\n",
        "\n",
        "# DR_NAME\tDR_ID\tLCNS_NO\tHIRE_YMD\tMCDP_CD\tTLNO\n",
        "# 루피\tDR20090029\tLC00010001\t2009-03-01\tCS\t01085482011\n",
        "# 패티\tDR20090001\tLC00010901\t2009-07-01\tCS\t01085220122\n",
        "# 뽀로로\tDR20170123\tLC00091201\t2017-03-01\tGS\t01034969210\n",
        "# 티거\tDR20100011\tLC00011201\t2010-03-01\tNP\t01034229818\n",
        "# 품바\tDR20090231\tLC00011302\t2015-11-01\tOS\t01049840278\n",
        "# 티몬\tDR20090112\tLC00011162\t2010-03-01\tFM\t01094622190\n",
        "# 니모\tDR20200012\tLC00911162\t2020-03-01\tCS\t01089483921\n",
        "# 오로라\tDR20100031\tLC00010327\t2010-11-01\tOS\t01098428957\n",
        "# 자스민\tDR20100032\tLC00010192\t2010-03-01\tGS\t01023981922\n",
        "# 벨\tDR20100039\tLC00010562\t2010-07-01\tGS\t01058390758\n",
        "# SQL을 실행하면 다음과 같이 출력되어야 합니다.\n",
        "\n",
        "# DR_NAME\tDR_ID\tMCDP_CD\tHIRE_YMD\n",
        "# 니모\tDR20200012\tCS\t2020-03-01\n",
        "# 뽀로로\tDR20170123\tGS\t2017-03-01\n",
        "# 벨\tDR20100039\tGS\t2010-07-01\n",
        "# 자스민\tDR20100032\tGS\t2010-03-01\n",
        "# 패티\tDR20090001\tCS\t2009-07-01\n",
        "# 루피\tDR20090029\tCS\t2009-03-01\n",
        "\n",
        "# 주의사항\n",
        "# 날짜 포맷은 예시와 동일하게 나와야합니다."
      ],
      "metadata": {
        "id": "FZmHQAfAv3ix"
      },
      "execution_count": null,
      "outputs": []
    },
    {
      "cell_type": "markdown",
      "source": [
        "1) 내 코드"
      ],
      "metadata": {
        "id": "U8s6Wo-YwBBE"
      }
    },
    {
      "cell_type": "code",
      "source": [
        "# SELECT DR_NAME, DR_ID, MCDP_CD, DATE_FORMAT(HIRE_YMD, '%Y-%m-%d')\n",
        "# FROM DOCTOR\n",
        "# WHERE MCDP_CD = 'GS'\n",
        "# OR MCDP_CD = 'CS'\n",
        "# ORDER BY HIRE_YMD DESC, DR_NAME ASC"
      ],
      "metadata": {
        "id": "O83jRojPwB9M"
      },
      "execution_count": null,
      "outputs": []
    },
    {
      "cell_type": "markdown",
      "source": [
        "# **23. 조건에 맞는 아이템들의 가격의 총합 구하기(250213)(SUN, MAX, MIN)**"
      ],
      "metadata": {
        "id": "4g1pUQbPAlbh"
      }
    },
    {
      "cell_type": "code",
      "source": [
        "# 문제 설명\n",
        "# 다음은 어느 한 게임에서 사용되는 아이템들의 아이템 정보를 담은 ITEM_INFO 테이블입니다.\n",
        "# ITEM_INFO 테이블은 다음과 같으며, ITEM_ID, ITEM_NAME, RARITY, PRICE는 각각 아이템 ID, 아이템 명, 아이템의 희귀도, 아이템의 가격을 나타냅니다.\n",
        "\n",
        "# Column name\tType\tNullable\n",
        "# ITEM_ID\tINTEGER\tFALSE\n",
        "# ITEM_NAME\tVARCHAR(N)\tFALSE\n",
        "# RARITY\tINTEGER\tFALSE\n",
        "# PRICE\tINTEGER\tFALSE\n",
        "# 문제\n",
        "# ITEM_INFO 테이블에서 희귀도가 'LEGEND'인 아이템들의 가격의 총합을 구하는 SQL문을 작성해 주세요.\n",
        "# 이때 컬럼명은 'TOTAL_PRICE'로 지정해 주세요.\n",
        "\n",
        "# 예시\n",
        "# 예를 들어 ITEM_INFO 테이블이 다음과 같다면\n",
        "\n",
        "# ITEM_ID\tITEM_NAME\tRARITY\tPRICE\n",
        "# 0\tITEM_A\tCOMMON\t10000\n",
        "# 1\tITEM_B\tLEGEND\t9000\n",
        "# 2\tITEM_C\tLEGEND\t11000\n",
        "# 3\tITEM_D\tUNIQUE\t10000\n",
        "# 4\tITEM_E\tLEGEND\t12000\n",
        "# 조건에 해당되는 아이템의 아이템 ID는 1, 2, 4이며 각 아이템들의 가격은 9000, 11000, 12000 이므로 조건에 해당되는 아이템들의 가격의 합은 다음과 같습니다.\n",
        "\n",
        "# TOTAL_PRICE\n",
        "# 32000"
      ],
      "metadata": {
        "id": "aVnIBy3QAs69"
      },
      "execution_count": null,
      "outputs": []
    },
    {
      "cell_type": "markdown",
      "source": [
        "1) 내 코드"
      ],
      "metadata": {
        "id": "TEVLSPWOA9fh"
      }
    },
    {
      "cell_type": "code",
      "source": [
        "# SELECT SUM(PRICE) AS TOTAL_PRICE\n",
        "# FROM ITEM_INFO\n",
        "# WHERE RARITY = 'LEGEND'"
      ],
      "metadata": {
        "id": "M6l_d3RfA-eX"
      },
      "execution_count": null,
      "outputs": []
    },
    {
      "cell_type": "markdown",
      "source": [
        "# **24. 카테고리별 상품 개수 구하기(250217)(String, Date)**"
      ],
      "metadata": {
        "id": "esO2X3slwFhd"
      }
    },
    {
      "cell_type": "code",
      "source": [
        "# 문제 설명\n",
        "# 다음은 어느 의류 쇼핑몰에서 판매중인 상품들의 정보를 담은 PRODUCT 테이블입니다.\n",
        "# PRODUCT 테이블은 아래와 같은 구조로 되어있으며, PRODUCT_ID, PRODUCT_CODE, PRICE는 각각 상품 ID, 상품코드, 판매가를 나타냅니다.\n",
        "\n",
        "# Column name\tType\tNullable\n",
        "# PRODUCT_ID\tINTEGER\tFALSE\n",
        "# PRODUCT_CODE\tVARCHAR(8)\tFALSE\n",
        "# PRICE\tINTEGER\tFALSE\n",
        "# 상품 별로 중복되지 않는 8자리 상품코드 값을 가지며, 앞 2자리는 카테고리 코드를 의미합니다.\n",
        "\n",
        "# 문제\n",
        "# PRODUCT 테이블에서 상품 카테고리 코드(PRODUCT_CODE 앞 2자리) 별 상품 개수를 출력하는 SQL문을 작성해주세요. 결과는 상품 카테고리 코드를 기준으로 오름차순 정렬해주세요.\n",
        "\n",
        "# 예시\n",
        "# 예를 들어 PRODUCT 테이블이 다음과 같다면\n",
        "\n",
        "# PRODUCT_ID\tPRODUCT_CODE\tPRICE\n",
        "# 1\tA1000011\t10000\n",
        "# 2\tA1000045\t9000\n",
        "# 3\tC3000002\t22000\n",
        "# 4\tC3000006\t15000\n",
        "# 5\tC3000010\t30000\n",
        "# 6\tK1000023\t17000\n",
        "# 상품 카테고리 코드 별 상품은 아래와 같으므로,\n",
        "\n",
        "# A1: PRODUCT_ID가 1, 2 인 상품\n",
        "# C3: PRODUCT_ID가 3, 4, 5 인 상품\n",
        "# K1: PRODUCT_ID가 6 인 상품\n",
        "# 다음과 같은 결과가 나와야 합니다.\n",
        "\n",
        "# CATEGORY\tPRODUCTS\n",
        "# A1\t2\n",
        "# C3\t3\n",
        "# K1\t1"
      ],
      "metadata": {
        "id": "_wm8tH87wK7E"
      },
      "execution_count": null,
      "outputs": []
    },
    {
      "cell_type": "markdown",
      "source": [
        "1) 내가 쓴 코드"
      ],
      "metadata": {
        "id": "MRKoa6L4xF97"
      }
    },
    {
      "cell_type": "code",
      "source": [
        "# SELECT LEFT(PRODUCT_CODE, 2) as CATEGORY, COUNT(*) as PRODUCTS\n",
        "# FROM PRODUCT\n",
        "# GROUP BY LEFT(PRODUCT_CODE, 2)\n",
        "# ORDER BY PRODUCT_CODE"
      ],
      "metadata": {
        "id": "D6wIkYiHxG6_"
      },
      "execution_count": null,
      "outputs": []
    }
  ]
}